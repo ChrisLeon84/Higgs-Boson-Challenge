{
 "cells": [
  {
   "cell_type": "code",
   "execution_count": 2,
   "metadata": {
    "collapsed": true
   },
   "outputs": [],
   "source": [
    "%matplotlib inline\n",
    "import numpy as np\n",
    "import matplotlib.pyplot as plt\n",
    "import pandas as pd"
   ]
  },
  {
   "cell_type": "markdown",
   "metadata": {},
   "source": [
    "## Load Data"
   ]
  },
  {
   "cell_type": "markdown",
   "metadata": {},
   "source": [
    "Dropped only phi features"
   ]
  },
  {
   "cell_type": "code",
   "execution_count": 3,
   "metadata": {},
   "outputs": [
    {
     "data": {
      "text/html": [
       "<div>\n",
       "<table border=\"1\" class=\"dataframe\">\n",
       "  <thead>\n",
       "    <tr style=\"text-align: right;\">\n",
       "      <th></th>\n",
       "      <th>EventId</th>\n",
       "      <th>DER_mass_MMC</th>\n",
       "      <th>DER_mass_transverse_met_lep</th>\n",
       "      <th>DER_mass_vis</th>\n",
       "      <th>DER_pt_h</th>\n",
       "      <th>DER_deltaeta_jet_jet</th>\n",
       "      <th>DER_mass_jet_jet</th>\n",
       "      <th>DER_prodeta_jet_jet</th>\n",
       "      <th>DER_deltar_tau_lep</th>\n",
       "      <th>DER_pt_tot</th>\n",
       "      <th>...</th>\n",
       "      <th>PRI_jet_num</th>\n",
       "      <th>PRI_jet_leading_pt</th>\n",
       "      <th>PRI_jet_leading_eta</th>\n",
       "      <th>PRI_jet_leading_phi</th>\n",
       "      <th>PRI_jet_subleading_pt</th>\n",
       "      <th>PRI_jet_subleading_eta</th>\n",
       "      <th>PRI_jet_subleading_phi</th>\n",
       "      <th>PRI_jet_all_pt</th>\n",
       "      <th>Weight</th>\n",
       "      <th>Label</th>\n",
       "    </tr>\n",
       "  </thead>\n",
       "  <tbody>\n",
       "    <tr>\n",
       "      <th>0</th>\n",
       "      <td>100000</td>\n",
       "      <td>138.470</td>\n",
       "      <td>51.655</td>\n",
       "      <td>97.827</td>\n",
       "      <td>27.980</td>\n",
       "      <td>0.91</td>\n",
       "      <td>124.711</td>\n",
       "      <td>2.666</td>\n",
       "      <td>3.064</td>\n",
       "      <td>41.928</td>\n",
       "      <td>...</td>\n",
       "      <td>2</td>\n",
       "      <td>67.435</td>\n",
       "      <td>2.150</td>\n",
       "      <td>0.444</td>\n",
       "      <td>46.062</td>\n",
       "      <td>1.24</td>\n",
       "      <td>-2.475</td>\n",
       "      <td>113.497</td>\n",
       "      <td>0.002653</td>\n",
       "      <td>s</td>\n",
       "    </tr>\n",
       "    <tr>\n",
       "      <th>1</th>\n",
       "      <td>100001</td>\n",
       "      <td>160.937</td>\n",
       "      <td>68.768</td>\n",
       "      <td>103.235</td>\n",
       "      <td>48.146</td>\n",
       "      <td>-999.00</td>\n",
       "      <td>-999.000</td>\n",
       "      <td>-999.000</td>\n",
       "      <td>3.473</td>\n",
       "      <td>2.078</td>\n",
       "      <td>...</td>\n",
       "      <td>1</td>\n",
       "      <td>46.226</td>\n",
       "      <td>0.725</td>\n",
       "      <td>1.158</td>\n",
       "      <td>-999.000</td>\n",
       "      <td>-999.00</td>\n",
       "      <td>-999.000</td>\n",
       "      <td>46.226</td>\n",
       "      <td>2.233584</td>\n",
       "      <td>b</td>\n",
       "    </tr>\n",
       "    <tr>\n",
       "      <th>2</th>\n",
       "      <td>100002</td>\n",
       "      <td>-999.000</td>\n",
       "      <td>162.172</td>\n",
       "      <td>125.953</td>\n",
       "      <td>35.635</td>\n",
       "      <td>-999.00</td>\n",
       "      <td>-999.000</td>\n",
       "      <td>-999.000</td>\n",
       "      <td>3.148</td>\n",
       "      <td>9.336</td>\n",
       "      <td>...</td>\n",
       "      <td>1</td>\n",
       "      <td>44.251</td>\n",
       "      <td>2.053</td>\n",
       "      <td>-2.028</td>\n",
       "      <td>-999.000</td>\n",
       "      <td>-999.00</td>\n",
       "      <td>-999.000</td>\n",
       "      <td>44.251</td>\n",
       "      <td>2.347389</td>\n",
       "      <td>b</td>\n",
       "    </tr>\n",
       "    <tr>\n",
       "      <th>3</th>\n",
       "      <td>100003</td>\n",
       "      <td>143.905</td>\n",
       "      <td>81.417</td>\n",
       "      <td>80.943</td>\n",
       "      <td>0.414</td>\n",
       "      <td>-999.00</td>\n",
       "      <td>-999.000</td>\n",
       "      <td>-999.000</td>\n",
       "      <td>3.310</td>\n",
       "      <td>0.414</td>\n",
       "      <td>...</td>\n",
       "      <td>0</td>\n",
       "      <td>-999.000</td>\n",
       "      <td>-999.000</td>\n",
       "      <td>-999.000</td>\n",
       "      <td>-999.000</td>\n",
       "      <td>-999.00</td>\n",
       "      <td>-999.000</td>\n",
       "      <td>-0.000</td>\n",
       "      <td>5.446378</td>\n",
       "      <td>b</td>\n",
       "    </tr>\n",
       "    <tr>\n",
       "      <th>4</th>\n",
       "      <td>100004</td>\n",
       "      <td>175.864</td>\n",
       "      <td>16.915</td>\n",
       "      <td>134.805</td>\n",
       "      <td>16.405</td>\n",
       "      <td>-999.00</td>\n",
       "      <td>-999.000</td>\n",
       "      <td>-999.000</td>\n",
       "      <td>3.891</td>\n",
       "      <td>16.405</td>\n",
       "      <td>...</td>\n",
       "      <td>0</td>\n",
       "      <td>-999.000</td>\n",
       "      <td>-999.000</td>\n",
       "      <td>-999.000</td>\n",
       "      <td>-999.000</td>\n",
       "      <td>-999.00</td>\n",
       "      <td>-999.000</td>\n",
       "      <td>0.000</td>\n",
       "      <td>6.245333</td>\n",
       "      <td>b</td>\n",
       "    </tr>\n",
       "  </tbody>\n",
       "</table>\n",
       "<p>5 rows × 33 columns</p>\n",
       "</div>"
      ],
      "text/plain": [
       "   EventId  DER_mass_MMC  DER_mass_transverse_met_lep  DER_mass_vis  DER_pt_h  \\\n",
       "0   100000       138.470                       51.655        97.827    27.980   \n",
       "1   100001       160.937                       68.768       103.235    48.146   \n",
       "2   100002      -999.000                      162.172       125.953    35.635   \n",
       "3   100003       143.905                       81.417        80.943     0.414   \n",
       "4   100004       175.864                       16.915       134.805    16.405   \n",
       "\n",
       "   DER_deltaeta_jet_jet  DER_mass_jet_jet  DER_prodeta_jet_jet  \\\n",
       "0                  0.91           124.711                2.666   \n",
       "1               -999.00          -999.000             -999.000   \n",
       "2               -999.00          -999.000             -999.000   \n",
       "3               -999.00          -999.000             -999.000   \n",
       "4               -999.00          -999.000             -999.000   \n",
       "\n",
       "   DER_deltar_tau_lep  DER_pt_tot  ...    PRI_jet_num  PRI_jet_leading_pt  \\\n",
       "0               3.064      41.928  ...              2              67.435   \n",
       "1               3.473       2.078  ...              1              46.226   \n",
       "2               3.148       9.336  ...              1              44.251   \n",
       "3               3.310       0.414  ...              0            -999.000   \n",
       "4               3.891      16.405  ...              0            -999.000   \n",
       "\n",
       "   PRI_jet_leading_eta  PRI_jet_leading_phi  PRI_jet_subleading_pt  \\\n",
       "0                2.150                0.444                 46.062   \n",
       "1                0.725                1.158               -999.000   \n",
       "2                2.053               -2.028               -999.000   \n",
       "3             -999.000             -999.000               -999.000   \n",
       "4             -999.000             -999.000               -999.000   \n",
       "\n",
       "   PRI_jet_subleading_eta  PRI_jet_subleading_phi  PRI_jet_all_pt    Weight  \\\n",
       "0                    1.24                  -2.475         113.497  0.002653   \n",
       "1                 -999.00                -999.000          46.226  2.233584   \n",
       "2                 -999.00                -999.000          44.251  2.347389   \n",
       "3                 -999.00                -999.000          -0.000  5.446378   \n",
       "4                 -999.00                -999.000           0.000  6.245333   \n",
       "\n",
       "   Label  \n",
       "0      s  \n",
       "1      b  \n",
       "2      b  \n",
       "3      b  \n",
       "4      b  \n",
       "\n",
       "[5 rows x 33 columns]"
      ]
     },
     "execution_count": 3,
     "metadata": {},
     "output_type": "execute_result"
    }
   ],
   "source": [
    "rawdata = pd.read_csv('training.csv')\n",
    "rawdata.head()"
   ]
  },
  {
   "cell_type": "code",
   "execution_count": 4,
   "metadata": {},
   "outputs": [
    {
     "data": {
      "text/html": [
       "<div>\n",
       "<table border=\"1\" class=\"dataframe\">\n",
       "  <thead>\n",
       "    <tr style=\"text-align: right;\">\n",
       "      <th></th>\n",
       "      <th>EventId</th>\n",
       "      <th>DER_mass_MMC</th>\n",
       "      <th>DER_mass_transverse_met_lep</th>\n",
       "      <th>DER_mass_vis</th>\n",
       "      <th>DER_pt_h</th>\n",
       "      <th>DER_deltaeta_jet_jet</th>\n",
       "      <th>DER_mass_jet_jet</th>\n",
       "      <th>DER_prodeta_jet_jet</th>\n",
       "      <th>DER_deltar_tau_lep</th>\n",
       "      <th>DER_pt_tot</th>\n",
       "      <th>...</th>\n",
       "      <th>PRI_met_sumet</th>\n",
       "      <th>PRI_jet_num</th>\n",
       "      <th>PRI_jet_leading_pt</th>\n",
       "      <th>PRI_jet_leading_eta</th>\n",
       "      <th>PRI_jet_leading_phi</th>\n",
       "      <th>PRI_jet_subleading_pt</th>\n",
       "      <th>PRI_jet_subleading_eta</th>\n",
       "      <th>PRI_jet_subleading_phi</th>\n",
       "      <th>PRI_jet_all_pt</th>\n",
       "      <th>Weight</th>\n",
       "    </tr>\n",
       "  </thead>\n",
       "  <tbody>\n",
       "    <tr>\n",
       "      <th>count</th>\n",
       "      <td>250000.000000</td>\n",
       "      <td>211886.000000</td>\n",
       "      <td>250000.000000</td>\n",
       "      <td>250000.000000</td>\n",
       "      <td>250000.000000</td>\n",
       "      <td>72543.000000</td>\n",
       "      <td>72543.000000</td>\n",
       "      <td>72543.000000</td>\n",
       "      <td>250000.000000</td>\n",
       "      <td>250000.000000</td>\n",
       "      <td>...</td>\n",
       "      <td>250000.000000</td>\n",
       "      <td>250000.000000</td>\n",
       "      <td>150087.000000</td>\n",
       "      <td>150087.000000</td>\n",
       "      <td>150087.000000</td>\n",
       "      <td>72543.000000</td>\n",
       "      <td>72543.000000</td>\n",
       "      <td>72543.000000</td>\n",
       "      <td>250000.000000</td>\n",
       "      <td>250000.000000</td>\n",
       "    </tr>\n",
       "    <tr>\n",
       "      <th>mean</th>\n",
       "      <td>224999.500000</td>\n",
       "      <td>121.858528</td>\n",
       "      <td>49.239819</td>\n",
       "      <td>81.181982</td>\n",
       "      <td>57.895962</td>\n",
       "      <td>2.403735</td>\n",
       "      <td>371.783360</td>\n",
       "      <td>-0.821688</td>\n",
       "      <td>2.373100</td>\n",
       "      <td>18.917332</td>\n",
       "      <td>...</td>\n",
       "      <td>209.797178</td>\n",
       "      <td>0.979176</td>\n",
       "      <td>84.822105</td>\n",
       "      <td>-0.003275</td>\n",
       "      <td>-0.012393</td>\n",
       "      <td>57.679474</td>\n",
       "      <td>-0.011845</td>\n",
       "      <td>-0.001582</td>\n",
       "      <td>73.064591</td>\n",
       "      <td>1.646767</td>\n",
       "    </tr>\n",
       "    <tr>\n",
       "      <th>std</th>\n",
       "      <td>72168.927986</td>\n",
       "      <td>57.298157</td>\n",
       "      <td>35.344886</td>\n",
       "      <td>40.828691</td>\n",
       "      <td>63.655682</td>\n",
       "      <td>1.742226</td>\n",
       "      <td>397.699325</td>\n",
       "      <td>3.584362</td>\n",
       "      <td>0.782911</td>\n",
       "      <td>22.273494</td>\n",
       "      <td>...</td>\n",
       "      <td>126.499506</td>\n",
       "      <td>0.977426</td>\n",
       "      <td>60.662276</td>\n",
       "      <td>1.784546</td>\n",
       "      <td>1.813385</td>\n",
       "      <td>31.985782</td>\n",
       "      <td>2.031743</td>\n",
       "      <td>1.816950</td>\n",
       "      <td>98.015662</td>\n",
       "      <td>1.875103</td>\n",
       "    </tr>\n",
       "    <tr>\n",
       "      <th>min</th>\n",
       "      <td>100000.000000</td>\n",
       "      <td>9.044000</td>\n",
       "      <td>0.000000</td>\n",
       "      <td>6.329000</td>\n",
       "      <td>0.000000</td>\n",
       "      <td>0.000000</td>\n",
       "      <td>13.602000</td>\n",
       "      <td>-18.066000</td>\n",
       "      <td>0.208000</td>\n",
       "      <td>0.000000</td>\n",
       "      <td>...</td>\n",
       "      <td>13.678000</td>\n",
       "      <td>0.000000</td>\n",
       "      <td>30.000000</td>\n",
       "      <td>-4.499000</td>\n",
       "      <td>-3.142000</td>\n",
       "      <td>30.000000</td>\n",
       "      <td>-4.500000</td>\n",
       "      <td>-3.142000</td>\n",
       "      <td>0.000000</td>\n",
       "      <td>0.001502</td>\n",
       "    </tr>\n",
       "    <tr>\n",
       "      <th>25%</th>\n",
       "      <td>162499.750000</td>\n",
       "      <td>91.885250</td>\n",
       "      <td>19.241000</td>\n",
       "      <td>59.388750</td>\n",
       "      <td>14.068750</td>\n",
       "      <td>0.882500</td>\n",
       "      <td>111.977000</td>\n",
       "      <td>-2.629000</td>\n",
       "      <td>1.810000</td>\n",
       "      <td>2.841000</td>\n",
       "      <td>...</td>\n",
       "      <td>123.017500</td>\n",
       "      <td>0.000000</td>\n",
       "      <td>44.422500</td>\n",
       "      <td>-1.342000</td>\n",
       "      <td>-1.584000</td>\n",
       "      <td>37.312000</td>\n",
       "      <td>-1.612000</td>\n",
       "      <td>-1.576500</td>\n",
       "      <td>0.000000</td>\n",
       "      <td>0.018636</td>\n",
       "    </tr>\n",
       "    <tr>\n",
       "      <th>50%</th>\n",
       "      <td>224999.500000</td>\n",
       "      <td>112.406000</td>\n",
       "      <td>46.524000</td>\n",
       "      <td>73.752000</td>\n",
       "      <td>38.467500</td>\n",
       "      <td>2.107000</td>\n",
       "      <td>225.885000</td>\n",
       "      <td>-0.244000</td>\n",
       "      <td>2.491500</td>\n",
       "      <td>12.315500</td>\n",
       "      <td>...</td>\n",
       "      <td>179.739000</td>\n",
       "      <td>1.000000</td>\n",
       "      <td>65.561000</td>\n",
       "      <td>0.000000</td>\n",
       "      <td>-0.033000</td>\n",
       "      <td>47.902000</td>\n",
       "      <td>-0.010000</td>\n",
       "      <td>-0.002000</td>\n",
       "      <td>40.512500</td>\n",
       "      <td>1.156188</td>\n",
       "    </tr>\n",
       "    <tr>\n",
       "      <th>75%</th>\n",
       "      <td>287499.250000</td>\n",
       "      <td>135.482000</td>\n",
       "      <td>73.598000</td>\n",
       "      <td>92.259000</td>\n",
       "      <td>79.169000</td>\n",
       "      <td>3.690000</td>\n",
       "      <td>478.226000</td>\n",
       "      <td>0.958000</td>\n",
       "      <td>2.961000</td>\n",
       "      <td>27.591000</td>\n",
       "      <td>...</td>\n",
       "      <td>263.379250</td>\n",
       "      <td>2.000000</td>\n",
       "      <td>103.342000</td>\n",
       "      <td>1.336000</td>\n",
       "      <td>1.562000</td>\n",
       "      <td>66.637000</td>\n",
       "      <td>1.589500</td>\n",
       "      <td>1.576000</td>\n",
       "      <td>109.933750</td>\n",
       "      <td>2.404128</td>\n",
       "    </tr>\n",
       "    <tr>\n",
       "      <th>max</th>\n",
       "      <td>349999.000000</td>\n",
       "      <td>1192.026000</td>\n",
       "      <td>690.075000</td>\n",
       "      <td>1349.351000</td>\n",
       "      <td>2834.999000</td>\n",
       "      <td>8.503000</td>\n",
       "      <td>4974.979000</td>\n",
       "      <td>16.690000</td>\n",
       "      <td>5.684000</td>\n",
       "      <td>2834.999000</td>\n",
       "      <td>...</td>\n",
       "      <td>2003.976000</td>\n",
       "      <td>3.000000</td>\n",
       "      <td>1120.573000</td>\n",
       "      <td>4.499000</td>\n",
       "      <td>3.141000</td>\n",
       "      <td>721.456000</td>\n",
       "      <td>4.500000</td>\n",
       "      <td>3.142000</td>\n",
       "      <td>1633.433000</td>\n",
       "      <td>7.822543</td>\n",
       "    </tr>\n",
       "  </tbody>\n",
       "</table>\n",
       "<p>8 rows × 32 columns</p>\n",
       "</div>"
      ],
      "text/plain": [
       "             EventId   DER_mass_MMC  DER_mass_transverse_met_lep  \\\n",
       "count  250000.000000  211886.000000                250000.000000   \n",
       "mean   224999.500000     121.858528                    49.239819   \n",
       "std     72168.927986      57.298157                    35.344886   \n",
       "min    100000.000000       9.044000                     0.000000   \n",
       "25%    162499.750000      91.885250                    19.241000   \n",
       "50%    224999.500000     112.406000                    46.524000   \n",
       "75%    287499.250000     135.482000                    73.598000   \n",
       "max    349999.000000    1192.026000                   690.075000   \n",
       "\n",
       "        DER_mass_vis       DER_pt_h  DER_deltaeta_jet_jet  DER_mass_jet_jet  \\\n",
       "count  250000.000000  250000.000000          72543.000000      72543.000000   \n",
       "mean       81.181982      57.895962              2.403735        371.783360   \n",
       "std        40.828691      63.655682              1.742226        397.699325   \n",
       "min         6.329000       0.000000              0.000000         13.602000   \n",
       "25%        59.388750      14.068750              0.882500        111.977000   \n",
       "50%        73.752000      38.467500              2.107000        225.885000   \n",
       "75%        92.259000      79.169000              3.690000        478.226000   \n",
       "max      1349.351000    2834.999000              8.503000       4974.979000   \n",
       "\n",
       "       DER_prodeta_jet_jet  DER_deltar_tau_lep     DER_pt_tot      ...        \\\n",
       "count         72543.000000       250000.000000  250000.000000      ...         \n",
       "mean             -0.821688            2.373100      18.917332      ...         \n",
       "std               3.584362            0.782911      22.273494      ...         \n",
       "min             -18.066000            0.208000       0.000000      ...         \n",
       "25%              -2.629000            1.810000       2.841000      ...         \n",
       "50%              -0.244000            2.491500      12.315500      ...         \n",
       "75%               0.958000            2.961000      27.591000      ...         \n",
       "max              16.690000            5.684000    2834.999000      ...         \n",
       "\n",
       "       PRI_met_sumet    PRI_jet_num  PRI_jet_leading_pt  PRI_jet_leading_eta  \\\n",
       "count  250000.000000  250000.000000       150087.000000        150087.000000   \n",
       "mean      209.797178       0.979176           84.822105            -0.003275   \n",
       "std       126.499506       0.977426           60.662276             1.784546   \n",
       "min        13.678000       0.000000           30.000000            -4.499000   \n",
       "25%       123.017500       0.000000           44.422500            -1.342000   \n",
       "50%       179.739000       1.000000           65.561000             0.000000   \n",
       "75%       263.379250       2.000000          103.342000             1.336000   \n",
       "max      2003.976000       3.000000         1120.573000             4.499000   \n",
       "\n",
       "       PRI_jet_leading_phi  PRI_jet_subleading_pt  PRI_jet_subleading_eta  \\\n",
       "count        150087.000000           72543.000000            72543.000000   \n",
       "mean             -0.012393              57.679474               -0.011845   \n",
       "std               1.813385              31.985782                2.031743   \n",
       "min              -3.142000              30.000000               -4.500000   \n",
       "25%              -1.584000              37.312000               -1.612000   \n",
       "50%              -0.033000              47.902000               -0.010000   \n",
       "75%               1.562000              66.637000                1.589500   \n",
       "max               3.141000             721.456000                4.500000   \n",
       "\n",
       "       PRI_jet_subleading_phi  PRI_jet_all_pt         Weight  \n",
       "count            72543.000000   250000.000000  250000.000000  \n",
       "mean                -0.001582       73.064591       1.646767  \n",
       "std                  1.816950       98.015662       1.875103  \n",
       "min                 -3.142000        0.000000       0.001502  \n",
       "25%                 -1.576500        0.000000       0.018636  \n",
       "50%                 -0.002000       40.512500       1.156188  \n",
       "75%                  1.576000      109.933750       2.404128  \n",
       "max                  3.142000     1633.433000       7.822543  \n",
       "\n",
       "[8 rows x 32 columns]"
      ]
     },
     "execution_count": 4,
     "metadata": {},
     "output_type": "execute_result"
    }
   ],
   "source": [
    "rawdata.replace(-999.000, np.nan).describe()"
   ]
  },
  {
   "cell_type": "code",
   "execution_count": 26,
   "metadata": {
    "collapsed": true
   },
   "outputs": [],
   "source": [
    "Weight = rawdata['Weight']\n",
    "\n",
    "data = rawdata.drop(['EventId', 'Weight'], axis =1) \n",
    "data = pd.DataFrame(data)\n",
    "\n",
    "# Replace -999.000 with NaN, then drop missing data rows\n",
    "data = data.replace(-999.000, np.nan)"
   ]
  },
  {
   "cell_type": "code",
   "execution_count": 27,
   "metadata": {
    "collapsed": true
   },
   "outputs": [],
   "source": [
    "data = data.fillna(data.mean())\n",
    "data = data.sample(50000)"
   ]
  },
  {
   "cell_type": "code",
   "execution_count": 28,
   "metadata": {
    "collapsed": true
   },
   "outputs": [],
   "source": [
    "dropped = ['PRI_tau_phi' ,'PRI_lep_phi' , 'PRI_met_phi' ,'PRI_jet_leading_phi','PRI_jet_subleading_phi','Label']   \n",
    "X_train = data.drop(dropped, axis=1)\n",
    "Y_train = data['Label'].replace(['b','s'], [0,1])"
   ]
  },
  {
   "cell_type": "code",
   "execution_count": 30,
   "metadata": {},
   "outputs": [
    {
     "data": {
      "text/html": [
       "<div>\n",
       "<table border=\"1\" class=\"dataframe\">\n",
       "  <thead>\n",
       "    <tr style=\"text-align: right;\">\n",
       "      <th></th>\n",
       "      <th>DER_mass_MMC</th>\n",
       "      <th>DER_mass_transverse_met_lep</th>\n",
       "      <th>DER_mass_vis</th>\n",
       "      <th>DER_pt_h</th>\n",
       "      <th>DER_deltaeta_jet_jet</th>\n",
       "      <th>DER_mass_jet_jet</th>\n",
       "      <th>DER_prodeta_jet_jet</th>\n",
       "      <th>DER_deltar_tau_lep</th>\n",
       "      <th>DER_pt_tot</th>\n",
       "      <th>DER_sum_pt</th>\n",
       "      <th>...</th>\n",
       "      <th>PRI_lep_pt</th>\n",
       "      <th>PRI_lep_eta</th>\n",
       "      <th>PRI_met</th>\n",
       "      <th>PRI_met_sumet</th>\n",
       "      <th>PRI_jet_num</th>\n",
       "      <th>PRI_jet_leading_pt</th>\n",
       "      <th>PRI_jet_leading_eta</th>\n",
       "      <th>PRI_jet_subleading_pt</th>\n",
       "      <th>PRI_jet_subleading_eta</th>\n",
       "      <th>PRI_jet_all_pt</th>\n",
       "    </tr>\n",
       "  </thead>\n",
       "  <tbody>\n",
       "    <tr>\n",
       "      <th>99826</th>\n",
       "      <td>-0.545964</td>\n",
       "      <td>-1.334378</td>\n",
       "      <td>-0.546843</td>\n",
       "      <td>-0.410298</td>\n",
       "      <td>-0.010552</td>\n",
       "      <td>-0.007378</td>\n",
       "      <td>0.007372</td>\n",
       "      <td>0.778662</td>\n",
       "      <td>-0.865778</td>\n",
       "      <td>-0.612818</td>\n",
       "      <td>...</td>\n",
       "      <td>-0.760295</td>\n",
       "      <td>-0.366640</td>\n",
       "      <td>-0.500658</td>\n",
       "      <td>-0.924534</td>\n",
       "      <td>0.023663</td>\n",
       "      <td>-1.141649</td>\n",
       "      <td>-0.723435</td>\n",
       "      <td>0.006649</td>\n",
       "      <td>-0.000162</td>\n",
       "      <td>-0.418026</td>\n",
       "    </tr>\n",
       "    <tr>\n",
       "      <th>219995</th>\n",
       "      <td>0.258664</td>\n",
       "      <td>-0.536787</td>\n",
       "      <td>0.356898</td>\n",
       "      <td>-0.491688</td>\n",
       "      <td>-0.010552</td>\n",
       "      <td>-0.007378</td>\n",
       "      <td>0.007372</td>\n",
       "      <td>0.578576</td>\n",
       "      <td>0.451907</td>\n",
       "      <td>-0.092293</td>\n",
       "      <td>...</td>\n",
       "      <td>-0.131615</td>\n",
       "      <td>-0.184855</td>\n",
       "      <td>-1.038132</td>\n",
       "      <td>0.264716</td>\n",
       "      <td>0.023663</td>\n",
       "      <td>-0.660854</td>\n",
       "      <td>0.687319</td>\n",
       "      <td>0.006649</td>\n",
       "      <td>-0.000162</td>\n",
       "      <td>-0.189569</td>\n",
       "    </tr>\n",
       "    <tr>\n",
       "      <th>168665</th>\n",
       "      <td>-0.731871</td>\n",
       "      <td>-0.727577</td>\n",
       "      <td>-0.623924</td>\n",
       "      <td>-0.488449</td>\n",
       "      <td>-0.010552</td>\n",
       "      <td>-0.007378</td>\n",
       "      <td>0.007372</td>\n",
       "      <td>0.484946</td>\n",
       "      <td>1.863184</td>\n",
       "      <td>-0.196573</td>\n",
       "      <td>...</td>\n",
       "      <td>-0.818699</td>\n",
       "      <td>-0.802922</td>\n",
       "      <td>-0.800354</td>\n",
       "      <td>0.088404</td>\n",
       "      <td>0.023663</td>\n",
       "      <td>-0.135448</td>\n",
       "      <td>1.955775</td>\n",
       "      <td>0.006649</td>\n",
       "      <td>-0.000162</td>\n",
       "      <td>0.060086</td>\n",
       "    </tr>\n",
       "    <tr>\n",
       "      <th>78128</th>\n",
       "      <td>-0.549522</td>\n",
       "      <td>-0.573790</td>\n",
       "      <td>-0.407110</td>\n",
       "      <td>0.865426</td>\n",
       "      <td>-0.010552</td>\n",
       "      <td>-0.007378</td>\n",
       "      <td>0.007372</td>\n",
       "      <td>-1.041349</td>\n",
       "      <td>0.230983</td>\n",
       "      <td>0.277060</td>\n",
       "      <td>...</td>\n",
       "      <td>0.740097</td>\n",
       "      <td>-0.565022</td>\n",
       "      <td>0.415376</td>\n",
       "      <td>0.586222</td>\n",
       "      <td>0.023663</td>\n",
       "      <td>0.192630</td>\n",
       "      <td>-0.464713</td>\n",
       "      <td>0.006649</td>\n",
       "      <td>-0.000162</td>\n",
       "      <td>0.215977</td>\n",
       "    </tr>\n",
       "    <tr>\n",
       "      <th>233180</th>\n",
       "      <td>-0.471019</td>\n",
       "      <td>-0.706588</td>\n",
       "      <td>-0.556670</td>\n",
       "      <td>2.911492</td>\n",
       "      <td>-1.204262</td>\n",
       "      <td>0.865913</td>\n",
       "      <td>0.256379</td>\n",
       "      <td>-1.975082</td>\n",
       "      <td>2.916419</td>\n",
       "      <td>6.019253</td>\n",
       "      <td>...</td>\n",
       "      <td>1.010082</td>\n",
       "      <td>1.150866</td>\n",
       "      <td>2.193008</td>\n",
       "      <td>4.838661</td>\n",
       "      <td>2.074189</td>\n",
       "      <td>6.222448</td>\n",
       "      <td>0.266177</td>\n",
       "      <td>5.495385</td>\n",
       "      <td>-0.814181</td>\n",
       "      <td>6.559987</td>\n",
       "    </tr>\n",
       "  </tbody>\n",
       "</table>\n",
       "<p>5 rows × 25 columns</p>\n",
       "</div>"
      ],
      "text/plain": [
       "        DER_mass_MMC  DER_mass_transverse_met_lep  DER_mass_vis  DER_pt_h  \\\n",
       "99826      -0.545964                    -1.334378     -0.546843 -0.410298   \n",
       "219995      0.258664                    -0.536787      0.356898 -0.491688   \n",
       "168665     -0.731871                    -0.727577     -0.623924 -0.488449   \n",
       "78128      -0.549522                    -0.573790     -0.407110  0.865426   \n",
       "233180     -0.471019                    -0.706588     -0.556670  2.911492   \n",
       "\n",
       "        DER_deltaeta_jet_jet  DER_mass_jet_jet  DER_prodeta_jet_jet  \\\n",
       "99826              -0.010552         -0.007378             0.007372   \n",
       "219995             -0.010552         -0.007378             0.007372   \n",
       "168665             -0.010552         -0.007378             0.007372   \n",
       "78128              -0.010552         -0.007378             0.007372   \n",
       "233180             -1.204262          0.865913             0.256379   \n",
       "\n",
       "        DER_deltar_tau_lep  DER_pt_tot  DER_sum_pt       ...        \\\n",
       "99826             0.778662   -0.865778   -0.612818       ...         \n",
       "219995            0.578576    0.451907   -0.092293       ...         \n",
       "168665            0.484946    1.863184   -0.196573       ...         \n",
       "78128            -1.041349    0.230983    0.277060       ...         \n",
       "233180           -1.975082    2.916419    6.019253       ...         \n",
       "\n",
       "        PRI_lep_pt  PRI_lep_eta   PRI_met  PRI_met_sumet  PRI_jet_num  \\\n",
       "99826    -0.760295    -0.366640 -0.500658      -0.924534     0.023663   \n",
       "219995   -0.131615    -0.184855 -1.038132       0.264716     0.023663   \n",
       "168665   -0.818699    -0.802922 -0.800354       0.088404     0.023663   \n",
       "78128     0.740097    -0.565022  0.415376       0.586222     0.023663   \n",
       "233180    1.010082     1.150866  2.193008       4.838661     2.074189   \n",
       "\n",
       "        PRI_jet_leading_pt  PRI_jet_leading_eta  PRI_jet_subleading_pt  \\\n",
       "99826            -1.141649            -0.723435               0.006649   \n",
       "219995           -0.660854             0.687319               0.006649   \n",
       "168665           -0.135448             1.955775               0.006649   \n",
       "78128             0.192630            -0.464713               0.006649   \n",
       "233180            6.222448             0.266177               5.495385   \n",
       "\n",
       "        PRI_jet_subleading_eta  PRI_jet_all_pt  \n",
       "99826                -0.000162       -0.418026  \n",
       "219995               -0.000162       -0.189569  \n",
       "168665               -0.000162        0.060086  \n",
       "78128                -0.000162        0.215977  \n",
       "233180               -0.814181        6.559987  \n",
       "\n",
       "[5 rows x 25 columns]"
      ]
     },
     "execution_count": 30,
     "metadata": {},
     "output_type": "execute_result"
    }
   ],
   "source": [
    "X_train = (X_train - X_train.mean())/X_train.std()\n",
    "X_train.head()"
   ]
  },
  {
   "cell_type": "markdown",
   "metadata": {},
   "source": [
    "# Algorithms"
   ]
  },
  {
   "cell_type": "code",
   "execution_count": 9,
   "metadata": {
    "collapsed": true
   },
   "outputs": [],
   "source": [
    "from sklearn.pipeline import Pipeline\n",
    "from sklearn.model_selection import GridSearchCV\n",
    "from sklearn.model_selection import cross_val_score\n",
    "from sklearn.metrics import confusion_matrix\n",
    "import time\n",
    "\n",
    "def AMS2 (confusmat):\n",
    "    \"\"\"\n",
    "    Input:   Confusion Matrix\n",
    "    Output:  AMS2 score\n",
    "    \"\"\"\n",
    "    \n",
    "    tn, fp, fn, tp = confusmat.ravel()\n",
    "    s= tp/(tp+fn) \n",
    "    b= fp/(fp+tn)\n",
    "    \n",
    "    return np.sqrt( 2 *( (s+b)*np.log(1 +s/b) -s) )"
   ]
  },
  {
   "cell_type": "code",
   "execution_count": 10,
   "metadata": {
    "collapsed": true
   },
   "outputs": [],
   "source": [
    "trainnoNaN = pd.read_csv('Higgstrain.csv')\n",
    "\n",
    "XnoNaN_train = trainnoNaN .drop(dropped, axis=1)\n",
    "XnoNaN_train = XnoNaN_train.drop('Unnamed: 0', axis=1)\n",
    "YnoNaN_train = trainnoNaN ['Label'].replace(['b','s'], [0,1])"
   ]
  },
  {
   "cell_type": "code",
   "execution_count": 11,
   "metadata": {},
   "outputs": [
    {
     "data": {
      "text/html": [
       "<div>\n",
       "<table border=\"1\" class=\"dataframe\">\n",
       "  <thead>\n",
       "    <tr style=\"text-align: right;\">\n",
       "      <th></th>\n",
       "      <th>DER_mass_MMC</th>\n",
       "      <th>DER_mass_transverse_met_lep</th>\n",
       "      <th>DER_mass_vis</th>\n",
       "      <th>DER_pt_h</th>\n",
       "      <th>DER_deltar_tau_lep</th>\n",
       "      <th>DER_pt_tot</th>\n",
       "      <th>DER_sum_pt</th>\n",
       "      <th>DER_pt_ratio_lep_tau</th>\n",
       "      <th>DER_met_phi_centrality</th>\n",
       "      <th>DER_lep_eta_centrality</th>\n",
       "      <th>PRI_tau_pt</th>\n",
       "      <th>PRI_tau_eta</th>\n",
       "      <th>PRI_lep_pt</th>\n",
       "      <th>PRI_lep_eta</th>\n",
       "      <th>PRI_met</th>\n",
       "      <th>PRI_met_sumet</th>\n",
       "      <th>PRI_jet_num</th>\n",
       "      <th>PRI_jet_leading_pt</th>\n",
       "      <th>PRI_jet_leading_eta</th>\n",
       "      <th>PRI_jet_all_pt</th>\n",
       "    </tr>\n",
       "  </thead>\n",
       "  <tbody>\n",
       "    <tr>\n",
       "      <th>0</th>\n",
       "      <td>-0.308320</td>\n",
       "      <td>-1.113654</td>\n",
       "      <td>-0.330946</td>\n",
       "      <td>-1.169774</td>\n",
       "      <td>1.093017</td>\n",
       "      <td>0.290408</td>\n",
       "      <td>-0.391853</td>\n",
       "      <td>-0.643694</td>\n",
       "      <td>0.489879</td>\n",
       "      <td>1.156353</td>\n",
       "      <td>-0.327079</td>\n",
       "      <td>0.195375</td>\n",
       "      <td>-0.850906</td>\n",
       "      <td>0.670336</td>\n",
       "      <td>-0.734245</td>\n",
       "      <td>-0.680590</td>\n",
       "      <td>1.516787</td>\n",
       "      <td>-0.606501</td>\n",
       "      <td>-0.446520</td>\n",
       "      <td>-0.154394</td>\n",
       "    </tr>\n",
       "    <tr>\n",
       "      <th>1</th>\n",
       "      <td>-0.374869</td>\n",
       "      <td>-1.137812</td>\n",
       "      <td>0.032758</td>\n",
       "      <td>0.518143</td>\n",
       "      <td>-1.102991</td>\n",
       "      <td>1.224285</td>\n",
       "      <td>0.447762</td>\n",
       "      <td>-0.946620</td>\n",
       "      <td>0.508280</td>\n",
       "      <td>-1.136072</td>\n",
       "      <td>1.835976</td>\n",
       "      <td>1.702897</td>\n",
       "      <td>-0.293007</td>\n",
       "      <td>0.732979</td>\n",
       "      <td>-1.122930</td>\n",
       "      <td>0.279613</td>\n",
       "      <td>1.516787</td>\n",
       "      <td>-0.264872</td>\n",
       "      <td>0.130893</td>\n",
       "      <td>0.115269</td>\n",
       "    </tr>\n",
       "    <tr>\n",
       "      <th>2</th>\n",
       "      <td>0.336438</td>\n",
       "      <td>-1.005717</td>\n",
       "      <td>0.375088</td>\n",
       "      <td>-0.498063</td>\n",
       "      <td>0.452676</td>\n",
       "      <td>-0.905403</td>\n",
       "      <td>-0.637879</td>\n",
       "      <td>-1.015549</td>\n",
       "      <td>0.569978</td>\n",
       "      <td>-1.131056</td>\n",
       "      <td>0.867888</td>\n",
       "      <td>-0.317841</td>\n",
       "      <td>-0.915530</td>\n",
       "      <td>0.790611</td>\n",
       "      <td>-0.794351</td>\n",
       "      <td>-0.747570</td>\n",
       "      <td>-0.659276</td>\n",
       "      <td>-0.547377</td>\n",
       "      <td>-0.289148</td>\n",
       "      <td>-0.759244</td>\n",
       "    </tr>\n",
       "    <tr>\n",
       "      <th>3</th>\n",
       "      <td>-0.998698</td>\n",
       "      <td>0.507690</td>\n",
       "      <td>-0.807072</td>\n",
       "      <td>-0.197100</td>\n",
       "      <td>-1.144303</td>\n",
       "      <td>1.330976</td>\n",
       "      <td>-0.091642</td>\n",
       "      <td>0.156249</td>\n",
       "      <td>-0.620688</td>\n",
       "      <td>0.765086</td>\n",
       "      <td>-0.513828</td>\n",
       "      <td>0.500600</td>\n",
       "      <td>-0.069087</td>\n",
       "      <td>1.398663</td>\n",
       "      <td>-0.505186</td>\n",
       "      <td>0.512544</td>\n",
       "      <td>-0.659276</td>\n",
       "      <td>0.271973</td>\n",
       "      <td>-0.030485</td>\n",
       "      <td>0.048600</td>\n",
       "    </tr>\n",
       "    <tr>\n",
       "      <th>4</th>\n",
       "      <td>-1.070064</td>\n",
       "      <td>-0.815299</td>\n",
       "      <td>-1.211067</td>\n",
       "      <td>1.093629</td>\n",
       "      <td>-1.722676</td>\n",
       "      <td>-0.961516</td>\n",
       "      <td>0.581693</td>\n",
       "      <td>0.105459</td>\n",
       "      <td>-0.303538</td>\n",
       "      <td>0.815248</td>\n",
       "      <td>-0.387817</td>\n",
       "      <td>1.844941</td>\n",
       "      <td>0.078626</td>\n",
       "      <td>1.271707</td>\n",
       "      <td>1.201405</td>\n",
       "      <td>-0.230254</td>\n",
       "      <td>-0.659276</td>\n",
       "      <td>0.802312</td>\n",
       "      <td>-1.283741</td>\n",
       "      <td>0.784257</td>\n",
       "    </tr>\n",
       "  </tbody>\n",
       "</table>\n",
       "</div>"
      ],
      "text/plain": [
       "   DER_mass_MMC  DER_mass_transverse_met_lep  DER_mass_vis  DER_pt_h  \\\n",
       "0     -0.308320                    -1.113654     -0.330946 -1.169774   \n",
       "1     -0.374869                    -1.137812      0.032758  0.518143   \n",
       "2      0.336438                    -1.005717      0.375088 -0.498063   \n",
       "3     -0.998698                     0.507690     -0.807072 -0.197100   \n",
       "4     -1.070064                    -0.815299     -1.211067  1.093629   \n",
       "\n",
       "   DER_deltar_tau_lep  DER_pt_tot  DER_sum_pt  DER_pt_ratio_lep_tau  \\\n",
       "0            1.093017    0.290408   -0.391853             -0.643694   \n",
       "1           -1.102991    1.224285    0.447762             -0.946620   \n",
       "2            0.452676   -0.905403   -0.637879             -1.015549   \n",
       "3           -1.144303    1.330976   -0.091642              0.156249   \n",
       "4           -1.722676   -0.961516    0.581693              0.105459   \n",
       "\n",
       "   DER_met_phi_centrality  DER_lep_eta_centrality  PRI_tau_pt  PRI_tau_eta  \\\n",
       "0                0.489879                1.156353   -0.327079     0.195375   \n",
       "1                0.508280               -1.136072    1.835976     1.702897   \n",
       "2                0.569978               -1.131056    0.867888    -0.317841   \n",
       "3               -0.620688                0.765086   -0.513828     0.500600   \n",
       "4               -0.303538                0.815248   -0.387817     1.844941   \n",
       "\n",
       "   PRI_lep_pt  PRI_lep_eta   PRI_met  PRI_met_sumet  PRI_jet_num  \\\n",
       "0   -0.850906     0.670336 -0.734245      -0.680590     1.516787   \n",
       "1   -0.293007     0.732979 -1.122930       0.279613     1.516787   \n",
       "2   -0.915530     0.790611 -0.794351      -0.747570    -0.659276   \n",
       "3   -0.069087     1.398663 -0.505186       0.512544    -0.659276   \n",
       "4    0.078626     1.271707  1.201405      -0.230254    -0.659276   \n",
       "\n",
       "   PRI_jet_leading_pt  PRI_jet_leading_eta  PRI_jet_all_pt  \n",
       "0           -0.606501            -0.446520       -0.154394  \n",
       "1           -0.264872             0.130893        0.115269  \n",
       "2           -0.547377            -0.289148       -0.759244  \n",
       "3            0.271973            -0.030485        0.048600  \n",
       "4            0.802312            -1.283741        0.784257  "
      ]
     },
     "execution_count": 11,
     "metadata": {},
     "output_type": "execute_result"
    }
   ],
   "source": [
    "XnoNaN_train = (XnoNaN_train - XnoNaN_train.mean())/XnoNaN_train.std()\n",
    "XnoNaN_train.head()"
   ]
  },
  {
   "cell_type": "markdown",
   "metadata": {},
   "source": [
    "### Logistic Regression with L1 "
   ]
  },
  {
   "cell_type": "code",
   "execution_count": 38,
   "metadata": {},
   "outputs": [
    {
     "data": {
      "text/plain": [
       "0.74883980797899807"
      ]
     },
     "execution_count": 38,
     "metadata": {},
     "output_type": "execute_result"
    }
   ],
   "source": [
    "from sklearn import linear_model\n",
    "\n",
    "clf_LR = linear_model.LogisticRegression(penalty = 'l1')\n",
    "cross_val_score(clf_LR, X_train, Y_train, cv=5).mean()"
   ]
  },
  {
   "cell_type": "code",
   "execution_count": 32,
   "metadata": {},
   "outputs": [
    {
     "data": {
      "text/plain": [
       "LogisticRegression(C=1.0, class_weight=None, dual=False, fit_intercept=True,\n",
       "          intercept_scaling=1, max_iter=100, multi_class='ovr', n_jobs=1,\n",
       "          penalty='l1', random_state=None, solver='liblinear', tol=0.0001,\n",
       "          verbose=0, warm_start=False)"
      ]
     },
     "execution_count": 32,
     "metadata": {},
     "output_type": "execute_result"
    }
   ],
   "source": [
    "clf_LR.fit(X_train, Y_train)"
   ]
  },
  {
   "cell_type": "code",
   "execution_count": 39,
   "metadata": {},
   "outputs": [
    {
     "name": "stderr",
     "output_type": "stream",
     "text": [
      "C:\\ProgramData\\Anaconda3\\lib\\site-packages\\sklearn\\cross_validation.py:44: DeprecationWarning: This module was deprecated in version 0.18 in favor of the model_selection module into which all the refactored classes and functions are moved. Also note that the interface of the new CV iterators are different from that of this module. This module will be removed in 0.20.\n",
      "  \"This module will be removed in 0.20.\", DeprecationWarning)\n",
      "C:\\ProgramData\\Anaconda3\\lib\\site-packages\\sklearn\\grid_search.py:43: DeprecationWarning: This module was deprecated in version 0.18 in favor of the model_selection module into which all the refactored classes and functions are moved. This module will be removed in 0.20.\n",
      "  DeprecationWarning)\n"
     ]
    },
    {
     "name": "stdout",
     "output_type": "stream",
     "text": [
      "--- 65.67965769767761 seconds ---\n",
      "[mean: 0.72074, std: 0.00216, params: {'C': 0.001}, mean: 0.74700, std: 0.00117, params: {'C': 0.01}, mean: 0.74842, std: 0.00143, params: {'C': 0.1}, mean: 0.74862, std: 0.00162, params: {'C': 1}, mean: 0.74860, std: 0.00159, params: {'C': 10}, mean: 0.74864, std: 0.00161, params: {'C': 100}, mean: 0.74864, std: 0.00161, params: {'C': 1000}] {'C': 100} 0.74864\n"
     ]
    }
   ],
   "source": [
    "from sklearn.grid_search import GridSearchCV \n",
    "\n",
    "param_grid = {'C': [0.001, 0.01, 0.1, 1, 10, 100, 1000] }\n",
    "\n",
    "start_time = time.time()\n",
    "gsearchLR = GridSearchCV(linear_model.LogisticRegression(penalty = 'l1'), param_grid)\n",
    "gsearchLR.fit(X_train,Y_train)\n",
    "print(\"--- %s seconds ---\" % (time.time() - start_time))\n",
    "\n",
    "print(gsearchLR.grid_scores_, gsearchLR.best_params_, gsearchLR.best_score_)"
   ]
  },
  {
   "cell_type": "markdown",
   "metadata": {},
   "source": [
    "### Random Forest"
   ]
  },
  {
   "cell_type": "code",
   "execution_count": 33,
   "metadata": {},
   "outputs": [
    {
     "data": {
      "text/plain": [
       "0.83059978264479783"
      ]
     },
     "execution_count": 33,
     "metadata": {},
     "output_type": "execute_result"
    }
   ],
   "source": [
    "from sklearn.ensemble import RandomForestClassifier\n",
    "\n",
    "clf_RF = RandomForestClassifier(max_depth=12, n_estimators=200)\n",
    "\n",
    "cross_val_score(clf_RF, X_train, Y_train, cv=5).mean()"
   ]
  },
  {
   "cell_type": "code",
   "execution_count": 34,
   "metadata": {},
   "outputs": [
    {
     "data": {
      "text/plain": [
       "0.83235982665799813"
      ]
     },
     "execution_count": 34,
     "metadata": {},
     "output_type": "execute_result"
    }
   ],
   "source": [
    "clf_RF = RandomForestClassifier(max_depth=14, n_estimators=200)\n",
    "\n",
    "cross_val_score(clf_RF, X_train, Y_train, cv=5).mean()"
   ]
  },
  {
   "cell_type": "code",
   "execution_count": 35,
   "metadata": {},
   "outputs": [
    {
     "data": {
      "text/plain": [
       "0.83167981265299817"
      ]
     },
     "execution_count": 35,
     "metadata": {},
     "output_type": "execute_result"
    }
   ],
   "source": [
    "clf_RF = RandomForestClassifier(max_depth=12, n_estimators=400)\n",
    "\n",
    "cross_val_score(clf_RF, X_train, Y_train, cv=5).mean()"
   ]
  },
  {
   "cell_type": "code",
   "execution_count": 40,
   "metadata": {},
   "outputs": [
    {
     "name": "stdout",
     "output_type": "stream",
     "text": [
      "0.834199878674\n"
     ]
    },
    {
     "data": {
      "text/plain": [
       "0.0032498216296379607"
      ]
     },
     "execution_count": 40,
     "metadata": {},
     "output_type": "execute_result"
    }
   ],
   "source": [
    "clf_RF = RandomForestClassifier(max_depth=16, n_estimators=400)\n",
    "\n",
    "print(cross_val_score(clf_RF, X_train, Y_train, cv=5).mean())\n",
    "cross_val_score(clf_RF, X_train, Y_train, cv=5).std()"
   ]
  },
  {
   "cell_type": "markdown",
   "metadata": {},
   "source": [
    "### Gradient Boost"
   ]
  },
  {
   "cell_type": "code",
   "execution_count": 36,
   "metadata": {},
   "outputs": [
    {
     "data": {
      "text/plain": [
       "0.83163981866039838"
      ]
     },
     "execution_count": 36,
     "metadata": {},
     "output_type": "execute_result"
    }
   ],
   "source": [
    "from sklearn.ensemble import GradientBoostingClassifier\n",
    "\n",
    "clf_GB = GradientBoostingClassifier(n_estimators=200, max_depth = 13)\n",
    "\n",
    "cross_val_score(clf_GB, X_train, Y_train, cv=5).mean()"
   ]
  },
  {
   "cell_type": "code",
   "execution_count": 50,
   "metadata": {},
   "outputs": [
    {
     "data": {
      "text/plain": [
       "GradientBoostingClassifier(criterion='friedman_mse', init=None,\n",
       "              learning_rate=0.1, loss='deviance', max_depth=13,\n",
       "              max_features=None, max_leaf_nodes=None,\n",
       "              min_impurity_split=1e-07, min_samples_leaf=1,\n",
       "              min_samples_split=2, min_weight_fraction_leaf=0.0,\n",
       "              n_estimators=200, presort='auto', random_state=None,\n",
       "              subsample=1.0, verbose=0, warm_start=False)"
      ]
     },
     "execution_count": 50,
     "metadata": {},
     "output_type": "execute_result"
    }
   ],
   "source": [
    "clf_GB.fit(X_train, Y_train)"
   ]
  },
  {
   "cell_type": "code",
   "execution_count": 51,
   "metadata": {},
   "outputs": [
    {
     "data": {
      "text/plain": [
       "array([ 0.09033725,  0.08661182,  0.06713253,  0.0460427 ,  0.00778914,\n",
       "        0.00901492,  0.00669489,  0.05725561,  0.04892994,  0.05387754,\n",
       "        0.04227615,  0.05538899,  0.00797138,  0.06220304,  0.05136444,\n",
       "        0.04113756,  0.05293673,  0.06104695,  0.05629732,  0.00352711,\n",
       "        0.02442407,  0.03345102,  0.00723243,  0.00716732,  0.01988916])"
      ]
     },
     "execution_count": 51,
     "metadata": {},
     "output_type": "execute_result"
    }
   ],
   "source": [
    "clf_GB.feature_importances_"
   ]
  },
  {
   "cell_type": "code",
   "execution_count": null,
   "metadata": {
    "collapsed": true
   },
   "outputs": [],
   "source": []
  },
  {
   "cell_type": "markdown",
   "metadata": {},
   "source": [
    "### Neutral Networks"
   ]
  },
  {
   "cell_type": "code",
   "execution_count": 37,
   "metadata": {},
   "outputs": [
    {
     "name": "stdout",
     "output_type": "stream",
     "text": [
      "--- 313.67924094200134 seconds ---\n"
     ]
    }
   ],
   "source": [
    "from sklearn.neural_network import MLPClassifier\n",
    "\n",
    "layers = 50\n",
    "\n",
    "start_time = time.time()\n",
    "clf_NN = MLPClassifier(alpha=1e-5,\n",
    "                    hidden_layer_sizes=(layers, layers, layers, layers, layers, layers, layers, layers, layers, layers))\n",
    "\n",
    "clf_NN.fit(X_train, Y_train)\n",
    "\n",
    "print(\"--- %s seconds ---\" % (time.time() - start_time))"
   ]
  },
  {
   "cell_type": "markdown",
   "metadata": {
    "collapsed": true
   },
   "source": [
    "### LDA"
   ]
  },
  {
   "cell_type": "code",
   "execution_count": 41,
   "metadata": {},
   "outputs": [
    {
     "data": {
      "text/plain": [
       "0.748779807978598"
      ]
     },
     "execution_count": 41,
     "metadata": {},
     "output_type": "execute_result"
    }
   ],
   "source": [
    "from sklearn.discriminant_analysis import LinearDiscriminantAnalysis\n",
    "\n",
    "clf_LDA = LinearDiscriminantAnalysis()\n",
    "\n",
    "cross_val_score(clf_LR, X_train, Y_train, cv=5).mean()"
   ]
  },
  {
   "cell_type": "code",
   "execution_count": 43,
   "metadata": {},
   "outputs": [
    {
     "name": "stdout",
     "output_type": "stream",
     "text": [
      "--- 0.3542776107788086 seconds ---\n"
     ]
    },
    {
     "name": "stderr",
     "output_type": "stream",
     "text": [
      "C:\\ProgramData\\Anaconda3\\lib\\site-packages\\sklearn\\discriminant_analysis.py:387: UserWarning: Variables are collinear.\n",
      "  warnings.warn(\"Variables are collinear.\")\n"
     ]
    }
   ],
   "source": [
    "start_time = time.time()\n",
    "clf_LDA.fit(X_train,Y_train)\n",
    "print(\"--- %s seconds ---\" % (time.time() - start_time))"
   ]
  },
  {
   "cell_type": "markdown",
   "metadata": {},
   "source": [
    "### QDA"
   ]
  },
  {
   "cell_type": "code",
   "execution_count": 44,
   "metadata": {},
   "outputs": [
    {
     "data": {
      "text/plain": [
       "0.74540013196540134"
      ]
     },
     "execution_count": 44,
     "metadata": {},
     "output_type": "execute_result"
    }
   ],
   "source": [
    "from sklearn.discriminant_analysis import QuadraticDiscriminantAnalysis\n",
    "\n",
    "clf_QDA = QuadraticDiscriminantAnalysis()\n",
    "cross_val_score(clf_QDA, X_train, Y_train, cv=5).mean()"
   ]
  },
  {
   "cell_type": "code",
   "execution_count": 46,
   "metadata": {},
   "outputs": [
    {
     "name": "stdout",
     "output_type": "stream",
     "text": [
      "--- 0.21768903732299805 seconds ---\n"
     ]
    }
   ],
   "source": [
    "start_time = time.time()\n",
    "clf_QDA.fit(X_train,Y_train)\n",
    "print(\"--- %s seconds ---\" % (time.time() - start_time))"
   ]
  },
  {
   "cell_type": "markdown",
   "metadata": {},
   "source": [
    "### Naive Bayes"
   ]
  },
  {
   "cell_type": "code",
   "execution_count": 47,
   "metadata": {},
   "outputs": [
    {
     "data": {
      "text/plain": [
       "0.74879980797859802"
      ]
     },
     "execution_count": 47,
     "metadata": {},
     "output_type": "execute_result"
    }
   ],
   "source": [
    "from sklearn.naive_bayes import GaussianNB\n",
    "\n",
    "clf_NB = GaussianNB()\n",
    "\n",
    "cross_val_score(clf_LR, X_train, Y_train, cv=5).mean()"
   ]
  },
  {
   "cell_type": "code",
   "execution_count": 48,
   "metadata": {},
   "outputs": [
    {
     "name": "stdout",
     "output_type": "stream",
     "text": [
      "--- 0.08956623077392578 seconds ---\n"
     ]
    }
   ],
   "source": [
    "start_time = time.time()\n",
    "clf_NB.fit(X_train, Y_train)\n",
    "print(\"--- %s seconds ---\" % (time.time() - start_time))"
   ]
  },
  {
   "cell_type": "code",
   "execution_count": null,
   "metadata": {
    "collapsed": true
   },
   "outputs": [],
   "source": []
  },
  {
   "cell_type": "markdown",
   "metadata": {},
   "source": [
    "# Predicting Test Set"
   ]
  },
  {
   "cell_type": "code",
   "execution_count": null,
   "metadata": {
    "collapsed": true
   },
   "outputs": [],
   "source": [
    "raw_test_set =  pd.read_csv('test.csv')"
   ]
  },
  {
   "cell_type": "code",
   "execution_count": null,
   "metadata": {
    "collapsed": true
   },
   "outputs": [],
   "source": [
    "raw_test_set.head()"
   ]
  },
  {
   "cell_type": "code",
   "execution_count": null,
   "metadata": {
    "collapsed": true
   },
   "outputs": [],
   "source": [
    "raw_test_set.head()"
   ]
  },
  {
   "cell_type": "code",
   "execution_count": null,
   "metadata": {
    "collapsed": true
   },
   "outputs": [],
   "source": [
    "test_set = raw_test_set.drop(['EventId'], axis =1) \n",
    "\n",
    "# Replace -999.000 with NaN, then drop missing data rows\n",
    "test_set = test_set.replace(-999.000, np.nan)\n",
    "test_set = test_set.fillna(test_set.mean())"
   ]
  },
  {
   "cell_type": "code",
   "execution_count": null,
   "metadata": {
    "collapsed": true
   },
   "outputs": [],
   "source": [
    "test_set.describe()"
   ]
  },
  {
   "cell_type": "code",
   "execution_count": null,
   "metadata": {
    "collapsed": true
   },
   "outputs": [],
   "source": [
    "test_set = test_set.drop( ['PRI_tau_phi' ,'PRI_lep_phi' , 'PRI_met_phi' ,'PRI_jet_leading_phi','PRI_jet_subleading_phi'], axis=1)"
   ]
  },
  {
   "cell_type": "code",
   "execution_count": null,
   "metadata": {
    "collapsed": true
   },
   "outputs": [],
   "source": [
    "test_set.to_csv(\"test_fillnan_mean.csv\", index= False)"
   ]
  },
  {
   "cell_type": "code",
   "execution_count": null,
   "metadata": {
    "collapsed": true
   },
   "outputs": [],
   "source": [
    "pred =clf_RF.predict(test_set)"
   ]
  },
  {
   "cell_type": "code",
   "execution_count": null,
   "metadata": {
    "collapsed": true
   },
   "outputs": [],
   "source": [
    "pred = pd.DataFrame(pred)"
   ]
  },
  {
   "cell_type": "code",
   "execution_count": null,
   "metadata": {
    "collapsed": true
   },
   "outputs": [],
   "source": [
    "prob = clf_RF.predict_proba(test_set)"
   ]
  },
  {
   "cell_type": "code",
   "execution_count": null,
   "metadata": {
    "collapsed": true
   },
   "outputs": [],
   "source": [
    "prob = pd.DataFrame(prob)"
   ]
  },
  {
   "cell_type": "code",
   "execution_count": null,
   "metadata": {
    "collapsed": true
   },
   "outputs": [],
   "source": [
    "submission = pd.DataFrame()\n",
    "\n",
    "submission['EventId'] = raw_test_set['EventId']\n",
    "submission['Class'] = pred.replace([0,1],['b','s'])\n",
    "submission['Prob'] = prob[0]"
   ]
  },
  {
   "cell_type": "code",
   "execution_count": null,
   "metadata": {
    "collapsed": true
   },
   "outputs": [],
   "source": [
    "submission.head()"
   ]
  },
  {
   "cell_type": "code",
   "execution_count": null,
   "metadata": {
    "collapsed": true
   },
   "outputs": [],
   "source": [
    "submission['RankOrder'] = submission['Prob'].rank(ascending=False, method = 'first')\n",
    "submission['RankOrder'] = submission['RankOrder'].astype(np.int64)"
   ]
  },
  {
   "cell_type": "code",
   "execution_count": null,
   "metadata": {
    "collapsed": true
   },
   "outputs": [],
   "source": [
    "submission1 = pd.DataFrame()\n",
    "submission1['EventId'] = submission['EventId']\n",
    "submission1['RankOrder'] = submission['RankOrder']\n",
    "submission1['Class'] = submission['Class']\n",
    "submission1"
   ]
  },
  {
   "cell_type": "code",
   "execution_count": null,
   "metadata": {
    "collapsed": true
   },
   "outputs": [],
   "source": [
    "submission1.to_csv('submission1.csv', index =False)"
   ]
  },
  {
   "cell_type": "code",
   "execution_count": null,
   "metadata": {
    "collapsed": true
   },
   "outputs": [],
   "source": [
    "pred2 = clf_RF_nonw.predict(test_set)\n",
    "prob2 = clf_RF_nonw.predict_proba(test_set)"
   ]
  },
  {
   "cell_type": "code",
   "execution_count": null,
   "metadata": {
    "collapsed": true
   },
   "outputs": [],
   "source": [
    "pred2 = pd.DataFrame(pred2)\n",
    "prob2 = pd.DataFrame(prob2)"
   ]
  },
  {
   "cell_type": "code",
   "execution_count": null,
   "metadata": {
    "collapsed": true
   },
   "outputs": [],
   "source": [
    "submission2 = pd.DataFrame()\n",
    "\n",
    "submission2['EventId'] = raw_test_set['EventId']\n",
    "submission2['Class'] = pd.DataFrame(pred2).replace([0,1],['b','s'])\n",
    "submission2['Prob'] = prob2[0]"
   ]
  },
  {
   "cell_type": "code",
   "execution_count": null,
   "metadata": {
    "collapsed": true
   },
   "outputs": [],
   "source": [
    "submission2['RankOrder'] = submission2['Prob'].rank(ascending=False, method = 'first')\n",
    "submission2['RankOrder'] = submission2['RankOrder'].astype(np.int64)"
   ]
  },
  {
   "cell_type": "code",
   "execution_count": null,
   "metadata": {
    "collapsed": true
   },
   "outputs": [],
   "source": [
    "submission2a = pd.DataFrame()\n",
    "submission2a['EventId'] = submission2['EventId']\n",
    "submission2a['RankOrder'] = submission2['RankOrder']\n",
    "submission2a['Class'] = submission2['Class']\n"
   ]
  },
  {
   "cell_type": "code",
   "execution_count": null,
   "metadata": {
    "collapsed": true
   },
   "outputs": [],
   "source": [
    "submission2a.to_csv('submission2.csv', index =False)"
   ]
  },
  {
   "cell_type": "code",
   "execution_count": null,
   "metadata": {
    "collapsed": true
   },
   "outputs": [],
   "source": [
    "test_set = (test_set - test_set.mean())/test_set.std()"
   ]
  },
  {
   "cell_type": "code",
   "execution_count": null,
   "metadata": {
    "collapsed": true
   },
   "outputs": [],
   "source": [
    "pred3 = clf_GB.predict(test_set)\n",
    "prob3 = clf_GB.predict_proba(test_set)\n",
    "pred3 = pd.DataFrame(pred3)\n",
    "prob3 = pd.DataFrame(prob3)"
   ]
  },
  {
   "cell_type": "code",
   "execution_count": null,
   "metadata": {
    "collapsed": true
   },
   "outputs": [],
   "source": [
    "submission3 = pd.DataFrame()\n",
    "\n",
    "submission3['EventId'] = raw_test_set['EventId']\n",
    "submission3['Class'] = pd.DataFrame(pred3).replace([0,1],['b','s'])\n",
    "submission3['Prob'] = prob3[0]\n",
    "submission3['RankOrder'] = submission3['Prob'].rank(ascending=False, method = 'first')\n",
    "submission3['RankOrder'] = submission3['RankOrder'].astype(np.int64)"
   ]
  },
  {
   "cell_type": "code",
   "execution_count": null,
   "metadata": {
    "collapsed": true
   },
   "outputs": [],
   "source": [
    "submission3a = pd.DataFrame()\n",
    "submission3a['EventId'] = submission3['EventId']\n",
    "submission3a['RankOrder'] = submission3['RankOrder']\n",
    "submission3a['Class'] = submission3['Class']"
   ]
  },
  {
   "cell_type": "code",
   "execution_count": null,
   "metadata": {
    "collapsed": true
   },
   "outputs": [],
   "source": [
    "submission3a.to_csv('submission3.csv', index =False)"
   ]
  },
  {
   "cell_type": "code",
   "execution_count": null,
   "metadata": {
    "collapsed": true
   },
   "outputs": [],
   "source": [
    "pred4 = clf_SVM.predict(test_set)\n",
    "prob4 = clf_SVM.predict_proba(test_set)\n",
    "pred4 = pd.DataFrame(pred4)\n",
    "prob4 = pd.DataFrame(prob4)"
   ]
  },
  {
   "cell_type": "code",
   "execution_count": null,
   "metadata": {
    "collapsed": true
   },
   "outputs": [],
   "source": [
    "submission4 = pd.DataFrame()\n",
    "\n",
    "submission4['EventId'] = raw_test_set['EventId']\n",
    "submission4['Class'] = pd.DataFrame(pred4).replace([0,1],['b','s'])\n",
    "submission4['Prob'] = prob4[0]\n",
    "submission4['RankOrder'] = submission4['Prob'].rank(ascending=False, method = 'first')\n",
    "submission4['RankOrder'] = submission4['RankOrder'].astype(np.int64)"
   ]
  },
  {
   "cell_type": "code",
   "execution_count": null,
   "metadata": {
    "collapsed": true
   },
   "outputs": [],
   "source": [
    "pred4"
   ]
  },
  {
   "cell_type": "code",
   "execution_count": null,
   "metadata": {
    "collapsed": true
   },
   "outputs": [],
   "source": [
    "submission4a = pd.DataFrame()\n",
    "submission4a['EventId'] = submission4['EventId']\n",
    "submission4a['RankOrder'] = submission4['RankOrder']\n",
    "submission4a['Class'] = submission4['Class']"
   ]
  },
  {
   "cell_type": "code",
   "execution_count": null,
   "metadata": {
    "collapsed": true
   },
   "outputs": [],
   "source": [
    "def submission_data_frame (clf, testset):\n",
    "    \"\"\"\n",
    "    Takes classifer and outputs dataframe in \n",
    "    submission form for Higgs competition\n",
    "    \"\"\"\n",
    "    \n",
    "    pred5 = clf.predict(testset)\n",
    "    prob5 = clf.predict_proba(testset)\n",
    "    pred5 = pd.DataFrame(pred5)\n",
    "    prob5 = pd.DataFrame(prob5)\n",
    "    submission5 = pd.DataFrame()\n",
    "\n",
    "    submission5['EventId'] = raw_test_set['EventId']\n",
    "    submission5['Class'] = pd.DataFrame(pred5).replace([0,1],['b','s'])\n",
    "    submission5['Prob'] = prob5[0]\n",
    "    submission5['RankOrder'] = submission5['Prob'].rank(ascending=False, method = 'first')\n",
    "    submission5['RankOrder'] = submission5['RankOrder'].astype(np.int64)\n",
    "    \n",
    "    submission5a = pd.DataFrame()\n",
    "    submission5a['EventId'] = submission5['EventId']\n",
    "    submission5a['RankOrder'] = submission5['RankOrder']\n",
    "    submission5a['Class'] = submission5['Class']\n",
    "    \n",
    "    return submission5a"
   ]
  },
  {
   "cell_type": "code",
   "execution_count": null,
   "metadata": {
    "collapsed": true
   },
   "outputs": [],
   "source": []
  }
 ],
 "metadata": {
  "kernelspec": {
   "display_name": "Python 3",
   "language": "python",
   "name": "python3"
  },
  "language_info": {
   "codemirror_mode": {
    "name": "ipython",
    "version": 3
   },
   "file_extension": ".py",
   "mimetype": "text/x-python",
   "name": "python",
   "nbconvert_exporter": "python",
   "pygments_lexer": "ipython3",
   "version": "3.7.4"
  }
 },
 "nbformat": 4,
 "nbformat_minor": 2
}
