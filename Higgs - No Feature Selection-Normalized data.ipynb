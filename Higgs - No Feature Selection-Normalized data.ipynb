{
 "cells": [
  {
   "cell_type": "code",
   "execution_count": 1,
   "metadata": {
    "collapsed": true
   },
   "outputs": [],
   "source": [
    "%matplotlib inline\n",
    "import numpy as np\n",
    "import matplotlib.pyplot as plt\n",
    "import pandas as pd"
   ]
  },
  {
   "cell_type": "markdown",
   "metadata": {},
   "source": [
    "# Load data"
   ]
  },
  {
   "cell_type": "code",
   "execution_count": 107,
   "metadata": {},
   "outputs": [],
   "source": [
    "train = pd.read_csv('Higgstrain.csv')\n",
    "\n",
    "X_train = train.drop(['Label', 'Unnamed: 0'], axis=1)\n",
    "Y_train = train['Label'].replace(['b','s'], [0,1])"
   ]
  },
  {
   "cell_type": "code",
   "execution_count": 108,
   "metadata": {
    "collapsed": true
   },
   "outputs": [],
   "source": [
    "X_train = (X_train - X_train.mean())/X_train.std()"
   ]
  },
  {
   "cell_type": "code",
   "execution_count": 109,
   "metadata": {},
   "outputs": [
    {
     "data": {
      "text/html": [
       "<div>\n",
       "<table border=\"1\" class=\"dataframe\">\n",
       "  <thead>\n",
       "    <tr style=\"text-align: right;\">\n",
       "      <th></th>\n",
       "      <th>DER_mass_MMC</th>\n",
       "      <th>DER_mass_transverse_met_lep</th>\n",
       "      <th>DER_mass_vis</th>\n",
       "      <th>DER_pt_h</th>\n",
       "      <th>DER_deltaeta_jet_jet</th>\n",
       "      <th>DER_mass_jet_jet</th>\n",
       "      <th>DER_prodeta_jet_jet</th>\n",
       "      <th>DER_deltar_tau_lep</th>\n",
       "      <th>DER_pt_tot</th>\n",
       "      <th>DER_sum_pt</th>\n",
       "      <th>...</th>\n",
       "      <th>PRI_met_phi</th>\n",
       "      <th>PRI_met_sumet</th>\n",
       "      <th>PRI_jet_num</th>\n",
       "      <th>PRI_jet_leading_pt</th>\n",
       "      <th>PRI_jet_leading_eta</th>\n",
       "      <th>PRI_jet_leading_phi</th>\n",
       "      <th>PRI_jet_subleading_pt</th>\n",
       "      <th>PRI_jet_subleading_eta</th>\n",
       "      <th>PRI_jet_subleading_phi</th>\n",
       "      <th>PRI_jet_all_pt</th>\n",
       "    </tr>\n",
       "  </thead>\n",
       "  <tbody>\n",
       "    <tr>\n",
       "      <th>0</th>\n",
       "      <td>-0.308320</td>\n",
       "      <td>-1.113654</td>\n",
       "      <td>-0.330946</td>\n",
       "      <td>-1.169774</td>\n",
       "      <td>1.122594</td>\n",
       "      <td>0.551529</td>\n",
       "      <td>-0.545225</td>\n",
       "      <td>1.093017</td>\n",
       "      <td>0.290408</td>\n",
       "      <td>-0.391853</td>\n",
       "      <td>...</td>\n",
       "      <td>1.562832</td>\n",
       "      <td>-0.680590</td>\n",
       "      <td>1.516787</td>\n",
       "      <td>-0.606501</td>\n",
       "      <td>-0.446520</td>\n",
       "      <td>0.689169</td>\n",
       "      <td>0.234759</td>\n",
       "      <td>1.772501</td>\n",
       "      <td>-1.165809</td>\n",
       "      <td>-0.154394</td>\n",
       "    </tr>\n",
       "    <tr>\n",
       "      <th>1</th>\n",
       "      <td>-0.374869</td>\n",
       "      <td>-1.137812</td>\n",
       "      <td>0.032758</td>\n",
       "      <td>0.518143</td>\n",
       "      <td>-0.725860</td>\n",
       "      <td>-0.655357</td>\n",
       "      <td>0.187956</td>\n",
       "      <td>-1.102991</td>\n",
       "      <td>1.224285</td>\n",
       "      <td>0.447762</td>\n",
       "      <td>...</td>\n",
       "      <td>-1.253904</td>\n",
       "      <td>0.279613</td>\n",
       "      <td>1.516787</td>\n",
       "      <td>-0.264872</td>\n",
       "      <td>0.130893</td>\n",
       "      <td>0.136267</td>\n",
       "      <td>-0.501999</td>\n",
       "      <td>-0.457752</td>\n",
       "      <td>1.004541</td>\n",
       "      <td>0.115269</td>\n",
       "    </tr>\n",
       "    <tr>\n",
       "      <th>2</th>\n",
       "      <td>0.336438</td>\n",
       "      <td>-1.005717</td>\n",
       "      <td>0.375088</td>\n",
       "      <td>-0.498063</td>\n",
       "      <td>-0.853773</td>\n",
       "      <td>-0.737107</td>\n",
       "      <td>0.185173</td>\n",
       "      <td>0.452676</td>\n",
       "      <td>-0.905403</td>\n",
       "      <td>-0.637879</td>\n",
       "      <td>...</td>\n",
       "      <td>-0.879294</td>\n",
       "      <td>-0.747570</td>\n",
       "      <td>-0.659276</td>\n",
       "      <td>-0.547377</td>\n",
       "      <td>-0.289148</td>\n",
       "      <td>0.492532</td>\n",
       "      <td>-0.817951</td>\n",
       "      <td>0.213575</td>\n",
       "      <td>-0.401035</td>\n",
       "      <td>-0.759244</td>\n",
       "    </tr>\n",
       "    <tr>\n",
       "      <th>3</th>\n",
       "      <td>-0.998698</td>\n",
       "      <td>0.507690</td>\n",
       "      <td>-0.807072</td>\n",
       "      <td>-0.197100</td>\n",
       "      <td>-0.082870</td>\n",
       "      <td>-0.257753</td>\n",
       "      <td>0.208824</td>\n",
       "      <td>-1.144303</td>\n",
       "      <td>1.330976</td>\n",
       "      <td>-0.091642</td>\n",
       "      <td>...</td>\n",
       "      <td>0.145925</td>\n",
       "      <td>0.512544</td>\n",
       "      <td>-0.659276</td>\n",
       "      <td>0.271973</td>\n",
       "      <td>-0.030485</td>\n",
       "      <td>-0.740312</td>\n",
       "      <td>0.162450</td>\n",
       "      <td>1.095303</td>\n",
       "      <td>-1.442957</td>\n",
       "      <td>0.048600</td>\n",
       "    </tr>\n",
       "    <tr>\n",
       "      <th>4</th>\n",
       "      <td>-1.070064</td>\n",
       "      <td>-0.815299</td>\n",
       "      <td>-1.211067</td>\n",
       "      <td>1.093629</td>\n",
       "      <td>1.504619</td>\n",
       "      <td>3.184626</td>\n",
       "      <td>-1.519924</td>\n",
       "      <td>-1.722676</td>\n",
       "      <td>-0.961516</td>\n",
       "      <td>0.581693</td>\n",
       "      <td>...</td>\n",
       "      <td>-1.007102</td>\n",
       "      <td>-0.230254</td>\n",
       "      <td>-0.659276</td>\n",
       "      <td>0.802312</td>\n",
       "      <td>-1.283741</td>\n",
       "      <td>1.085203</td>\n",
       "      <td>1.510687</td>\n",
       "      <td>1.383993</td>\n",
       "      <td>0.222135</td>\n",
       "      <td>0.784257</td>\n",
       "    </tr>\n",
       "  </tbody>\n",
       "</table>\n",
       "<p>5 rows × 30 columns</p>\n",
       "</div>"
      ],
      "text/plain": [
       "   DER_mass_MMC  DER_mass_transverse_met_lep  DER_mass_vis  DER_pt_h  \\\n",
       "0     -0.308320                    -1.113654     -0.330946 -1.169774   \n",
       "1     -0.374869                    -1.137812      0.032758  0.518143   \n",
       "2      0.336438                    -1.005717      0.375088 -0.498063   \n",
       "3     -0.998698                     0.507690     -0.807072 -0.197100   \n",
       "4     -1.070064                    -0.815299     -1.211067  1.093629   \n",
       "\n",
       "   DER_deltaeta_jet_jet  DER_mass_jet_jet  DER_prodeta_jet_jet  \\\n",
       "0              1.122594          0.551529            -0.545225   \n",
       "1             -0.725860         -0.655357             0.187956   \n",
       "2             -0.853773         -0.737107             0.185173   \n",
       "3             -0.082870         -0.257753             0.208824   \n",
       "4              1.504619          3.184626            -1.519924   \n",
       "\n",
       "   DER_deltar_tau_lep  DER_pt_tot  DER_sum_pt       ...        PRI_met_phi  \\\n",
       "0            1.093017    0.290408   -0.391853       ...           1.562832   \n",
       "1           -1.102991    1.224285    0.447762       ...          -1.253904   \n",
       "2            0.452676   -0.905403   -0.637879       ...          -0.879294   \n",
       "3           -1.144303    1.330976   -0.091642       ...           0.145925   \n",
       "4           -1.722676   -0.961516    0.581693       ...          -1.007102   \n",
       "\n",
       "   PRI_met_sumet  PRI_jet_num  PRI_jet_leading_pt  PRI_jet_leading_eta  \\\n",
       "0      -0.680590     1.516787           -0.606501            -0.446520   \n",
       "1       0.279613     1.516787           -0.264872             0.130893   \n",
       "2      -0.747570    -0.659276           -0.547377            -0.289148   \n",
       "3       0.512544    -0.659276            0.271973            -0.030485   \n",
       "4      -0.230254    -0.659276            0.802312            -1.283741   \n",
       "\n",
       "   PRI_jet_leading_phi  PRI_jet_subleading_pt  PRI_jet_subleading_eta  \\\n",
       "0             0.689169               0.234759                1.772501   \n",
       "1             0.136267              -0.501999               -0.457752   \n",
       "2             0.492532              -0.817951                0.213575   \n",
       "3            -0.740312               0.162450                1.095303   \n",
       "4             1.085203               1.510687                1.383993   \n",
       "\n",
       "   PRI_jet_subleading_phi  PRI_jet_all_pt  \n",
       "0               -1.165809       -0.154394  \n",
       "1                1.004541        0.115269  \n",
       "2               -0.401035       -0.759244  \n",
       "3               -1.442957        0.048600  \n",
       "4                0.222135        0.784257  \n",
       "\n",
       "[5 rows x 30 columns]"
      ]
     },
     "execution_count": 109,
     "metadata": {},
     "output_type": "execute_result"
    }
   ],
   "source": [
    "X_train.head()"
   ]
  },
  {
   "cell_type": "code",
   "execution_count": 11,
   "metadata": {
    "collapsed": true
   },
   "outputs": [],
   "source": [
    "test= pd.read_csv('Higgstest.csv')\n",
    "X_test = test.drop(['Label', 'Unnamed: 0'], axis=1)\n",
    "Y_test = test['Label'].replace(['b','s'], [0,1])"
   ]
  },
  {
   "cell_type": "code",
   "execution_count": 13,
   "metadata": {},
   "outputs": [
    {
     "data": {
      "text/html": [
       "<div>\n",
       "<table border=\"1\" class=\"dataframe\">\n",
       "  <thead>\n",
       "    <tr style=\"text-align: right;\">\n",
       "      <th></th>\n",
       "      <th>DER_mass_MMC</th>\n",
       "      <th>DER_mass_transverse_met_lep</th>\n",
       "      <th>DER_mass_vis</th>\n",
       "      <th>DER_pt_h</th>\n",
       "      <th>DER_deltaeta_jet_jet</th>\n",
       "      <th>DER_mass_jet_jet</th>\n",
       "      <th>DER_prodeta_jet_jet</th>\n",
       "      <th>DER_deltar_tau_lep</th>\n",
       "      <th>DER_pt_tot</th>\n",
       "      <th>DER_sum_pt</th>\n",
       "      <th>...</th>\n",
       "      <th>PRI_met_phi</th>\n",
       "      <th>PRI_met_sumet</th>\n",
       "      <th>PRI_jet_num</th>\n",
       "      <th>PRI_jet_leading_pt</th>\n",
       "      <th>PRI_jet_leading_eta</th>\n",
       "      <th>PRI_jet_leading_phi</th>\n",
       "      <th>PRI_jet_subleading_pt</th>\n",
       "      <th>PRI_jet_subleading_eta</th>\n",
       "      <th>PRI_jet_subleading_phi</th>\n",
       "      <th>PRI_jet_all_pt</th>\n",
       "    </tr>\n",
       "  </thead>\n",
       "  <tbody>\n",
       "    <tr>\n",
       "      <th>0</th>\n",
       "      <td>-0.204430</td>\n",
       "      <td>-0.790581</td>\n",
       "      <td>-0.494535</td>\n",
       "      <td>0.222767</td>\n",
       "      <td>-1.054271</td>\n",
       "      <td>-0.832179</td>\n",
       "      <td>0.493412</td>\n",
       "      <td>-0.278981</td>\n",
       "      <td>-0.164827</td>\n",
       "      <td>-0.500498</td>\n",
       "      <td>...</td>\n",
       "      <td>1.652916</td>\n",
       "      <td>-0.253251</td>\n",
       "      <td>-0.66507</td>\n",
       "      <td>-0.335862</td>\n",
       "      <td>0.405766</td>\n",
       "      <td>-0.232734</td>\n",
       "      <td>-0.042087</td>\n",
       "      <td>0.646186</td>\n",
       "      <td>-0.293286</td>\n",
       "      <td>-0.397762</td>\n",
       "    </tr>\n",
       "    <tr>\n",
       "      <th>1</th>\n",
       "      <td>0.081960</td>\n",
       "      <td>0.407730</td>\n",
       "      <td>0.538884</td>\n",
       "      <td>0.625440</td>\n",
       "      <td>0.978016</td>\n",
       "      <td>2.140250</td>\n",
       "      <td>-0.951336</td>\n",
       "      <td>-0.791332</td>\n",
       "      <td>-0.922031</td>\n",
       "      <td>1.434082</td>\n",
       "      <td>...</td>\n",
       "      <td>-1.513565</td>\n",
       "      <td>0.405832</td>\n",
       "      <td>-0.66507</td>\n",
       "      <td>0.718603</td>\n",
       "      <td>1.218404</td>\n",
       "      <td>-0.800166</td>\n",
       "      <td>2.930148</td>\n",
       "      <td>-0.968661</td>\n",
       "      <td>0.334115</td>\n",
       "      <td>1.143275</td>\n",
       "    </tr>\n",
       "    <tr>\n",
       "      <th>2</th>\n",
       "      <td>1.258408</td>\n",
       "      <td>1.416947</td>\n",
       "      <td>0.419246</td>\n",
       "      <td>-0.383206</td>\n",
       "      <td>-0.213679</td>\n",
       "      <td>-0.671696</td>\n",
       "      <td>0.862752</td>\n",
       "      <td>1.529089</td>\n",
       "      <td>-0.862622</td>\n",
       "      <td>-0.802835</td>\n",
       "      <td>...</td>\n",
       "      <td>-0.118588</td>\n",
       "      <td>-0.772349</td>\n",
       "      <td>-0.66507</td>\n",
       "      <td>-0.765130</td>\n",
       "      <td>1.630462</td>\n",
       "      <td>-1.364827</td>\n",
       "      <td>-0.833181</td>\n",
       "      <td>0.401246</td>\n",
       "      <td>1.631072</td>\n",
       "      <td>-0.901528</td>\n",
       "    </tr>\n",
       "    <tr>\n",
       "      <th>3</th>\n",
       "      <td>-0.499936</td>\n",
       "      <td>0.423774</td>\n",
       "      <td>-0.333164</td>\n",
       "      <td>0.282787</td>\n",
       "      <td>-0.911885</td>\n",
       "      <td>-0.803288</td>\n",
       "      <td>0.296895</td>\n",
       "      <td>-0.855860</td>\n",
       "      <td>-0.922311</td>\n",
       "      <td>-0.258084</td>\n",
       "      <td>...</td>\n",
       "      <td>-0.850080</td>\n",
       "      <td>0.035088</td>\n",
       "      <td>-0.66507</td>\n",
       "      <td>-0.099468</td>\n",
       "      <td>0.591135</td>\n",
       "      <td>1.009632</td>\n",
       "      <td>-0.700604</td>\n",
       "      <td>0.112793</td>\n",
       "      <td>1.209520</td>\n",
       "      <td>-0.443151</td>\n",
       "    </tr>\n",
       "    <tr>\n",
       "      <th>4</th>\n",
       "      <td>-0.178375</td>\n",
       "      <td>1.809161</td>\n",
       "      <td>0.344524</td>\n",
       "      <td>-0.085409</td>\n",
       "      <td>-0.949626</td>\n",
       "      <td>-0.774088</td>\n",
       "      <td>0.364909</td>\n",
       "      <td>-0.751325</td>\n",
       "      <td>-0.775655</td>\n",
       "      <td>-0.202205</td>\n",
       "      <td>...</td>\n",
       "      <td>-0.437061</td>\n",
       "      <td>-0.081456</td>\n",
       "      <td>-0.66507</td>\n",
       "      <td>-0.549656</td>\n",
       "      <td>0.223267</td>\n",
       "      <td>0.278731</td>\n",
       "      <td>-0.422695</td>\n",
       "      <td>0.580673</td>\n",
       "      <td>0.779756</td>\n",
       "      <td>-0.644709</td>\n",
       "    </tr>\n",
       "  </tbody>\n",
       "</table>\n",
       "<p>5 rows × 30 columns</p>\n",
       "</div>"
      ],
      "text/plain": [
       "   DER_mass_MMC  DER_mass_transverse_met_lep  DER_mass_vis  DER_pt_h  \\\n",
       "0     -0.204430                    -0.790581     -0.494535  0.222767   \n",
       "1      0.081960                     0.407730      0.538884  0.625440   \n",
       "2      1.258408                     1.416947      0.419246 -0.383206   \n",
       "3     -0.499936                     0.423774     -0.333164  0.282787   \n",
       "4     -0.178375                     1.809161      0.344524 -0.085409   \n",
       "\n",
       "   DER_deltaeta_jet_jet  DER_mass_jet_jet  DER_prodeta_jet_jet  \\\n",
       "0             -1.054271         -0.832179             0.493412   \n",
       "1              0.978016          2.140250            -0.951336   \n",
       "2             -0.213679         -0.671696             0.862752   \n",
       "3             -0.911885         -0.803288             0.296895   \n",
       "4             -0.949626         -0.774088             0.364909   \n",
       "\n",
       "   DER_deltar_tau_lep  DER_pt_tot  DER_sum_pt       ...        PRI_met_phi  \\\n",
       "0           -0.278981   -0.164827   -0.500498       ...           1.652916   \n",
       "1           -0.791332   -0.922031    1.434082       ...          -1.513565   \n",
       "2            1.529089   -0.862622   -0.802835       ...          -0.118588   \n",
       "3           -0.855860   -0.922311   -0.258084       ...          -0.850080   \n",
       "4           -0.751325   -0.775655   -0.202205       ...          -0.437061   \n",
       "\n",
       "   PRI_met_sumet  PRI_jet_num  PRI_jet_leading_pt  PRI_jet_leading_eta  \\\n",
       "0      -0.253251     -0.66507           -0.335862             0.405766   \n",
       "1       0.405832     -0.66507            0.718603             1.218404   \n",
       "2      -0.772349     -0.66507           -0.765130             1.630462   \n",
       "3       0.035088     -0.66507           -0.099468             0.591135   \n",
       "4      -0.081456     -0.66507           -0.549656             0.223267   \n",
       "\n",
       "   PRI_jet_leading_phi  PRI_jet_subleading_pt  PRI_jet_subleading_eta  \\\n",
       "0            -0.232734              -0.042087                0.646186   \n",
       "1            -0.800166               2.930148               -0.968661   \n",
       "2            -1.364827              -0.833181                0.401246   \n",
       "3             1.009632              -0.700604                0.112793   \n",
       "4             0.278731              -0.422695                0.580673   \n",
       "\n",
       "   PRI_jet_subleading_phi  PRI_jet_all_pt  \n",
       "0               -0.293286       -0.397762  \n",
       "1                0.334115        1.143275  \n",
       "2                1.631072       -0.901528  \n",
       "3                1.209520       -0.443151  \n",
       "4                0.779756       -0.644709  \n",
       "\n",
       "[5 rows x 30 columns]"
      ]
     },
     "execution_count": 13,
     "metadata": {},
     "output_type": "execute_result"
    }
   ],
   "source": [
    "X_test = (X_test-X_test.mean())/X_test.std()\n",
    "X_test.head()"
   ]
  },
  {
   "cell_type": "code",
   "execution_count": 56,
   "metadata": {},
   "outputs": [],
   "source": [
    "algo = ['SVM', 'RM', 'LR', 'GB', 'LDA', 'QDA', 'NB', 'NN']\n",
    "\n",
    "d = { 'CV-5 mean accuracy': \n",
    "pd.Series([0.83386245968105932, 'NaN', 0.72690904361508391, 0.8438457526169435,0.72689069162389297, 0.72246795772478478, 0.72692739560627495, 0.800994590701], index = algo\n",
    "        )}\n",
    "\n",
    "score = pd.DataFrame(d)"
   ]
  },
  {
   "cell_type": "code",
   "execution_count": 60,
   "metadata": {},
   "outputs": [],
   "source": [
    "score['Test accuracy'] = [0.83814137855097992, 0.84540850033032366, 0.73515378404169418, 0.8472436320927843, 0.72415628268888443, 'NaN',0.73500697350069732, 0.81032078103207805]"
   ]
  },
  {
   "cell_type": "markdown",
   "metadata": {},
   "source": [
    "#  Classifying Algorithms "
   ]
  },
  {
   "cell_type": "code",
   "execution_count": 19,
   "metadata": {
    "collapsed": true
   },
   "outputs": [],
   "source": [
    "from sklearn.model_selection import cross_val_score\n",
    "from sklearn.metrics import classification_report,confusion_matrix"
   ]
  },
  {
   "cell_type": "code",
   "execution_count": 23,
   "metadata": {
    "collapsed": true
   },
   "outputs": [],
   "source": [
    "def AMS2 (confusmat):\n",
    "    \"\"\"\n",
    "    Input:   Confusion Matrix\n",
    "    Output:  AMS2 score\n",
    "    \"\"\"\n",
    "    \n",
    "    tn, fp, fn, tp = confusmat.ravel()\n",
    "    s= tp/(tp+fn) \n",
    "    b= fp/(fp+tn)\n",
    "    \n",
    "    return np.sqrt( 2 *( (s+b)*np.log(1 +s/b) -s) )"
   ]
  },
  {
   "cell_type": "markdown",
   "metadata": {},
   "source": [
    "### SVM "
   ]
  },
  {
   "cell_type": "code",
   "execution_count": 16,
   "metadata": {},
   "outputs": [
    {
     "data": {
      "text/plain": [
       "0.83386245968105932"
      ]
     },
     "execution_count": 16,
     "metadata": {},
     "output_type": "execute_result"
    }
   ],
   "source": [
    "from sklearn import svm\n",
    "from sklearn.model_selection import cross_val_score\n",
    "\n",
    "clf_SVM = svm.SVC()\n",
    "cross_val_score(clf_SVM, X_train, Y_train, cv=5).mean() "
   ]
  },
  {
   "cell_type": "code",
   "execution_count": 17,
   "metadata": {},
   "outputs": [
    {
     "name": "stdout",
     "output_type": "stream",
     "text": [
      "--- 446.3740906715393 seconds ---\n"
     ]
    }
   ],
   "source": [
    "import time\n",
    "start_time = time.time()\n",
    "\n",
    "clf_SVM.fit(X_train, Y_train)\n",
    "\n",
    "print(\"--- %s seconds ---\" % (time.time() - start_time))"
   ]
  },
  {
   "cell_type": "code",
   "execution_count": null,
   "metadata": {
    "collapsed": true
   },
   "outputs": [],
   "source": []
  },
  {
   "cell_type": "code",
   "execution_count": 21,
   "metadata": {},
   "outputs": [
    {
     "name": "stdout",
     "output_type": "stream",
     "text": [
      "[[6172 1117]\n",
      " [1088 5246]]\n"
     ]
    },
    {
     "data": {
      "text/plain": [
       "0.83814137855097992"
      ]
     },
     "execution_count": 21,
     "metadata": {},
     "output_type": "execute_result"
    }
   ],
   "source": [
    "print(confusion_matrix(Y_test, clf_SVM.predict(X_test)))\n",
    "clf_SVM.score(X_test,Y_test)"
   ]
  },
  {
   "cell_type": "code",
   "execution_count": 24,
   "metadata": {},
   "outputs": [
    {
     "data": {
      "text/plain": [
       "1.410238351624477"
      ]
     },
     "execution_count": 24,
     "metadata": {},
     "output_type": "execute_result"
    }
   ],
   "source": [
    "AMS2(confusion_matrix(Y_test, clf_SVM.predict(X_test)))"
   ]
  },
  {
   "cell_type": "markdown",
   "metadata": {},
   "source": [
    "### Random Forest"
   ]
  },
  {
   "cell_type": "code",
   "execution_count": 25,
   "metadata": {},
   "outputs": [
    {
     "data": {
      "text/plain": [
       "0.8382669190448524"
      ]
     },
     "execution_count": 25,
     "metadata": {},
     "output_type": "execute_result"
    }
   ],
   "source": [
    "from sklearn.ensemble import RandomForestClassifier\n",
    "\n",
    "clf_RF = RandomForestClassifier(max_depth=10, n_estimators=100)\n",
    "\n",
    "cross_val_score(clf_RF, X_train, Y_train, cv=5).mean()"
   ]
  },
  {
   "cell_type": "code",
   "execution_count": 118,
   "metadata": {},
   "outputs": [
    {
     "name": "stdout",
     "output_type": "stream",
     "text": [
      "[mean: 0.89645, std: 0.00233, params: {'max_depth': 5, 'n_estimators': 50}, mean: 0.89875, std: 0.00277, params: {'max_depth': 5, 'n_estimators': 150}, mean: 0.89810, std: 0.00181, params: {'max_depth': 5, 'n_estimators': 250}, mean: 0.89854, std: 0.00175, params: {'max_depth': 5, 'n_estimators': 350}, mean: 0.89832, std: 0.00223, params: {'max_depth': 5, 'n_estimators': 450}, mean: 0.89867, std: 0.00256, params: {'max_depth': 5, 'n_estimators': 550}, mean: 0.91150, std: 0.00218, params: {'max_depth': 8, 'n_estimators': 50}, mean: 0.91252, std: 0.00175, params: {'max_depth': 8, 'n_estimators': 150}, mean: 0.91237, std: 0.00169, params: {'max_depth': 8, 'n_estimators': 250}, mean: 0.91250, std: 0.00163, params: {'max_depth': 8, 'n_estimators': 350}, mean: 0.91251, std: 0.00183, params: {'max_depth': 8, 'n_estimators': 450}, mean: 0.91270, std: 0.00172, params: {'max_depth': 8, 'n_estimators': 550}, mean: 0.91694, std: 0.00177, params: {'max_depth': 11, 'n_estimators': 50}, mean: 0.91818, std: 0.00159, params: {'max_depth': 11, 'n_estimators': 150}, mean: 0.91828, std: 0.00170, params: {'max_depth': 11, 'n_estimators': 250}, mean: 0.91850, std: 0.00148, params: {'max_depth': 11, 'n_estimators': 350}, mean: 0.91864, std: 0.00165, params: {'max_depth': 11, 'n_estimators': 450}, mean: 0.91859, std: 0.00162, params: {'max_depth': 11, 'n_estimators': 550}, mean: 0.91792, std: 0.00127, params: {'max_depth': 14, 'n_estimators': 50}, mean: 0.92017, std: 0.00131, params: {'max_depth': 14, 'n_estimators': 150}, mean: 0.92041, std: 0.00156, params: {'max_depth': 14, 'n_estimators': 250}, mean: 0.92039, std: 0.00166, params: {'max_depth': 14, 'n_estimators': 350}, mean: 0.92059, std: 0.00162, params: {'max_depth': 14, 'n_estimators': 450}, mean: 0.92056, std: 0.00164, params: {'max_depth': 14, 'n_estimators': 550}, mean: 0.91742, std: 0.00158, params: {'max_depth': 17, 'n_estimators': 50}, mean: 0.92000, std: 0.00151, params: {'max_depth': 17, 'n_estimators': 150}, mean: 0.92078, std: 0.00160, params: {'max_depth': 17, 'n_estimators': 250}, mean: 0.92077, std: 0.00165, params: {'max_depth': 17, 'n_estimators': 350}, mean: 0.92100, std: 0.00181, params: {'max_depth': 17, 'n_estimators': 450}, mean: 0.92102, std: 0.00173, params: {'max_depth': 17, 'n_estimators': 550}] {'max_depth': 17, 'n_estimators': 550} 0.921017534158767\n",
      "--- 4545.811062574387 seconds ---\n"
     ]
    }
   ],
   "source": [
    "from sklearn.grid_search import GridSearchCV \n",
    "\n",
    "import time\n",
    "start_time = time.time()\n",
    "\n",
    "param_test2 = {'max_depth':list(range(5,18,3)), 'n_estimators': list(range(50,560,100))}\n",
    "gsearch2 = GridSearchCV(estimator = RandomForestClassifier(), \n",
    "\n",
    "param_grid = param_test2, scoring='roc_auc',n_jobs=4,iid=False, cv=5)\n",
    "\n",
    "gsearch2.fit(X_train,Y_train)\n",
    "print(gsearch2.grid_scores_, gsearch2.best_params_, gsearch2.best_score_)\n",
    "\n",
    "print(\"--- %s seconds ---\" % (time.time() - start_time))"
   ]
  },
  {
   "cell_type": "code",
   "execution_count": 119,
   "metadata": {},
   "outputs": [
    {
     "name": "stdout",
     "output_type": "stream",
     "text": [
      "--- 178.1745343208313 seconds ---\n"
     ]
    }
   ],
   "source": [
    "import time\n",
    "start_time = time.time()\n",
    "\n",
    "clf_RF = RandomForestClassifier(max_depth=17, n_estimators=550)\n",
    "clf_RF.fit(X_train, Y_train)\n",
    "\n",
    "print(\"--- %s seconds ---\" % (time.time() - start_time))"
   ]
  },
  {
   "cell_type": "code",
   "execution_count": 27,
   "metadata": {},
   "outputs": [
    {
     "name": "stdout",
     "output_type": "stream",
     "text": [
      "--- 318.94792461395264 seconds ---\n"
     ]
    }
   ],
   "source": [
    "import time\n",
    "start_time = time.time()\n",
    "\n",
    "clf_RF = RandomForestClassifier(max_depth=14, n_estimators=460)\n",
    "clf_RF.fit(X_train, Y_train)\n",
    "\n",
    "print(\"--- %s seconds ---\" % (time.time() - start_time))"
   ]
  },
  {
   "cell_type": "code",
   "execution_count": 120,
   "metadata": {},
   "outputs": [
    {
     "name": "stdout",
     "output_type": "stream",
     "text": [
      "[[6243 1046]\n",
      " [1054 5280]]\n"
     ]
    },
    {
     "data": {
      "text/plain": [
       "0.84584893195331423"
      ]
     },
     "execution_count": 120,
     "metadata": {},
     "output_type": "execute_result"
    }
   ],
   "source": [
    "print(confusion_matrix(Y_test, clf_RF.predict(X_test)))\n",
    "clf_RF.score(X_test,Y_test)"
   ]
  },
  {
   "cell_type": "code",
   "execution_count": null,
   "metadata": {
    "collapsed": true
   },
   "outputs": [],
   "source": [
    "print(confusion_matrix(Y_test, clf_RF.predict(X_test)))\n",
    "clf_RF.score(X_test,Y_test)"
   ]
  },
  {
   "cell_type": "code",
   "execution_count": 29,
   "metadata": {},
   "outputs": [
    {
     "data": {
      "text/plain": [
       "1.4375379896421117"
      ]
     },
     "execution_count": 29,
     "metadata": {},
     "output_type": "execute_result"
    }
   ],
   "source": [
    "AMS2(confusion_matrix(Y_test, clf_RF.predict(X_test)))"
   ]
  },
  {
   "cell_type": "code",
   "execution_count": null,
   "metadata": {
    "collapsed": true
   },
   "outputs": [],
   "source": []
  },
  {
   "cell_type": "markdown",
   "metadata": {},
   "source": [
    "### Logistic Regression with L1 "
   ]
  },
  {
   "cell_type": "code",
   "execution_count": 30,
   "metadata": {},
   "outputs": [
    {
     "data": {
      "text/plain": [
       "0.72690904361508391"
      ]
     },
     "execution_count": 30,
     "metadata": {},
     "output_type": "execute_result"
    }
   ],
   "source": [
    "from sklearn import linear_model\n",
    "\n",
    "\n",
    "clf_LR = linear_model.LogisticRegression(penalty = 'l1')\n",
    "\n",
    "cross_val_score(clf_LR, X_train, Y_train, cv=5).mean()"
   ]
  },
  {
   "cell_type": "code",
   "execution_count": 61,
   "metadata": {},
   "outputs": [
    {
     "name": "stdout",
     "output_type": "stream",
     "text": [
      "--- 26.493537664413452 seconds ---\n",
      "[mean: 0.69272, std: 0.00235, params: {'C': 0.001}, mean: 0.72412, std: 0.00356, params: {'C': 0.01}, mean: 0.72623, std: 0.00358, params: {'C': 0.1}, mean: 0.72649, std: 0.00369, params: {'C': 1}, mean: 0.72652, std: 0.00372, params: {'C': 10}, mean: 0.72651, std: 0.00375, params: {'C': 100}, mean: 0.72654, std: 0.00371, params: {'C': 1000}] {'C': 1000} 0.7265419977610982\n"
     ]
    }
   ],
   "source": [
    "param_grid = {'C': [0.001, 0.01, 0.1, 1, 10, 100, 1000] }\n",
    "\n",
    "start_time = time.time()\n",
    "gsearchLR = GridSearchCV(linear_model.LogisticRegression(penalty = 'l1'), param_grid)\n",
    "gsearchLR.fit(X_train,Y_train)\n",
    "print(\"--- %s seconds ---\" % (time.time() - start_time))\n",
    "\n",
    "print(gsearchLR.grid_scores_, gsearchLR.best_params_, gsearchLR.best_score_)"
   ]
  },
  {
   "cell_type": "code",
   "execution_count": 32,
   "metadata": {},
   "outputs": [
    {
     "name": "stdout",
     "output_type": "stream",
     "text": [
      "--- 2.7267801761627197 seconds ---\n"
     ]
    },
    {
     "data": {
      "text/plain": [
       "0.73515378404169418"
      ]
     },
     "execution_count": 32,
     "metadata": {},
     "output_type": "execute_result"
    }
   ],
   "source": [
    "clf_LR = linear_model.LogisticRegression(penalty = 'l1', C = 10)\n",
    "\n",
    "start_time = time.time()\n",
    "clf_LR.fit(X_train, Y_train)\n",
    "print(\"--- %s seconds ---\" % (time.time() - start_time))\n",
    "\n",
    "clf_LR.score(X_test, Y_test)"
   ]
  },
  {
   "cell_type": "code",
   "execution_count": 33,
   "metadata": {},
   "outputs": [
    {
     "data": {
      "text/plain": [
       "1.0886188852419179"
      ]
     },
     "execution_count": 33,
     "metadata": {},
     "output_type": "execute_result"
    }
   ],
   "source": [
    "AMS2(confusion_matrix(Y_test, clf_LR.predict(X_test)))"
   ]
  },
  {
   "cell_type": "code",
   "execution_count": 34,
   "metadata": {},
   "outputs": [
    {
     "name": "stdout",
     "output_type": "stream",
     "text": [
      "[[-0.14627826 -0.35027401 -0.39097191  0.97734341 -0.35272446  1.08743364\n",
      "   0.08510128  0.92388217 -0.17710165  0.01739176 -0.6242672   0.27858583\n",
      "   0.41437505  0.3116027  -0.01097672  0.00476618  0.63863667 -0.02868211\n",
      "   0.00332973  0.04388544  0.01341053 -0.32940451 -0.16946223 -0.56399372\n",
      "   0.01616393  0.00854873 -0.00176151  0.01690086 -0.00812704 -0.09178579]]\n"
     ]
    }
   ],
   "source": [
    "print(clf_LR.coef_)"
   ]
  },
  {
   "cell_type": "markdown",
   "metadata": {},
   "source": [
    "### Gradient boost"
   ]
  },
  {
   "cell_type": "code",
   "execution_count": 35,
   "metadata": {},
   "outputs": [
    {
     "data": {
      "text/plain": [
       "0.8438457526169435"
      ]
     },
     "execution_count": 35,
     "metadata": {},
     "output_type": "execute_result"
    }
   ],
   "source": [
    "from sklearn.ensemble import GradientBoostingClassifier\n",
    "\n",
    "clf_GB = GradientBoostingClassifier(n_estimators=100, max_depth = 10)\n",
    "\n",
    "cross_val_score(clf_GB, X_train, Y_train, cv=5).mean()"
   ]
  },
  {
   "cell_type": "code",
   "execution_count": 36,
   "metadata": {},
   "outputs": [
    {
     "data": {
      "text/plain": [
       "0.8472436320927843"
      ]
     },
     "execution_count": 36,
     "metadata": {},
     "output_type": "execute_result"
    }
   ],
   "source": [
    "clf_GB.fit(X_train, Y_train)\n",
    "clf_GB.score(X_test, Y_test)"
   ]
  },
  {
   "cell_type": "code",
   "execution_count": 37,
   "metadata": {},
   "outputs": [
    {
     "data": {
      "text/plain": [
       "array([ 0.14354602,  0.04842325,  0.05389382,  0.02806151,  0.03884063,\n",
       "        0.04133585,  0.02962076,  0.03487953,  0.03982677,  0.0214564 ,\n",
       "        0.02224714,  0.03487351,  0.03602483,  0.03658398,  0.02751745,\n",
       "        0.02750522,  0.0255648 ,  0.02785359,  0.02378209,  0.0289058 ,\n",
       "        0.02362624,  0.0279786 ,  0.00369708,  0.02218951,  0.02495102,\n",
       "        0.02958832,  0.02788624,  0.02257992,  0.02710582,  0.01965431])"
      ]
     },
     "execution_count": 37,
     "metadata": {},
     "output_type": "execute_result"
    }
   ],
   "source": [
    "clf_GB.feature_importances_"
   ]
  },
  {
   "cell_type": "code",
   "execution_count": 38,
   "metadata": {},
   "outputs": [
    {
     "name": "stdout",
     "output_type": "stream",
     "text": [
      "[[6265 1024]\n",
      " [1057 5277]]\n"
     ]
    }
   ],
   "source": [
    "print(confusion_matrix(Y_test, clf_GB.predict(X_test)))"
   ]
  },
  {
   "cell_type": "code",
   "execution_count": 39,
   "metadata": {},
   "outputs": [
    {
     "data": {
      "text/plain": [
       "1.4503031213072557"
      ]
     },
     "execution_count": 39,
     "metadata": {},
     "output_type": "execute_result"
    }
   ],
   "source": [
    "AMS2(confusion_matrix(Y_test, clf_GB.predict(X_test)))"
   ]
  },
  {
   "cell_type": "code",
   "execution_count": 121,
   "metadata": {},
   "outputs": [
    {
     "data": {
      "text/plain": [
       "0.84386411976254527"
      ]
     },
     "execution_count": 121,
     "metadata": {},
     "output_type": "execute_result"
    }
   ],
   "source": [
    "from sklearn.ensemble import GradientBoostingClassifier\n",
    "\n",
    "clf_GB2 = GradientBoostingClassifier(n_estimators=100, max_depth = 10)\n",
    "\n",
    "cross_val_score(clf_GB2, X_train, Y_train, cv=5).mean()"
   ]
  },
  {
   "cell_type": "code",
   "execution_count": 123,
   "metadata": {},
   "outputs": [
    {
     "data": {
      "text/plain": [
       "0.8302288479325789"
      ]
     },
     "execution_count": 123,
     "metadata": {},
     "output_type": "execute_result"
    }
   ],
   "source": [
    "from sklearn.ensemble import GradientBoostingClassifier\n",
    "\n",
    "clf_GB = GradientBoostingClassifier(n_estimators=360, max_depth = 20)\n",
    "\n",
    "cross_val_score(clf_GB, X_train, Y_train, cv=5).mean()"
   ]
  },
  {
   "cell_type": "markdown",
   "metadata": {},
   "source": [
    "### LDA"
   ]
  },
  {
   "cell_type": "code",
   "execution_count": 40,
   "metadata": {},
   "outputs": [
    {
     "data": {
      "text/plain": [
       "0.72689069162389297"
      ]
     },
     "execution_count": 40,
     "metadata": {},
     "output_type": "execute_result"
    }
   ],
   "source": [
    "from sklearn.discriminant_analysis import LinearDiscriminantAnalysis\n",
    "\n",
    "clf_LDA = LinearDiscriminantAnalysis()\n",
    "\n",
    "cross_val_score(clf_LR, X_train, Y_train, cv=5).mean()"
   ]
  },
  {
   "cell_type": "code",
   "execution_count": 41,
   "metadata": {},
   "outputs": [
    {
     "name": "stdout",
     "output_type": "stream",
     "text": [
      "--- 3.19126296043396 seconds ---\n"
     ]
    },
    {
     "name": "stderr",
     "output_type": "stream",
     "text": [
      "C:\\ProgramData\\Anaconda3\\lib\\site-packages\\sklearn\\discriminant_analysis.py:387: UserWarning: Variables are collinear.\n",
      "  warnings.warn(\"Variables are collinear.\")\n"
     ]
    },
    {
     "data": {
      "text/plain": [
       "0.72920795713132203"
      ]
     },
     "execution_count": 41,
     "metadata": {},
     "output_type": "execute_result"
    }
   ],
   "source": [
    "start_time = time.time()\n",
    "clf_LDA.fit(X_train,Y_train)\n",
    "print(\"--- %s seconds ---\" % (time.time() - start_time))\n",
    "\n",
    "clf_LDA.score(X_test, Y_test)"
   ]
  },
  {
   "cell_type": "code",
   "execution_count": 42,
   "metadata": {},
   "outputs": [
    {
     "name": "stdout",
     "output_type": "stream",
     "text": [
      "[[5622 1667]\n",
      " [2022 4312]]\n"
     ]
    },
    {
     "data": {
      "text/plain": [
       "0.72415628268888443"
      ]
     },
     "execution_count": 42,
     "metadata": {},
     "output_type": "execute_result"
    }
   ],
   "source": [
    "print(confusion_matrix(Y_test, clf_LDA.predict(X_test)))\n",
    "clf_LDA.score(X_train,Y_train)"
   ]
  },
  {
   "cell_type": "code",
   "execution_count": 43,
   "metadata": {},
   "outputs": [
    {
     "data": {
      "text/plain": [
       "1.0721082562629329"
      ]
     },
     "execution_count": 43,
     "metadata": {},
     "output_type": "execute_result"
    }
   ],
   "source": [
    "AMS2(confusion_matrix(Y_test, clf_LDA.predict(X_test)))"
   ]
  },
  {
   "cell_type": "markdown",
   "metadata": {},
   "source": [
    "### QDA"
   ]
  },
  {
   "cell_type": "code",
   "execution_count": 44,
   "metadata": {},
   "outputs": [
    {
     "data": {
      "text/plain": [
       "0.72246795772478478"
      ]
     },
     "execution_count": 44,
     "metadata": {},
     "output_type": "execute_result"
    }
   ],
   "source": [
    "from sklearn.discriminant_analysis import QuadraticDiscriminantAnalysis\n",
    "\n",
    "clf_QDA = QuadraticDiscriminantAnalysis()\n",
    "cross_val_score(clf_QDA, X_train, Y_train, cv=5).mean()"
   ]
  },
  {
   "cell_type": "code",
   "execution_count": 59,
   "metadata": {},
   "outputs": [
    {
     "name": "stdout",
     "output_type": "stream",
     "text": [
      "--- 0.32622718811035156 seconds ---\n"
     ]
    },
    {
     "data": {
      "text/plain": [
       "0.476326800264259"
      ]
     },
     "execution_count": 59,
     "metadata": {},
     "output_type": "execute_result"
    }
   ],
   "source": [
    "start_time = time.time()\n",
    "clf_QDA.fit(X_train,Y_train)\n",
    "print(\"--- %s seconds ---\" % (time.time() - start_time))\n",
    "\n",
    "clf_QDA.score(X_test, Y_test)"
   ]
  },
  {
   "cell_type": "markdown",
   "metadata": {},
   "source": [
    "### Naive Bayes"
   ]
  },
  {
   "cell_type": "code",
   "execution_count": null,
   "metadata": {
    "collapsed": true
   },
   "outputs": [],
   "source": []
  },
  {
   "cell_type": "code",
   "execution_count": 46,
   "metadata": {},
   "outputs": [
    {
     "data": {
      "text/plain": [
       "0.72692739560627495"
      ]
     },
     "execution_count": 46,
     "metadata": {},
     "output_type": "execute_result"
    }
   ],
   "source": [
    "from sklearn.naive_bayes import GaussianNB\n",
    "\n",
    "clf_NB = GaussianNB()\n",
    "\n",
    "cross_val_score(clf_LR, X_train, Y_train, cv=5).mean()"
   ]
  },
  {
   "cell_type": "code",
   "execution_count": 47,
   "metadata": {},
   "outputs": [
    {
     "name": "stdout",
     "output_type": "stream",
     "text": [
      "--- 0.17812633514404297 seconds ---\n"
     ]
    },
    {
     "data": {
      "text/plain": [
       "0.73500697350069732"
      ]
     },
     "execution_count": 47,
     "metadata": {},
     "output_type": "execute_result"
    }
   ],
   "source": [
    "start_time = time.time()\n",
    "clf_NB.fit(X_train, Y_train)\n",
    "print(\"--- %s seconds ---\" % (time.time() - start_time))\n",
    "\n",
    "\n",
    "clf_NB.score(X_test, Y_test)"
   ]
  },
  {
   "cell_type": "code",
   "execution_count": 48,
   "metadata": {},
   "outputs": [
    {
     "name": "stdout",
     "output_type": "stream",
     "text": [
      "[[5042 2247]\n",
      " [1363 4971]]\n"
     ]
    }
   ],
   "source": [
    "print(confusion_matrix(Y_test, clf_NB.predict(X_test)))"
   ]
  },
  {
   "cell_type": "code",
   "execution_count": 49,
   "metadata": {},
   "outputs": [
    {
     "data": {
      "text/plain": [
       "1.0943368003390268"
      ]
     },
     "execution_count": 49,
     "metadata": {},
     "output_type": "execute_result"
    }
   ],
   "source": [
    "AMS2(confusion_matrix(Y_test, clf_NB.predict(X_test)))"
   ]
  },
  {
   "cell_type": "markdown",
   "metadata": {},
   "source": [
    "### Neutral Networks"
   ]
  },
  {
   "cell_type": "code",
   "execution_count": 50,
   "metadata": {},
   "outputs": [
    {
     "name": "stdout",
     "output_type": "stream",
     "text": [
      "0.800994590701\n",
      "--- 2132.712710618973 seconds ---\n"
     ]
    }
   ],
   "source": [
    "from sklearn.neural_network import MLPClassifier\n",
    "\n",
    "layers = 50\n",
    "\n",
    "start_time = time.time()\n",
    "clf_NN = MLPClassifier(alpha=1e-5,\n",
    "                    hidden_layer_sizes=(layers, layers, layers, layers, layers, layers, layers, layers, layers, layers))\n",
    "\n",
    "print(cross_val_score(clf_NN, X_train, Y_train, cv=5).mean())\n",
    "\n",
    "print(\"--- %s seconds ---\" % (time.time() - start_time))"
   ]
  },
  {
   "cell_type": "code",
   "execution_count": 51,
   "metadata": {},
   "outputs": [
    {
     "data": {
      "text/plain": [
       "0.81032078103207805"
      ]
     },
     "execution_count": 51,
     "metadata": {},
     "output_type": "execute_result"
    }
   ],
   "source": [
    "clf_NN.fit(X_train, Y_train,)\n",
    "clf_NN.score(X_test, Y_test)"
   ]
  },
  {
   "cell_type": "code",
   "execution_count": 52,
   "metadata": {},
   "outputs": [
    {
     "name": "stdout",
     "output_type": "stream",
     "text": [
      "[[6128 1161]\n",
      " [1423 4911]]\n"
     ]
    },
    {
     "data": {
      "text/plain": [
       "0.92969481198730064"
      ]
     },
     "execution_count": 52,
     "metadata": {},
     "output_type": "execute_result"
    }
   ],
   "source": [
    "print(confusion_matrix(Y_test, clf_NN.predict(X_test)))\n",
    "clf_NN.score(X_train,Y_train)"
   ]
  },
  {
   "cell_type": "code",
   "execution_count": 53,
   "metadata": {},
   "outputs": [
    {
     "data": {
      "text/plain": [
       "1.3254761979858598"
      ]
     },
     "execution_count": 53,
     "metadata": {},
     "output_type": "execute_result"
    }
   ],
   "source": [
    "AMS2(confusion_matrix(Y_test, clf_NN.predict(X_test)))"
   ]
  },
  {
   "cell_type": "markdown",
   "metadata": {},
   "source": [
    "### Ensemble Voting"
   ]
  },
  {
   "cell_type": "code",
   "execution_count": 62,
   "metadata": {},
   "outputs": [
    {
     "data": {
      "text/plain": [
       "VotingClassifier(estimators=[('rf', RandomForestClassifier(bootstrap=True, class_weight=None, criterion='gini',\n",
       "            max_depth=14, max_features='auto', max_leaf_nodes=None,\n",
       "            min_impurity_split=1e-07, min_samples_leaf=1,\n",
       "            min_samples_split=2, min_weight_fraction_leaf=0.0,\n",
       "            n_es...=True, solver='adam', tol=0.0001,\n",
       "       validation_fraction=0.1, verbose=False, warm_start=False))],\n",
       "         n_jobs=1, voting='hard', weights=None)"
      ]
     },
     "execution_count": 62,
     "metadata": {},
     "output_type": "execute_result"
    }
   ],
   "source": [
    "from sklearn.ensemble import VotingClassifier\n",
    "\n",
    "eclf1 = VotingClassifier(estimators=[\n",
    "        ('rf', clf_RF),  ('gb', clf_GB), ('nn',clf_NN)\n",
    "], voting='hard')\n",
    "eclf1.fit(X_train, Y_train)"
   ]
  },
  {
   "cell_type": "code",
   "execution_count": 63,
   "metadata": {},
   "outputs": [
    {
     "data": {
      "text/plain": [
       "0.84746384790427953"
      ]
     },
     "execution_count": 63,
     "metadata": {},
     "output_type": "execute_result"
    }
   ],
   "source": [
    "eclf1.score(X_test, Y_test)"
   ]
  },
  {
   "cell_type": "code",
   "execution_count": 66,
   "metadata": {},
   "outputs": [
    {
     "data": {
      "text/plain": [
       "VotingClassifier(estimators=[('rf', RandomForestClassifier(bootstrap=True, class_weight=None, criterion='gini',\n",
       "            max_depth=14, max_features='auto', max_leaf_nodes=None,\n",
       "            min_impurity_split=1e-07, min_samples_leaf=1,\n",
       "            min_samples_split=2, min_weight_fraction_leaf=0.0,\n",
       "            n_es...,\n",
       "  max_iter=-1, probability=False, random_state=None, shrinking=True,\n",
       "  tol=0.001, verbose=False))],\n",
       "         n_jobs=1, voting='hard', weights=None)"
      ]
     },
     "execution_count": 66,
     "metadata": {},
     "output_type": "execute_result"
    }
   ],
   "source": [
    "eclf2 = VotingClassifier(estimators=[\n",
    "        ('rf', clf_RF),  ('gb', clf_GB), ('nn',clf_NN), ('LDA', clf_SVM)\n",
    "], voting='hard')\n",
    "eclf2.fit(X_train, Y_train)"
   ]
  },
  {
   "cell_type": "code",
   "execution_count": 67,
   "metadata": {},
   "outputs": [
    {
     "data": {
      "text/plain": [
       "0.84951919547823529"
      ]
     },
     "execution_count": 67,
     "metadata": {},
     "output_type": "execute_result"
    }
   ],
   "source": [
    "eclf2.score(X_test, Y_test)"
   ]
  },
  {
   "cell_type": "code",
   "execution_count": 68,
   "metadata": {},
   "outputs": [
    {
     "data": {
      "text/plain": [
       "VotingClassifier(estimators=[('rf', RandomForestClassifier(bootstrap=True, class_weight=None, criterion='gini',\n",
       "            max_depth=14, max_features='auto', max_leaf_nodes=None,\n",
       "            min_impurity_split=1e-07, min_samples_leaf=1,\n",
       "            min_samples_split=2, min_weight_fraction_leaf=0.0,\n",
       "            n_es...ty='l1', random_state=None, solver='liblinear', tol=0.0001,\n",
       "          verbose=0, warm_start=False))],\n",
       "         n_jobs=1, voting='hard', weights=None)"
      ]
     },
     "execution_count": 68,
     "metadata": {},
     "output_type": "execute_result"
    }
   ],
   "source": [
    "eclf3 = VotingClassifier(estimators=[\n",
    "        ('rf', clf_RF),  ('gb', clf_GB), ('nn',clf_NN), ('LDA', clf_SVM), ('LR', clf_LR)\n",
    "], voting='hard')\n",
    "eclf3.fit(X_train, Y_train)"
   ]
  },
  {
   "cell_type": "code",
   "execution_count": 69,
   "metadata": {},
   "outputs": [
    {
     "data": {
      "text/plain": [
       "0.84783087425677162"
      ]
     },
     "execution_count": 69,
     "metadata": {},
     "output_type": "execute_result"
    }
   ],
   "source": [
    "eclf3.score(X_test, Y_test)"
   ]
  },
  {
   "cell_type": "code",
   "execution_count": 76,
   "metadata": {},
   "outputs": [],
   "source": [
    "algo = ['SVM', 'RF', 'GB',  'NN']\n",
    "\n",
    "pred_mat = pd.DataFrame()"
   ]
  },
  {
   "cell_type": "code",
   "execution_count": 77,
   "metadata": {},
   "outputs": [],
   "source": [
    "pred_mat['SVM'] = clf_SVM.predict(X_train)"
   ]
  },
  {
   "cell_type": "code",
   "execution_count": 79,
   "metadata": {
    "collapsed": true
   },
   "outputs": [],
   "source": [
    "pred_mat['RF'] = clf_RF.predict(X_train)\n",
    "pred_mat['GB'] = clf_GB.predict(X_train)\n",
    "pred_mat['NN'] = clf_NN.predict(X_train)"
   ]
  },
  {
   "cell_type": "code",
   "execution_count": 82,
   "metadata": {},
   "outputs": [
    {
     "data": {
      "text/plain": [
       "LogisticRegression(C=1.0, class_weight=None, dual=False, fit_intercept=True,\n",
       "          intercept_scaling=1, max_iter=100, multi_class='ovr', n_jobs=1,\n",
       "          penalty='l1', random_state=None, solver='liblinear', tol=0.0001,\n",
       "          verbose=0, warm_start=False)"
      ]
     },
     "execution_count": 82,
     "metadata": {},
     "output_type": "execute_result"
    }
   ],
   "source": [
    "clf_stack_LR = linear_model.LogisticRegression(penalty = 'l1')\n",
    "\n",
    "clf_stack_LR.fit(pred_mat, Y_train)"
   ]
  },
  {
   "cell_type": "code",
   "execution_count": 85,
   "metadata": {},
   "outputs": [],
   "source": [
    "pred_mat_test = pd.DataFrame()\n",
    "\n",
    "pred_mat_test['SVM'] = clf_SVM.predict(X_test)\n",
    "pred_mat_test['RF'] = clf_RF.predict(X_test)\n",
    "pred_mat_test['GB'] = clf_GB.predict(X_test)\n",
    "pred_mat_test['NN'] = clf_NN.predict(X_test)"
   ]
  },
  {
   "cell_type": "code",
   "execution_count": 87,
   "metadata": {},
   "outputs": [
    {
     "data": {
      "text/plain": [
       "0.84761065844527639"
      ]
     },
     "execution_count": 87,
     "metadata": {},
     "output_type": "execute_result"
    }
   ],
   "source": [
    "clf_stack_LR.score(pred_mat_test, Y_test)"
   ]
  },
  {
   "cell_type": "markdown",
   "metadata": {},
   "source": [
    "### Adding predictions as features"
   ]
  },
  {
   "cell_type": "code",
   "execution_count": 110,
   "metadata": {
    "collapsed": true
   },
   "outputs": [],
   "source": [
    "Xfeat_train = X_train.copy()"
   ]
  },
  {
   "cell_type": "code",
   "execution_count": 112,
   "metadata": {},
   "outputs": [],
   "source": [
    "Xfeat_train['SVM'] = clf_SVM.predict(X_train)\n",
    "Xfeat_train['RF'] = clf_RF.predict(X_train)\n",
    "Xfeat_train['GB'] = clf_GB.predict(X_train)\n",
    "Xfeat_train['NN'] = clf_NN.predict(X_train)"
   ]
  },
  {
   "cell_type": "code",
   "execution_count": 114,
   "metadata": {},
   "outputs": [
    {
     "data": {
      "text/plain": [
       "LogisticRegression(C=1.0, class_weight=None, dual=False, fit_intercept=True,\n",
       "          intercept_scaling=1, max_iter=100, multi_class='ovr', n_jobs=1,\n",
       "          penalty='l1', random_state=None, solver='liblinear', tol=0.0001,\n",
       "          verbose=0, warm_start=False)"
      ]
     },
     "execution_count": 114,
     "metadata": {},
     "output_type": "execute_result"
    }
   ],
   "source": [
    "clf_LR_feat = linear_model.LogisticRegression(penalty = 'l1')\n",
    "clf_LR_feat.fit(Xfeat_train, Y_train)"
   ]
  },
  {
   "cell_type": "code",
   "execution_count": 115,
   "metadata": {
    "collapsed": true
   },
   "outputs": [],
   "source": [
    "Xfeat_test = X_test.copy()\n",
    "Xfeat_test['SVM'] = clf_SVM.predict(X_test)\n",
    "Xfeat_test['RF'] = clf_RF.predict(X_test)\n",
    "Xfeat_test['GB'] = clf_GB.predict(X_test)\n",
    "Xfeat_test['NN'] = clf_NN.predict(X_test)"
   ]
  },
  {
   "cell_type": "code",
   "execution_count": 117,
   "metadata": {},
   "outputs": [
    {
     "data": {
      "text/plain": [
       "0.84746384790427953"
      ]
     },
     "execution_count": 117,
     "metadata": {},
     "output_type": "execute_result"
    }
   ],
   "source": [
    "clf_LR_feat.score(Xfeat_test, Y_test)"
   ]
  },
  {
   "cell_type": "code",
   "execution_count": null,
   "metadata": {
    "collapsed": true
   },
   "outputs": [],
   "source": []
  }
 ],
 "metadata": {
  "kernelspec": {
   "display_name": "Python 3",
   "language": "python",
   "name": "python3"
  },
  "language_info": {
   "codemirror_mode": {
    "name": "ipython",
    "version": 3
   },
   "file_extension": ".py",
   "mimetype": "text/x-python",
   "name": "python",
   "nbconvert_exporter": "python",
   "pygments_lexer": "ipython3",
   "version": "3.7.4"
  }
 },
 "nbformat": 4,
 "nbformat_minor": 2
}
