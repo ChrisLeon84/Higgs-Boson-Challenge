{
 "cells": [
  {
   "cell_type": "code",
   "execution_count": 1,
   "metadata": {
    "collapsed": true
   },
   "outputs": [],
   "source": [
    "%matplotlib inline\n",
    "import numpy as np\n",
    "import matplotlib.pyplot as plt\n",
    "import pandas as pd"
   ]
  },
  {
   "cell_type": "markdown",
   "metadata": {},
   "source": [
    "## Load Data"
   ]
  },
  {
   "cell_type": "code",
   "execution_count": 2,
   "metadata": {},
   "outputs": [
    {
     "data": {
      "text/html": [
       "<div>\n",
       "<table border=\"1\" class=\"dataframe\">\n",
       "  <thead>\n",
       "    <tr style=\"text-align: right;\">\n",
       "      <th></th>\n",
       "      <th>EventId</th>\n",
       "      <th>DER_mass_MMC</th>\n",
       "      <th>DER_mass_transverse_met_lep</th>\n",
       "      <th>DER_mass_vis</th>\n",
       "      <th>DER_pt_h</th>\n",
       "      <th>DER_deltaeta_jet_jet</th>\n",
       "      <th>DER_mass_jet_jet</th>\n",
       "      <th>DER_prodeta_jet_jet</th>\n",
       "      <th>DER_deltar_tau_lep</th>\n",
       "      <th>DER_pt_tot</th>\n",
       "      <th>...</th>\n",
       "      <th>PRI_jet_num</th>\n",
       "      <th>PRI_jet_leading_pt</th>\n",
       "      <th>PRI_jet_leading_eta</th>\n",
       "      <th>PRI_jet_leading_phi</th>\n",
       "      <th>PRI_jet_subleading_pt</th>\n",
       "      <th>PRI_jet_subleading_eta</th>\n",
       "      <th>PRI_jet_subleading_phi</th>\n",
       "      <th>PRI_jet_all_pt</th>\n",
       "      <th>Weight</th>\n",
       "      <th>Label</th>\n",
       "    </tr>\n",
       "  </thead>\n",
       "  <tbody>\n",
       "    <tr>\n",
       "      <th>0</th>\n",
       "      <td>100000</td>\n",
       "      <td>138.470</td>\n",
       "      <td>51.655</td>\n",
       "      <td>97.827</td>\n",
       "      <td>27.980</td>\n",
       "      <td>0.91</td>\n",
       "      <td>124.711</td>\n",
       "      <td>2.666</td>\n",
       "      <td>3.064</td>\n",
       "      <td>41.928</td>\n",
       "      <td>...</td>\n",
       "      <td>2</td>\n",
       "      <td>67.435</td>\n",
       "      <td>2.150</td>\n",
       "      <td>0.444</td>\n",
       "      <td>46.062</td>\n",
       "      <td>1.24</td>\n",
       "      <td>-2.475</td>\n",
       "      <td>113.497</td>\n",
       "      <td>0.002653</td>\n",
       "      <td>s</td>\n",
       "    </tr>\n",
       "    <tr>\n",
       "      <th>1</th>\n",
       "      <td>100001</td>\n",
       "      <td>160.937</td>\n",
       "      <td>68.768</td>\n",
       "      <td>103.235</td>\n",
       "      <td>48.146</td>\n",
       "      <td>-999.00</td>\n",
       "      <td>-999.000</td>\n",
       "      <td>-999.000</td>\n",
       "      <td>3.473</td>\n",
       "      <td>2.078</td>\n",
       "      <td>...</td>\n",
       "      <td>1</td>\n",
       "      <td>46.226</td>\n",
       "      <td>0.725</td>\n",
       "      <td>1.158</td>\n",
       "      <td>-999.000</td>\n",
       "      <td>-999.00</td>\n",
       "      <td>-999.000</td>\n",
       "      <td>46.226</td>\n",
       "      <td>2.233584</td>\n",
       "      <td>b</td>\n",
       "    </tr>\n",
       "    <tr>\n",
       "      <th>2</th>\n",
       "      <td>100002</td>\n",
       "      <td>-999.000</td>\n",
       "      <td>162.172</td>\n",
       "      <td>125.953</td>\n",
       "      <td>35.635</td>\n",
       "      <td>-999.00</td>\n",
       "      <td>-999.000</td>\n",
       "      <td>-999.000</td>\n",
       "      <td>3.148</td>\n",
       "      <td>9.336</td>\n",
       "      <td>...</td>\n",
       "      <td>1</td>\n",
       "      <td>44.251</td>\n",
       "      <td>2.053</td>\n",
       "      <td>-2.028</td>\n",
       "      <td>-999.000</td>\n",
       "      <td>-999.00</td>\n",
       "      <td>-999.000</td>\n",
       "      <td>44.251</td>\n",
       "      <td>2.347389</td>\n",
       "      <td>b</td>\n",
       "    </tr>\n",
       "    <tr>\n",
       "      <th>3</th>\n",
       "      <td>100003</td>\n",
       "      <td>143.905</td>\n",
       "      <td>81.417</td>\n",
       "      <td>80.943</td>\n",
       "      <td>0.414</td>\n",
       "      <td>-999.00</td>\n",
       "      <td>-999.000</td>\n",
       "      <td>-999.000</td>\n",
       "      <td>3.310</td>\n",
       "      <td>0.414</td>\n",
       "      <td>...</td>\n",
       "      <td>0</td>\n",
       "      <td>-999.000</td>\n",
       "      <td>-999.000</td>\n",
       "      <td>-999.000</td>\n",
       "      <td>-999.000</td>\n",
       "      <td>-999.00</td>\n",
       "      <td>-999.000</td>\n",
       "      <td>-0.000</td>\n",
       "      <td>5.446378</td>\n",
       "      <td>b</td>\n",
       "    </tr>\n",
       "    <tr>\n",
       "      <th>4</th>\n",
       "      <td>100004</td>\n",
       "      <td>175.864</td>\n",
       "      <td>16.915</td>\n",
       "      <td>134.805</td>\n",
       "      <td>16.405</td>\n",
       "      <td>-999.00</td>\n",
       "      <td>-999.000</td>\n",
       "      <td>-999.000</td>\n",
       "      <td>3.891</td>\n",
       "      <td>16.405</td>\n",
       "      <td>...</td>\n",
       "      <td>0</td>\n",
       "      <td>-999.000</td>\n",
       "      <td>-999.000</td>\n",
       "      <td>-999.000</td>\n",
       "      <td>-999.000</td>\n",
       "      <td>-999.00</td>\n",
       "      <td>-999.000</td>\n",
       "      <td>0.000</td>\n",
       "      <td>6.245333</td>\n",
       "      <td>b</td>\n",
       "    </tr>\n",
       "  </tbody>\n",
       "</table>\n",
       "<p>5 rows × 33 columns</p>\n",
       "</div>"
      ],
      "text/plain": [
       "   EventId  DER_mass_MMC  DER_mass_transverse_met_lep  DER_mass_vis  DER_pt_h  \\\n",
       "0   100000       138.470                       51.655        97.827    27.980   \n",
       "1   100001       160.937                       68.768       103.235    48.146   \n",
       "2   100002      -999.000                      162.172       125.953    35.635   \n",
       "3   100003       143.905                       81.417        80.943     0.414   \n",
       "4   100004       175.864                       16.915       134.805    16.405   \n",
       "\n",
       "   DER_deltaeta_jet_jet  DER_mass_jet_jet  DER_prodeta_jet_jet  \\\n",
       "0                  0.91           124.711                2.666   \n",
       "1               -999.00          -999.000             -999.000   \n",
       "2               -999.00          -999.000             -999.000   \n",
       "3               -999.00          -999.000             -999.000   \n",
       "4               -999.00          -999.000             -999.000   \n",
       "\n",
       "   DER_deltar_tau_lep  DER_pt_tot  ...    PRI_jet_num  PRI_jet_leading_pt  \\\n",
       "0               3.064      41.928  ...              2              67.435   \n",
       "1               3.473       2.078  ...              1              46.226   \n",
       "2               3.148       9.336  ...              1              44.251   \n",
       "3               3.310       0.414  ...              0            -999.000   \n",
       "4               3.891      16.405  ...              0            -999.000   \n",
       "\n",
       "   PRI_jet_leading_eta  PRI_jet_leading_phi  PRI_jet_subleading_pt  \\\n",
       "0                2.150                0.444                 46.062   \n",
       "1                0.725                1.158               -999.000   \n",
       "2                2.053               -2.028               -999.000   \n",
       "3             -999.000             -999.000               -999.000   \n",
       "4             -999.000             -999.000               -999.000   \n",
       "\n",
       "   PRI_jet_subleading_eta  PRI_jet_subleading_phi  PRI_jet_all_pt    Weight  \\\n",
       "0                    1.24                  -2.475         113.497  0.002653   \n",
       "1                 -999.00                -999.000          46.226  2.233584   \n",
       "2                 -999.00                -999.000          44.251  2.347389   \n",
       "3                 -999.00                -999.000          -0.000  5.446378   \n",
       "4                 -999.00                -999.000           0.000  6.245333   \n",
       "\n",
       "   Label  \n",
       "0      s  \n",
       "1      b  \n",
       "2      b  \n",
       "3      b  \n",
       "4      b  \n",
       "\n",
       "[5 rows x 33 columns]"
      ]
     },
     "execution_count": 2,
     "metadata": {},
     "output_type": "execute_result"
    }
   ],
   "source": [
    "rawdata = pd.read_csv('training.csv')\n",
    "rawdata.head()"
   ]
  },
  {
   "cell_type": "code",
   "execution_count": 3,
   "metadata": {},
   "outputs": [
    {
     "data": {
      "text/html": [
       "<div>\n",
       "<table border=\"1\" class=\"dataframe\">\n",
       "  <thead>\n",
       "    <tr style=\"text-align: right;\">\n",
       "      <th></th>\n",
       "      <th>EventId</th>\n",
       "      <th>DER_mass_MMC</th>\n",
       "      <th>DER_mass_transverse_met_lep</th>\n",
       "      <th>DER_mass_vis</th>\n",
       "      <th>DER_pt_h</th>\n",
       "      <th>DER_deltaeta_jet_jet</th>\n",
       "      <th>DER_mass_jet_jet</th>\n",
       "      <th>DER_prodeta_jet_jet</th>\n",
       "      <th>DER_deltar_tau_lep</th>\n",
       "      <th>DER_pt_tot</th>\n",
       "      <th>...</th>\n",
       "      <th>PRI_met_sumet</th>\n",
       "      <th>PRI_jet_num</th>\n",
       "      <th>PRI_jet_leading_pt</th>\n",
       "      <th>PRI_jet_leading_eta</th>\n",
       "      <th>PRI_jet_leading_phi</th>\n",
       "      <th>PRI_jet_subleading_pt</th>\n",
       "      <th>PRI_jet_subleading_eta</th>\n",
       "      <th>PRI_jet_subleading_phi</th>\n",
       "      <th>PRI_jet_all_pt</th>\n",
       "      <th>Weight</th>\n",
       "    </tr>\n",
       "  </thead>\n",
       "  <tbody>\n",
       "    <tr>\n",
       "      <th>count</th>\n",
       "      <td>250000.000000</td>\n",
       "      <td>211886.000000</td>\n",
       "      <td>250000.000000</td>\n",
       "      <td>250000.000000</td>\n",
       "      <td>250000.000000</td>\n",
       "      <td>72543.000000</td>\n",
       "      <td>72543.000000</td>\n",
       "      <td>72543.000000</td>\n",
       "      <td>250000.000000</td>\n",
       "      <td>250000.000000</td>\n",
       "      <td>...</td>\n",
       "      <td>250000.000000</td>\n",
       "      <td>250000.000000</td>\n",
       "      <td>150087.000000</td>\n",
       "      <td>150087.000000</td>\n",
       "      <td>150087.000000</td>\n",
       "      <td>72543.000000</td>\n",
       "      <td>72543.000000</td>\n",
       "      <td>72543.000000</td>\n",
       "      <td>250000.000000</td>\n",
       "      <td>250000.000000</td>\n",
       "    </tr>\n",
       "    <tr>\n",
       "      <th>mean</th>\n",
       "      <td>224999.500000</td>\n",
       "      <td>121.858528</td>\n",
       "      <td>49.239819</td>\n",
       "      <td>81.181982</td>\n",
       "      <td>57.895962</td>\n",
       "      <td>2.403735</td>\n",
       "      <td>371.783360</td>\n",
       "      <td>-0.821688</td>\n",
       "      <td>2.373100</td>\n",
       "      <td>18.917332</td>\n",
       "      <td>...</td>\n",
       "      <td>209.797178</td>\n",
       "      <td>0.979176</td>\n",
       "      <td>84.822105</td>\n",
       "      <td>-0.003275</td>\n",
       "      <td>-0.012393</td>\n",
       "      <td>57.679474</td>\n",
       "      <td>-0.011845</td>\n",
       "      <td>-0.001582</td>\n",
       "      <td>73.064591</td>\n",
       "      <td>1.646767</td>\n",
       "    </tr>\n",
       "    <tr>\n",
       "      <th>std</th>\n",
       "      <td>72168.927986</td>\n",
       "      <td>57.298157</td>\n",
       "      <td>35.344886</td>\n",
       "      <td>40.828691</td>\n",
       "      <td>63.655682</td>\n",
       "      <td>1.742226</td>\n",
       "      <td>397.699325</td>\n",
       "      <td>3.584362</td>\n",
       "      <td>0.782911</td>\n",
       "      <td>22.273494</td>\n",
       "      <td>...</td>\n",
       "      <td>126.499506</td>\n",
       "      <td>0.977426</td>\n",
       "      <td>60.662276</td>\n",
       "      <td>1.784546</td>\n",
       "      <td>1.813385</td>\n",
       "      <td>31.985782</td>\n",
       "      <td>2.031743</td>\n",
       "      <td>1.816950</td>\n",
       "      <td>98.015662</td>\n",
       "      <td>1.875103</td>\n",
       "    </tr>\n",
       "    <tr>\n",
       "      <th>min</th>\n",
       "      <td>100000.000000</td>\n",
       "      <td>9.044000</td>\n",
       "      <td>0.000000</td>\n",
       "      <td>6.329000</td>\n",
       "      <td>0.000000</td>\n",
       "      <td>0.000000</td>\n",
       "      <td>13.602000</td>\n",
       "      <td>-18.066000</td>\n",
       "      <td>0.208000</td>\n",
       "      <td>0.000000</td>\n",
       "      <td>...</td>\n",
       "      <td>13.678000</td>\n",
       "      <td>0.000000</td>\n",
       "      <td>30.000000</td>\n",
       "      <td>-4.499000</td>\n",
       "      <td>-3.142000</td>\n",
       "      <td>30.000000</td>\n",
       "      <td>-4.500000</td>\n",
       "      <td>-3.142000</td>\n",
       "      <td>0.000000</td>\n",
       "      <td>0.001502</td>\n",
       "    </tr>\n",
       "    <tr>\n",
       "      <th>25%</th>\n",
       "      <td>162499.750000</td>\n",
       "      <td>91.885250</td>\n",
       "      <td>19.241000</td>\n",
       "      <td>59.388750</td>\n",
       "      <td>14.068750</td>\n",
       "      <td>0.882500</td>\n",
       "      <td>111.977000</td>\n",
       "      <td>-2.629000</td>\n",
       "      <td>1.810000</td>\n",
       "      <td>2.841000</td>\n",
       "      <td>...</td>\n",
       "      <td>123.017500</td>\n",
       "      <td>0.000000</td>\n",
       "      <td>44.422500</td>\n",
       "      <td>-1.342000</td>\n",
       "      <td>-1.584000</td>\n",
       "      <td>37.312000</td>\n",
       "      <td>-1.612000</td>\n",
       "      <td>-1.576500</td>\n",
       "      <td>0.000000</td>\n",
       "      <td>0.018636</td>\n",
       "    </tr>\n",
       "    <tr>\n",
       "      <th>50%</th>\n",
       "      <td>224999.500000</td>\n",
       "      <td>112.406000</td>\n",
       "      <td>46.524000</td>\n",
       "      <td>73.752000</td>\n",
       "      <td>38.467500</td>\n",
       "      <td>2.107000</td>\n",
       "      <td>225.885000</td>\n",
       "      <td>-0.244000</td>\n",
       "      <td>2.491500</td>\n",
       "      <td>12.315500</td>\n",
       "      <td>...</td>\n",
       "      <td>179.739000</td>\n",
       "      <td>1.000000</td>\n",
       "      <td>65.561000</td>\n",
       "      <td>0.000000</td>\n",
       "      <td>-0.033000</td>\n",
       "      <td>47.902000</td>\n",
       "      <td>-0.010000</td>\n",
       "      <td>-0.002000</td>\n",
       "      <td>40.512500</td>\n",
       "      <td>1.156188</td>\n",
       "    </tr>\n",
       "    <tr>\n",
       "      <th>75%</th>\n",
       "      <td>287499.250000</td>\n",
       "      <td>135.482000</td>\n",
       "      <td>73.598000</td>\n",
       "      <td>92.259000</td>\n",
       "      <td>79.169000</td>\n",
       "      <td>3.690000</td>\n",
       "      <td>478.226000</td>\n",
       "      <td>0.958000</td>\n",
       "      <td>2.961000</td>\n",
       "      <td>27.591000</td>\n",
       "      <td>...</td>\n",
       "      <td>263.379250</td>\n",
       "      <td>2.000000</td>\n",
       "      <td>103.342000</td>\n",
       "      <td>1.336000</td>\n",
       "      <td>1.562000</td>\n",
       "      <td>66.637000</td>\n",
       "      <td>1.589500</td>\n",
       "      <td>1.576000</td>\n",
       "      <td>109.933750</td>\n",
       "      <td>2.404128</td>\n",
       "    </tr>\n",
       "    <tr>\n",
       "      <th>max</th>\n",
       "      <td>349999.000000</td>\n",
       "      <td>1192.026000</td>\n",
       "      <td>690.075000</td>\n",
       "      <td>1349.351000</td>\n",
       "      <td>2834.999000</td>\n",
       "      <td>8.503000</td>\n",
       "      <td>4974.979000</td>\n",
       "      <td>16.690000</td>\n",
       "      <td>5.684000</td>\n",
       "      <td>2834.999000</td>\n",
       "      <td>...</td>\n",
       "      <td>2003.976000</td>\n",
       "      <td>3.000000</td>\n",
       "      <td>1120.573000</td>\n",
       "      <td>4.499000</td>\n",
       "      <td>3.141000</td>\n",
       "      <td>721.456000</td>\n",
       "      <td>4.500000</td>\n",
       "      <td>3.142000</td>\n",
       "      <td>1633.433000</td>\n",
       "      <td>7.822543</td>\n",
       "    </tr>\n",
       "  </tbody>\n",
       "</table>\n",
       "<p>8 rows × 32 columns</p>\n",
       "</div>"
      ],
      "text/plain": [
       "             EventId   DER_mass_MMC  DER_mass_transverse_met_lep  \\\n",
       "count  250000.000000  211886.000000                250000.000000   \n",
       "mean   224999.500000     121.858528                    49.239819   \n",
       "std     72168.927986      57.298157                    35.344886   \n",
       "min    100000.000000       9.044000                     0.000000   \n",
       "25%    162499.750000      91.885250                    19.241000   \n",
       "50%    224999.500000     112.406000                    46.524000   \n",
       "75%    287499.250000     135.482000                    73.598000   \n",
       "max    349999.000000    1192.026000                   690.075000   \n",
       "\n",
       "        DER_mass_vis       DER_pt_h  DER_deltaeta_jet_jet  DER_mass_jet_jet  \\\n",
       "count  250000.000000  250000.000000          72543.000000      72543.000000   \n",
       "mean       81.181982      57.895962              2.403735        371.783360   \n",
       "std        40.828691      63.655682              1.742226        397.699325   \n",
       "min         6.329000       0.000000              0.000000         13.602000   \n",
       "25%        59.388750      14.068750              0.882500        111.977000   \n",
       "50%        73.752000      38.467500              2.107000        225.885000   \n",
       "75%        92.259000      79.169000              3.690000        478.226000   \n",
       "max      1349.351000    2834.999000              8.503000       4974.979000   \n",
       "\n",
       "       DER_prodeta_jet_jet  DER_deltar_tau_lep     DER_pt_tot      ...        \\\n",
       "count         72543.000000       250000.000000  250000.000000      ...         \n",
       "mean             -0.821688            2.373100      18.917332      ...         \n",
       "std               3.584362            0.782911      22.273494      ...         \n",
       "min             -18.066000            0.208000       0.000000      ...         \n",
       "25%              -2.629000            1.810000       2.841000      ...         \n",
       "50%              -0.244000            2.491500      12.315500      ...         \n",
       "75%               0.958000            2.961000      27.591000      ...         \n",
       "max              16.690000            5.684000    2834.999000      ...         \n",
       "\n",
       "       PRI_met_sumet    PRI_jet_num  PRI_jet_leading_pt  PRI_jet_leading_eta  \\\n",
       "count  250000.000000  250000.000000       150087.000000        150087.000000   \n",
       "mean      209.797178       0.979176           84.822105            -0.003275   \n",
       "std       126.499506       0.977426           60.662276             1.784546   \n",
       "min        13.678000       0.000000           30.000000            -4.499000   \n",
       "25%       123.017500       0.000000           44.422500            -1.342000   \n",
       "50%       179.739000       1.000000           65.561000             0.000000   \n",
       "75%       263.379250       2.000000          103.342000             1.336000   \n",
       "max      2003.976000       3.000000         1120.573000             4.499000   \n",
       "\n",
       "       PRI_jet_leading_phi  PRI_jet_subleading_pt  PRI_jet_subleading_eta  \\\n",
       "count        150087.000000           72543.000000            72543.000000   \n",
       "mean             -0.012393              57.679474               -0.011845   \n",
       "std               1.813385              31.985782                2.031743   \n",
       "min              -3.142000              30.000000               -4.500000   \n",
       "25%              -1.584000              37.312000               -1.612000   \n",
       "50%              -0.033000              47.902000               -0.010000   \n",
       "75%               1.562000              66.637000                1.589500   \n",
       "max               3.141000             721.456000                4.500000   \n",
       "\n",
       "       PRI_jet_subleading_phi  PRI_jet_all_pt         Weight  \n",
       "count            72543.000000   250000.000000  250000.000000  \n",
       "mean                -0.001582       73.064591       1.646767  \n",
       "std                  1.816950       98.015662       1.875103  \n",
       "min                 -3.142000        0.000000       0.001502  \n",
       "25%                 -1.576500        0.000000       0.018636  \n",
       "50%                 -0.002000       40.512500       1.156188  \n",
       "75%                  1.576000      109.933750       2.404128  \n",
       "max                  3.142000     1633.433000       7.822543  \n",
       "\n",
       "[8 rows x 32 columns]"
      ]
     },
     "execution_count": 3,
     "metadata": {},
     "output_type": "execute_result"
    }
   ],
   "source": [
    "rawdata.replace(-999.000, np.nan).describe()"
   ]
  },
  {
   "cell_type": "code",
   "execution_count": 4,
   "metadata": {
    "collapsed": true
   },
   "outputs": [],
   "source": [
    "Weight = rawdata['Weight']\n",
    "\n",
    "data = rawdata.drop(['EventId', 'Weight'], axis =1) \n",
    "data = pd.DataFrame(data)\n",
    "\n",
    "# Replace -999.000 with NaN, then drop missing data rows\n",
    "data = data.replace(-999.000, np.nan)"
   ]
  },
  {
   "cell_type": "code",
   "execution_count": 5,
   "metadata": {
    "collapsed": true
   },
   "outputs": [],
   "source": [
    "data['Missing_values'] = data.isnull().sum(axis=1)"
   ]
  },
  {
   "cell_type": "code",
   "execution_count": 6,
   "metadata": {},
   "outputs": [
    {
     "data": {
      "text/html": [
       "<div>\n",
       "<table border=\"1\" class=\"dataframe\">\n",
       "  <thead>\n",
       "    <tr style=\"text-align: right;\">\n",
       "      <th></th>\n",
       "      <th>DER_mass_MMC</th>\n",
       "      <th>DER_mass_transverse_met_lep</th>\n",
       "      <th>DER_mass_vis</th>\n",
       "      <th>DER_pt_h</th>\n",
       "      <th>DER_deltaeta_jet_jet</th>\n",
       "      <th>DER_mass_jet_jet</th>\n",
       "      <th>DER_prodeta_jet_jet</th>\n",
       "      <th>DER_deltar_tau_lep</th>\n",
       "      <th>DER_pt_tot</th>\n",
       "      <th>DER_sum_pt</th>\n",
       "      <th>...</th>\n",
       "      <th>PRI_jet_num</th>\n",
       "      <th>PRI_jet_leading_pt</th>\n",
       "      <th>PRI_jet_leading_eta</th>\n",
       "      <th>PRI_jet_leading_phi</th>\n",
       "      <th>PRI_jet_subleading_pt</th>\n",
       "      <th>PRI_jet_subleading_eta</th>\n",
       "      <th>PRI_jet_subleading_phi</th>\n",
       "      <th>PRI_jet_all_pt</th>\n",
       "      <th>Label</th>\n",
       "      <th>Missing_values</th>\n",
       "    </tr>\n",
       "  </thead>\n",
       "  <tbody>\n",
       "    <tr>\n",
       "      <th>0</th>\n",
       "      <td>138.470</td>\n",
       "      <td>51.655</td>\n",
       "      <td>97.827</td>\n",
       "      <td>27.980</td>\n",
       "      <td>0.91</td>\n",
       "      <td>124.711</td>\n",
       "      <td>2.666</td>\n",
       "      <td>3.064</td>\n",
       "      <td>41.928</td>\n",
       "      <td>197.760</td>\n",
       "      <td>...</td>\n",
       "      <td>2</td>\n",
       "      <td>67.435</td>\n",
       "      <td>2.150</td>\n",
       "      <td>0.444</td>\n",
       "      <td>46.062</td>\n",
       "      <td>1.24</td>\n",
       "      <td>-2.475</td>\n",
       "      <td>113.497</td>\n",
       "      <td>s</td>\n",
       "      <td>0</td>\n",
       "    </tr>\n",
       "    <tr>\n",
       "      <th>1</th>\n",
       "      <td>160.937</td>\n",
       "      <td>68.768</td>\n",
       "      <td>103.235</td>\n",
       "      <td>48.146</td>\n",
       "      <td>NaN</td>\n",
       "      <td>NaN</td>\n",
       "      <td>NaN</td>\n",
       "      <td>3.473</td>\n",
       "      <td>2.078</td>\n",
       "      <td>125.157</td>\n",
       "      <td>...</td>\n",
       "      <td>1</td>\n",
       "      <td>46.226</td>\n",
       "      <td>0.725</td>\n",
       "      <td>1.158</td>\n",
       "      <td>NaN</td>\n",
       "      <td>NaN</td>\n",
       "      <td>NaN</td>\n",
       "      <td>46.226</td>\n",
       "      <td>b</td>\n",
       "      <td>7</td>\n",
       "    </tr>\n",
       "    <tr>\n",
       "      <th>2</th>\n",
       "      <td>NaN</td>\n",
       "      <td>162.172</td>\n",
       "      <td>125.953</td>\n",
       "      <td>35.635</td>\n",
       "      <td>NaN</td>\n",
       "      <td>NaN</td>\n",
       "      <td>NaN</td>\n",
       "      <td>3.148</td>\n",
       "      <td>9.336</td>\n",
       "      <td>197.814</td>\n",
       "      <td>...</td>\n",
       "      <td>1</td>\n",
       "      <td>44.251</td>\n",
       "      <td>2.053</td>\n",
       "      <td>-2.028</td>\n",
       "      <td>NaN</td>\n",
       "      <td>NaN</td>\n",
       "      <td>NaN</td>\n",
       "      <td>44.251</td>\n",
       "      <td>b</td>\n",
       "      <td>8</td>\n",
       "    </tr>\n",
       "    <tr>\n",
       "      <th>3</th>\n",
       "      <td>143.905</td>\n",
       "      <td>81.417</td>\n",
       "      <td>80.943</td>\n",
       "      <td>0.414</td>\n",
       "      <td>NaN</td>\n",
       "      <td>NaN</td>\n",
       "      <td>NaN</td>\n",
       "      <td>3.310</td>\n",
       "      <td>0.414</td>\n",
       "      <td>75.968</td>\n",
       "      <td>...</td>\n",
       "      <td>0</td>\n",
       "      <td>NaN</td>\n",
       "      <td>NaN</td>\n",
       "      <td>NaN</td>\n",
       "      <td>NaN</td>\n",
       "      <td>NaN</td>\n",
       "      <td>NaN</td>\n",
       "      <td>-0.000</td>\n",
       "      <td>b</td>\n",
       "      <td>10</td>\n",
       "    </tr>\n",
       "    <tr>\n",
       "      <th>4</th>\n",
       "      <td>175.864</td>\n",
       "      <td>16.915</td>\n",
       "      <td>134.805</td>\n",
       "      <td>16.405</td>\n",
       "      <td>NaN</td>\n",
       "      <td>NaN</td>\n",
       "      <td>NaN</td>\n",
       "      <td>3.891</td>\n",
       "      <td>16.405</td>\n",
       "      <td>57.983</td>\n",
       "      <td>...</td>\n",
       "      <td>0</td>\n",
       "      <td>NaN</td>\n",
       "      <td>NaN</td>\n",
       "      <td>NaN</td>\n",
       "      <td>NaN</td>\n",
       "      <td>NaN</td>\n",
       "      <td>NaN</td>\n",
       "      <td>0.000</td>\n",
       "      <td>b</td>\n",
       "      <td>10</td>\n",
       "    </tr>\n",
       "  </tbody>\n",
       "</table>\n",
       "<p>5 rows × 32 columns</p>\n",
       "</div>"
      ],
      "text/plain": [
       "   DER_mass_MMC  DER_mass_transverse_met_lep  DER_mass_vis  DER_pt_h  \\\n",
       "0       138.470                       51.655        97.827    27.980   \n",
       "1       160.937                       68.768       103.235    48.146   \n",
       "2           NaN                      162.172       125.953    35.635   \n",
       "3       143.905                       81.417        80.943     0.414   \n",
       "4       175.864                       16.915       134.805    16.405   \n",
       "\n",
       "   DER_deltaeta_jet_jet  DER_mass_jet_jet  DER_prodeta_jet_jet  \\\n",
       "0                  0.91           124.711                2.666   \n",
       "1                   NaN               NaN                  NaN   \n",
       "2                   NaN               NaN                  NaN   \n",
       "3                   NaN               NaN                  NaN   \n",
       "4                   NaN               NaN                  NaN   \n",
       "\n",
       "   DER_deltar_tau_lep  DER_pt_tot  DER_sum_pt       ...        PRI_jet_num  \\\n",
       "0               3.064      41.928     197.760       ...                  2   \n",
       "1               3.473       2.078     125.157       ...                  1   \n",
       "2               3.148       9.336     197.814       ...                  1   \n",
       "3               3.310       0.414      75.968       ...                  0   \n",
       "4               3.891      16.405      57.983       ...                  0   \n",
       "\n",
       "   PRI_jet_leading_pt  PRI_jet_leading_eta  PRI_jet_leading_phi  \\\n",
       "0              67.435                2.150                0.444   \n",
       "1              46.226                0.725                1.158   \n",
       "2              44.251                2.053               -2.028   \n",
       "3                 NaN                  NaN                  NaN   \n",
       "4                 NaN                  NaN                  NaN   \n",
       "\n",
       "   PRI_jet_subleading_pt  PRI_jet_subleading_eta  PRI_jet_subleading_phi  \\\n",
       "0                 46.062                    1.24                  -2.475   \n",
       "1                    NaN                     NaN                     NaN   \n",
       "2                    NaN                     NaN                     NaN   \n",
       "3                    NaN                     NaN                     NaN   \n",
       "4                    NaN                     NaN                     NaN   \n",
       "\n",
       "   PRI_jet_all_pt  Label  Missing_values  \n",
       "0         113.497      s               0  \n",
       "1          46.226      b               7  \n",
       "2          44.251      b               8  \n",
       "3          -0.000      b              10  \n",
       "4           0.000      b              10  \n",
       "\n",
       "[5 rows x 32 columns]"
      ]
     },
     "execution_count": 6,
     "metadata": {},
     "output_type": "execute_result"
    }
   ],
   "source": [
    "data.head()"
   ]
  },
  {
   "cell_type": "code",
   "execution_count": null,
   "metadata": {
    "collapsed": true
   },
   "outputs": [],
   "source": []
  },
  {
   "cell_type": "code",
   "execution_count": 7,
   "metadata": {
    "collapsed": true
   },
   "outputs": [],
   "source": [
    "data = data.fillna(data.mean())"
   ]
  },
  {
   "cell_type": "code",
   "execution_count": 16,
   "metadata": {},
   "outputs": [],
   "source": [
    "dropped = ['PRI_tau_phi' ,'PRI_lep_phi' , 'PRI_met_phi' ,'PRI_jet_leading_phi','PRI_jet_subleading_phi','Label', 'PRI_jet_subleading_eta' ]   \n",
    "X_train = data.drop(dropped, axis=1)\n",
    "Y_train = data['Label'].replace(['b','s'], [0,1])"
   ]
  },
  {
   "cell_type": "code",
   "execution_count": 17,
   "metadata": {},
   "outputs": [
    {
     "data": {
      "text/html": [
       "<div>\n",
       "<table border=\"1\" class=\"dataframe\">\n",
       "  <thead>\n",
       "    <tr style=\"text-align: right;\">\n",
       "      <th></th>\n",
       "      <th>DER_mass_MMC</th>\n",
       "      <th>DER_mass_transverse_met_lep</th>\n",
       "      <th>DER_mass_vis</th>\n",
       "      <th>DER_pt_h</th>\n",
       "      <th>DER_deltaeta_jet_jet</th>\n",
       "      <th>DER_mass_jet_jet</th>\n",
       "      <th>DER_prodeta_jet_jet</th>\n",
       "      <th>DER_deltar_tau_lep</th>\n",
       "      <th>DER_pt_tot</th>\n",
       "      <th>DER_sum_pt</th>\n",
       "      <th>...</th>\n",
       "      <th>PRI_lep_pt</th>\n",
       "      <th>PRI_lep_eta</th>\n",
       "      <th>PRI_met</th>\n",
       "      <th>PRI_met_sumet</th>\n",
       "      <th>PRI_jet_num</th>\n",
       "      <th>PRI_jet_leading_pt</th>\n",
       "      <th>PRI_jet_leading_eta</th>\n",
       "      <th>PRI_jet_subleading_pt</th>\n",
       "      <th>PRI_jet_all_pt</th>\n",
       "      <th>Missing_values</th>\n",
       "    </tr>\n",
       "  </thead>\n",
       "  <tbody>\n",
       "    <tr>\n",
       "      <th>0</th>\n",
       "      <td>138.470000</td>\n",
       "      <td>51.655</td>\n",
       "      <td>97.827</td>\n",
       "      <td>27.980</td>\n",
       "      <td>0.910000</td>\n",
       "      <td>124.71100</td>\n",
       "      <td>2.666000</td>\n",
       "      <td>3.064</td>\n",
       "      <td>41.928</td>\n",
       "      <td>197.760</td>\n",
       "      <td>...</td>\n",
       "      <td>51.626</td>\n",
       "      <td>2.273</td>\n",
       "      <td>16.824</td>\n",
       "      <td>258.733</td>\n",
       "      <td>2</td>\n",
       "      <td>67.435000</td>\n",
       "      <td>2.150000</td>\n",
       "      <td>46.062000</td>\n",
       "      <td>113.497</td>\n",
       "      <td>0</td>\n",
       "    </tr>\n",
       "    <tr>\n",
       "      <th>1</th>\n",
       "      <td>160.937000</td>\n",
       "      <td>68.768</td>\n",
       "      <td>103.235</td>\n",
       "      <td>48.146</td>\n",
       "      <td>2.403735</td>\n",
       "      <td>371.78336</td>\n",
       "      <td>-0.821688</td>\n",
       "      <td>3.473</td>\n",
       "      <td>2.078</td>\n",
       "      <td>125.157</td>\n",
       "      <td>...</td>\n",
       "      <td>36.918</td>\n",
       "      <td>0.501</td>\n",
       "      <td>44.704</td>\n",
       "      <td>164.546</td>\n",
       "      <td>1</td>\n",
       "      <td>46.226000</td>\n",
       "      <td>0.725000</td>\n",
       "      <td>57.679474</td>\n",
       "      <td>46.226</td>\n",
       "      <td>7</td>\n",
       "    </tr>\n",
       "    <tr>\n",
       "      <th>2</th>\n",
       "      <td>121.858528</td>\n",
       "      <td>162.172</td>\n",
       "      <td>125.953</td>\n",
       "      <td>35.635</td>\n",
       "      <td>2.403735</td>\n",
       "      <td>371.78336</td>\n",
       "      <td>-0.821688</td>\n",
       "      <td>3.148</td>\n",
       "      <td>9.336</td>\n",
       "      <td>197.814</td>\n",
       "      <td>...</td>\n",
       "      <td>121.409</td>\n",
       "      <td>-0.953</td>\n",
       "      <td>54.283</td>\n",
       "      <td>260.414</td>\n",
       "      <td>1</td>\n",
       "      <td>44.251000</td>\n",
       "      <td>2.053000</td>\n",
       "      <td>57.679474</td>\n",
       "      <td>44.251</td>\n",
       "      <td>8</td>\n",
       "    </tr>\n",
       "    <tr>\n",
       "      <th>3</th>\n",
       "      <td>143.905000</td>\n",
       "      <td>81.417</td>\n",
       "      <td>80.943</td>\n",
       "      <td>0.414</td>\n",
       "      <td>2.403735</td>\n",
       "      <td>371.78336</td>\n",
       "      <td>-0.821688</td>\n",
       "      <td>3.310</td>\n",
       "      <td>0.414</td>\n",
       "      <td>75.968</td>\n",
       "      <td>...</td>\n",
       "      <td>53.321</td>\n",
       "      <td>-0.522</td>\n",
       "      <td>31.082</td>\n",
       "      <td>86.062</td>\n",
       "      <td>0</td>\n",
       "      <td>84.822105</td>\n",
       "      <td>-0.003275</td>\n",
       "      <td>57.679474</td>\n",
       "      <td>-0.000</td>\n",
       "      <td>10</td>\n",
       "    </tr>\n",
       "    <tr>\n",
       "      <th>4</th>\n",
       "      <td>175.864000</td>\n",
       "      <td>16.915</td>\n",
       "      <td>134.805</td>\n",
       "      <td>16.405</td>\n",
       "      <td>2.403735</td>\n",
       "      <td>371.78336</td>\n",
       "      <td>-0.821688</td>\n",
       "      <td>3.891</td>\n",
       "      <td>16.405</td>\n",
       "      <td>57.983</td>\n",
       "      <td>...</td>\n",
       "      <td>29.774</td>\n",
       "      <td>0.798</td>\n",
       "      <td>2.723</td>\n",
       "      <td>53.131</td>\n",
       "      <td>0</td>\n",
       "      <td>84.822105</td>\n",
       "      <td>-0.003275</td>\n",
       "      <td>57.679474</td>\n",
       "      <td>0.000</td>\n",
       "      <td>10</td>\n",
       "    </tr>\n",
       "  </tbody>\n",
       "</table>\n",
       "<p>5 rows × 25 columns</p>\n",
       "</div>"
      ],
      "text/plain": [
       "   DER_mass_MMC  DER_mass_transverse_met_lep  DER_mass_vis  DER_pt_h  \\\n",
       "0    138.470000                       51.655        97.827    27.980   \n",
       "1    160.937000                       68.768       103.235    48.146   \n",
       "2    121.858528                      162.172       125.953    35.635   \n",
       "3    143.905000                       81.417        80.943     0.414   \n",
       "4    175.864000                       16.915       134.805    16.405   \n",
       "\n",
       "   DER_deltaeta_jet_jet  DER_mass_jet_jet  DER_prodeta_jet_jet  \\\n",
       "0              0.910000         124.71100             2.666000   \n",
       "1              2.403735         371.78336            -0.821688   \n",
       "2              2.403735         371.78336            -0.821688   \n",
       "3              2.403735         371.78336            -0.821688   \n",
       "4              2.403735         371.78336            -0.821688   \n",
       "\n",
       "   DER_deltar_tau_lep  DER_pt_tot  DER_sum_pt       ...        PRI_lep_pt  \\\n",
       "0               3.064      41.928     197.760       ...            51.626   \n",
       "1               3.473       2.078     125.157       ...            36.918   \n",
       "2               3.148       9.336     197.814       ...           121.409   \n",
       "3               3.310       0.414      75.968       ...            53.321   \n",
       "4               3.891      16.405      57.983       ...            29.774   \n",
       "\n",
       "   PRI_lep_eta  PRI_met  PRI_met_sumet  PRI_jet_num  PRI_jet_leading_pt  \\\n",
       "0        2.273   16.824        258.733            2           67.435000   \n",
       "1        0.501   44.704        164.546            1           46.226000   \n",
       "2       -0.953   54.283        260.414            1           44.251000   \n",
       "3       -0.522   31.082         86.062            0           84.822105   \n",
       "4        0.798    2.723         53.131            0           84.822105   \n",
       "\n",
       "   PRI_jet_leading_eta  PRI_jet_subleading_pt  PRI_jet_all_pt  Missing_values  \n",
       "0             2.150000              46.062000         113.497               0  \n",
       "1             0.725000              57.679474          46.226               7  \n",
       "2             2.053000              57.679474          44.251               8  \n",
       "3            -0.003275              57.679474          -0.000              10  \n",
       "4            -0.003275              57.679474           0.000              10  \n",
       "\n",
       "[5 rows x 25 columns]"
      ]
     },
     "execution_count": 17,
     "metadata": {},
     "output_type": "execute_result"
    }
   ],
   "source": [
    "X_train.head()"
   ]
  },
  {
   "cell_type": "code",
   "execution_count": 18,
   "metadata": {},
   "outputs": [
    {
     "data": {
      "text/html": [
       "<div>\n",
       "<table border=\"1\" class=\"dataframe\">\n",
       "  <thead>\n",
       "    <tr style=\"text-align: right;\">\n",
       "      <th></th>\n",
       "      <th>DER_mass_MMC</th>\n",
       "      <th>DER_mass_transverse_met_lep</th>\n",
       "      <th>DER_mass_vis</th>\n",
       "      <th>DER_pt_h</th>\n",
       "      <th>DER_deltaeta_jet_jet</th>\n",
       "      <th>DER_mass_jet_jet</th>\n",
       "      <th>DER_prodeta_jet_jet</th>\n",
       "      <th>DER_deltar_tau_lep</th>\n",
       "      <th>DER_pt_tot</th>\n",
       "      <th>DER_sum_pt</th>\n",
       "      <th>...</th>\n",
       "      <th>PRI_lep_pt</th>\n",
       "      <th>PRI_lep_eta</th>\n",
       "      <th>PRI_met</th>\n",
       "      <th>PRI_met_sumet</th>\n",
       "      <th>PRI_jet_num</th>\n",
       "      <th>PRI_jet_leading_pt</th>\n",
       "      <th>PRI_jet_leading_eta</th>\n",
       "      <th>PRI_jet_subleading_pt</th>\n",
       "      <th>PRI_jet_all_pt</th>\n",
       "      <th>Missing_values</th>\n",
       "    </tr>\n",
       "  </thead>\n",
       "  <tbody>\n",
       "    <tr>\n",
       "      <th>0</th>\n",
       "      <td>3.149100e-01</td>\n",
       "      <td>0.068332</td>\n",
       "      <td>0.407679</td>\n",
       "      <td>-0.469965</td>\n",
       "      <td>-1.591635e+00</td>\n",
       "      <td>-1.153304e+00</td>\n",
       "      <td>1.806343e+00</td>\n",
       "      <td>0.882476</td>\n",
       "      <td>1.033096</td>\n",
       "      <td>0.339894</td>\n",
       "      <td>...</td>\n",
       "      <td>0.225054</td>\n",
       "      <td>1.812284</td>\n",
       "      <td>-0.756755</td>\n",
       "      <td>0.386846</td>\n",
       "      <td>1.044400</td>\n",
       "      <td>-3.699198e-01</td>\n",
       "      <td>1.557294e+00</td>\n",
       "      <td>-6.742627e-01</td>\n",
       "      <td>0.412510</td>\n",
       "      <td>-1.494484</td>\n",
       "    </tr>\n",
       "    <tr>\n",
       "      <th>1</th>\n",
       "      <td>7.408255e-01</td>\n",
       "      <td>0.552504</td>\n",
       "      <td>0.540135</td>\n",
       "      <td>-0.153167</td>\n",
       "      <td>-7.228998e-12</td>\n",
       "      <td>-6.304965e-12</td>\n",
       "      <td>6.751151e-13</td>\n",
       "      <td>1.404885</td>\n",
       "      <td>-0.756026</td>\n",
       "      <td>-0.287584</td>\n",
       "      <td>...</td>\n",
       "      <td>-0.441525</td>\n",
       "      <td>0.411474</td>\n",
       "      <td>0.090798</td>\n",
       "      <td>-0.357718</td>\n",
       "      <td>0.021305</td>\n",
       "      <td>-8.211525e-01</td>\n",
       "      <td>5.267038e-01</td>\n",
       "      <td>-8.402849e-12</td>\n",
       "      <td>-0.273819</td>\n",
       "      <td>0.160744</td>\n",
       "    </tr>\n",
       "    <tr>\n",
       "      <th>2</th>\n",
       "      <td>-1.001901e-12</td>\n",
       "      <td>3.195149</td>\n",
       "      <td>1.096558</td>\n",
       "      <td>-0.349709</td>\n",
       "      <td>-7.228998e-12</td>\n",
       "      <td>-6.304965e-12</td>\n",
       "      <td>6.751151e-13</td>\n",
       "      <td>0.989768</td>\n",
       "      <td>-0.430167</td>\n",
       "      <td>0.340360</td>\n",
       "      <td>...</td>\n",
       "      <td>3.387675</td>\n",
       "      <td>-0.737949</td>\n",
       "      <td>0.382000</td>\n",
       "      <td>0.400135</td>\n",
       "      <td>0.021305</td>\n",
       "      <td>-8.631717e-01</td>\n",
       "      <td>1.487142e+00</td>\n",
       "      <td>-8.402849e-12</td>\n",
       "      <td>-0.293969</td>\n",
       "      <td>0.397206</td>\n",
       "    </tr>\n",
       "    <tr>\n",
       "      <th>3</th>\n",
       "      <td>4.179434e-01</td>\n",
       "      <td>0.910377</td>\n",
       "      <td>-0.005853</td>\n",
       "      <td>-0.903014</td>\n",
       "      <td>-7.228998e-12</td>\n",
       "      <td>-6.304965e-12</td>\n",
       "      <td>6.751151e-13</td>\n",
       "      <td>1.196688</td>\n",
       "      <td>-0.830733</td>\n",
       "      <td>-0.712704</td>\n",
       "      <td>...</td>\n",
       "      <td>0.301872</td>\n",
       "      <td>-0.397233</td>\n",
       "      <td>-0.323312</td>\n",
       "      <td>-0.978148</td>\n",
       "      <td>-1.001790</td>\n",
       "      <td>2.894636e-12</td>\n",
       "      <td>-4.091216e-15</td>\n",
       "      <td>-8.402849e-12</td>\n",
       "      <td>-0.745438</td>\n",
       "      <td>0.870128</td>\n",
       "    </tr>\n",
       "    <tr>\n",
       "      <th>4</th>\n",
       "      <td>1.023802e+00</td>\n",
       "      <td>-0.914554</td>\n",
       "      <td>1.313366</td>\n",
       "      <td>-0.651803</td>\n",
       "      <td>-7.228998e-12</td>\n",
       "      <td>-6.304965e-12</td>\n",
       "      <td>6.751151e-13</td>\n",
       "      <td>1.938790</td>\n",
       "      <td>-0.112795</td>\n",
       "      <td>-0.868141</td>\n",
       "      <td>...</td>\n",
       "      <td>-0.765296</td>\n",
       "      <td>0.646260</td>\n",
       "      <td>-1.185426</td>\n",
       "      <td>-1.238473</td>\n",
       "      <td>-1.001790</td>\n",
       "      <td>2.894636e-12</td>\n",
       "      <td>-4.091216e-15</td>\n",
       "      <td>-8.402849e-12</td>\n",
       "      <td>-0.745438</td>\n",
       "      <td>0.870128</td>\n",
       "    </tr>\n",
       "  </tbody>\n",
       "</table>\n",
       "<p>5 rows × 25 columns</p>\n",
       "</div>"
      ],
      "text/plain": [
       "   DER_mass_MMC  DER_mass_transverse_met_lep  DER_mass_vis  DER_pt_h  \\\n",
       "0  3.149100e-01                     0.068332      0.407679 -0.469965   \n",
       "1  7.408255e-01                     0.552504      0.540135 -0.153167   \n",
       "2 -1.001901e-12                     3.195149      1.096558 -0.349709   \n",
       "3  4.179434e-01                     0.910377     -0.005853 -0.903014   \n",
       "4  1.023802e+00                    -0.914554      1.313366 -0.651803   \n",
       "\n",
       "   DER_deltaeta_jet_jet  DER_mass_jet_jet  DER_prodeta_jet_jet  \\\n",
       "0         -1.591635e+00     -1.153304e+00         1.806343e+00   \n",
       "1         -7.228998e-12     -6.304965e-12         6.751151e-13   \n",
       "2         -7.228998e-12     -6.304965e-12         6.751151e-13   \n",
       "3         -7.228998e-12     -6.304965e-12         6.751151e-13   \n",
       "4         -7.228998e-12     -6.304965e-12         6.751151e-13   \n",
       "\n",
       "   DER_deltar_tau_lep  DER_pt_tot  DER_sum_pt       ...        PRI_lep_pt  \\\n",
       "0            0.882476    1.033096    0.339894       ...          0.225054   \n",
       "1            1.404885   -0.756026   -0.287584       ...         -0.441525   \n",
       "2            0.989768   -0.430167    0.340360       ...          3.387675   \n",
       "3            1.196688   -0.830733   -0.712704       ...          0.301872   \n",
       "4            1.938790   -0.112795   -0.868141       ...         -0.765296   \n",
       "\n",
       "   PRI_lep_eta   PRI_met  PRI_met_sumet  PRI_jet_num  PRI_jet_leading_pt  \\\n",
       "0     1.812284 -0.756755       0.386846     1.044400       -3.699198e-01   \n",
       "1     0.411474  0.090798      -0.357718     0.021305       -8.211525e-01   \n",
       "2    -0.737949  0.382000       0.400135     0.021305       -8.631717e-01   \n",
       "3    -0.397233 -0.323312      -0.978148    -1.001790        2.894636e-12   \n",
       "4     0.646260 -1.185426      -1.238473    -1.001790        2.894636e-12   \n",
       "\n",
       "   PRI_jet_leading_eta  PRI_jet_subleading_pt  PRI_jet_all_pt  Missing_values  \n",
       "0         1.557294e+00          -6.742627e-01        0.412510       -1.494484  \n",
       "1         5.267038e-01          -8.402849e-12       -0.273819        0.160744  \n",
       "2         1.487142e+00          -8.402849e-12       -0.293969        0.397206  \n",
       "3        -4.091216e-15          -8.402849e-12       -0.745438        0.870128  \n",
       "4        -4.091216e-15          -8.402849e-12       -0.745438        0.870128  \n",
       "\n",
       "[5 rows x 25 columns]"
      ]
     },
     "execution_count": 18,
     "metadata": {},
     "output_type": "execute_result"
    }
   ],
   "source": [
    "X_train = (X_train - X_train.mean())/X_train.std()\n",
    "X_train.head()"
   ]
  },
  {
   "cell_type": "code",
   "execution_count": 11,
   "metadata": {
    "collapsed": true
   },
   "outputs": [],
   "source": [
    "Higgs  = data.where(data['Label'] == 's')\n",
    "Higgs= Higgs.drop('Label',1)\n",
    "\n",
    "nonHiggs = data.where(data['Label'] == 'b')\n",
    "nonHiggs = nonHiggs.drop('Label',1)"
   ]
  },
  {
   "cell_type": "code",
   "execution_count": null,
   "metadata": {},
   "outputs": [],
   "source": [
    "plt.rcParams.update({'font.size': 16})\n",
    "plt.figure(figsize=(12,7))\n",
    "nonHiggs['Missing_values'].plot.hist(bins=12, label = 'Background', alpha = 0.7, normed= True)\n",
    "Higgs['Missing_values'].plot.hist(bins=12, label = 'Signal', alpha = 0.7, color= 'darkorange', normed=True)\n",
    "plt.title('Missing values')\n",
    "plt.legend()"
   ]
  },
  {
   "cell_type": "markdown",
   "metadata": {},
   "source": [
    "# Algorithms"
   ]
  },
  {
   "cell_type": "code",
   "execution_count": 20,
   "metadata": {
    "collapsed": true
   },
   "outputs": [],
   "source": [
    "from sklearn.pipeline import Pipeline\n",
    "from sklearn.model_selection import GridSearchCV\n",
    "from sklearn.model_selection import cross_val_score\n",
    "from sklearn.metrics import confusion_matrix\n",
    "import time\n",
    "\n",
    "def AMS2 (confusmat):\n",
    "    \"\"\"\n",
    "    Input:   Confusion Matrix\n",
    "    Output:  AMS2 score\n",
    "    \"\"\"\n",
    "    \n",
    "    tn, fp, fn, tp = confusmat.ravel()\n",
    "    s= tp/(tp+fn) \n",
    "    b= fp/(fp+tn)\n",
    "    \n",
    "    return np.sqrt( 2 *( (s+b)*np.log(1 +s/b) -s) )"
   ]
  },
  {
   "cell_type": "code",
   "execution_count": null,
   "metadata": {
    "collapsed": true
   },
   "outputs": [],
   "source": [
    "trainnoNaN = pd.read_csv('Higgstrain.csv')\n",
    "\n",
    "XnoNaN_train = trainnoNaN .drop(dropped, axis=1)\n",
    "XnoNaN_train = XnoNaN_train.drop('Unnamed: 0', axis=1)\n",
    "YnoNaN_train = trainnoNaN ['Label'].replace(['b','s'], [0,1])"
   ]
  },
  {
   "cell_type": "code",
   "execution_count": null,
   "metadata": {},
   "outputs": [],
   "source": [
    "XnoNaN_train.head()"
   ]
  },
  {
   "cell_type": "markdown",
   "metadata": {},
   "source": [
    "### Logistic Regression with L1 "
   ]
  },
  {
   "cell_type": "code",
   "execution_count": 26,
   "metadata": {},
   "outputs": [
    {
     "name": "stdout",
     "output_type": "stream",
     "text": [
      "0.752251998641\n",
      "0.00229089574633\n"
     ]
    }
   ],
   "source": [
    "from sklearn import linear_model\n",
    "\n",
    "clf_LR = linear_model.LogisticRegression(penalty = 'l1')\n",
    "cv =cross_val_score(clf_LR, X_train, Y_train, cv=5)\n",
    "\n",
    "print(cv.mean())\n",
    "print(cv.std())"
   ]
  },
  {
   "cell_type": "code",
   "execution_count": 27,
   "metadata": {},
   "outputs": [
    {
     "data": {
      "text/plain": [
       "LogisticRegression(C=1.0, class_weight=None, dual=False, fit_intercept=True,\n",
       "          intercept_scaling=1, max_iter=100, multi_class='ovr', n_jobs=1,\n",
       "          penalty='l1', random_state=None, solver='liblinear', tol=0.0001,\n",
       "          verbose=0, warm_start=False)"
      ]
     },
     "execution_count": 27,
     "metadata": {},
     "output_type": "execute_result"
    }
   ],
   "source": [
    "clf_LR.fit(X_train, Y_train)"
   ]
  },
  {
   "cell_type": "code",
   "execution_count": 28,
   "metadata": {},
   "outputs": [
    {
     "data": {
      "text/plain": [
       "array([[  7.77403161e-02,  -6.69400162e-01,  -1.14292964e+00,\n",
       "          3.70904719e-01,  -1.09858800e-01,   5.00934915e-01,\n",
       "          4.12075377e-02,   1.07985491e+00,  -2.96617368e-02,\n",
       "          1.03225848e-01,  -7.89576110e-01,   2.34943733e-01,\n",
       "          2.16450467e-01,   5.04104581e-01,  -2.11158075e-03,\n",
       "          1.03066620e+00,  -1.86713426e-03,   1.53844976e-01,\n",
       "         -1.75359776e-01,  -5.67304001e-01,  -2.04159879e-01,\n",
       "         -1.82791212e-04,  -7.76334900e-02,  -2.02819564e-01,\n",
       "         -7.82397761e-01]])"
      ]
     },
     "execution_count": 28,
     "metadata": {},
     "output_type": "execute_result"
    }
   ],
   "source": [
    "clf_LR.coef_"
   ]
  },
  {
   "cell_type": "markdown",
   "metadata": {},
   "source": [
    "### Random Forest"
   ]
  },
  {
   "cell_type": "code",
   "execution_count": null,
   "metadata": {
    "collapsed": true
   },
   "outputs": [],
   "source": []
  },
  {
   "cell_type": "code",
   "execution_count": 25,
   "metadata": {},
   "outputs": [
    {
     "name": "stdout",
     "output_type": "stream",
     "text": [
      "--- 1286.4916710853577 seconds ---\n",
      "0.834568011707\n",
      "0.000942024212658\n"
     ]
    }
   ],
   "source": [
    "from sklearn.ensemble import RandomForestClassifier\n",
    "\n",
    "clf_RF = RandomForestClassifier(max_depth=12, n_estimators=200)\n",
    "\n",
    "start_time = time.time()\n",
    "\n",
    "cv = cross_val_score(clf_RF, X_train, Y_train, cv=5)\n",
    "\n",
    "\n",
    "print(\"--- %s seconds ---\" % (time.time() - start_time))\n",
    "print(cv.mean())\n",
    "print(cv.std())\n"
   ]
  },
  {
   "cell_type": "markdown",
   "metadata": {},
   "source": [
    "### SVM"
   ]
  },
  {
   "cell_type": "code",
   "execution_count": null,
   "metadata": {},
   "outputs": [],
   "source": [
    "from sklearn import svm\n",
    "clf_SVM = svm.SVC()\n",
    "cross_val_score(clf_SVM, X_train, Y_train, cv=5).mean() "
   ]
  },
  {
   "cell_type": "code",
   "execution_count": null,
   "metadata": {},
   "outputs": [],
   "source": [
    "import time\n",
    "start_time = time.time()\n",
    "\n",
    "clf_SVM.fit(X_train, Y_train)\n",
    "\n",
    "print(\"--- %s seconds ---\" % (time.time() - start_time))"
   ]
  },
  {
   "cell_type": "markdown",
   "metadata": {},
   "source": [
    "### Gradient Boost"
   ]
  },
  {
   "cell_type": "code",
   "execution_count": null,
   "metadata": {},
   "outputs": [
    {
     "name": "stderr",
     "output_type": "stream",
     "text": [
      "\n",
      "KeyboardInterrupt\n",
      "\n"
     ]
    }
   ],
   "source": [
    "from sklearn.ensemble import GradientBoostingClassifier\n",
    "\n",
    "clf_GB = GradientBoostingClassifier(n_estimators=200, max_depth = 13)\n",
    "cv =cross_val_score(clf_GB, X_train, Y_train, cv=5)\n",
    "\n",
    "print(cv.mean())\n",
    "print(cv.std())"
   ]
  },
  {
   "cell_type": "code",
   "execution_count": null,
   "metadata": {},
   "outputs": [],
   "source": [
    "clf_GB.fit(X_train, Y_train)"
   ]
  },
  {
   "cell_type": "code",
   "execution_count": null,
   "metadata": {},
   "outputs": [],
   "source": [
    "clf_GB.feature_importances_"
   ]
  },
  {
   "cell_type": "markdown",
   "metadata": {},
   "source": [
    "### Neutral Networks"
   ]
  },
  {
   "cell_type": "code",
   "execution_count": 24,
   "metadata": {},
   "outputs": [
    {
     "name": "stdout",
     "output_type": "stream",
     "text": [
      "0.84207600371\n",
      "0.000404384594689\n"
     ]
    }
   ],
   "source": [
    "from sklearn.neural_network import MLPClassifier\n",
    "\n",
    "layers = 100\n",
    "\n",
    "start_time = time.time()\n",
    "clf_NN = MLPClassifier(alpha=1e-5,\n",
    "                    hidden_layer_sizes=(layers,10))\n",
    "\n",
    "cv =cross_val_score(clf_NN, X_train, Y_train, cv=5)\n",
    "\n",
    "print(cv.mean())\n",
    "print(cv.std())"
   ]
  },
  {
   "cell_type": "markdown",
   "metadata": {},
   "source": [
    "# Predicting Test Set"
   ]
  },
  {
   "cell_type": "code",
   "execution_count": null,
   "metadata": {
    "collapsed": true
   },
   "outputs": [],
   "source": [
    "raw_test_set =  pd.read_csv('test.csv')"
   ]
  },
  {
   "cell_type": "code",
   "execution_count": null,
   "metadata": {},
   "outputs": [],
   "source": [
    "raw_test_set.head()"
   ]
  },
  {
   "cell_type": "code",
   "execution_count": null,
   "metadata": {},
   "outputs": [],
   "source": [
    "raw_test_set.head()"
   ]
  },
  {
   "cell_type": "code",
   "execution_count": null,
   "metadata": {
    "collapsed": true
   },
   "outputs": [],
   "source": [
    "test_set = raw_test_set.drop(['EventId'], axis =1) \n",
    "\n",
    "# Replace -999.000 with NaN, then drop missing data rows\n",
    "test_set = test_set.replace(-999.000, np.nan)\n",
    "test_set = test_set.fillna(test_set.mean())"
   ]
  },
  {
   "cell_type": "code",
   "execution_count": null,
   "metadata": {},
   "outputs": [],
   "source": [
    "test_set.describe()"
   ]
  },
  {
   "cell_type": "code",
   "execution_count": null,
   "metadata": {
    "collapsed": true
   },
   "outputs": [],
   "source": [
    "test_set = test_set.drop( ['PRI_tau_phi' ,'PRI_lep_phi' , 'PRI_met_phi' ,'PRI_jet_leading_phi','PRI_jet_subleading_phi'], axis=1)"
   ]
  },
  {
   "cell_type": "code",
   "execution_count": null,
   "metadata": {
    "collapsed": true
   },
   "outputs": [],
   "source": [
    "test_set.to_csv(\"test_fillnan_mean.csv\", index= False)"
   ]
  },
  {
   "cell_type": "code",
   "execution_count": null,
   "metadata": {
    "collapsed": true
   },
   "outputs": [],
   "source": [
    "pred =clf_RF.predict(test_set)"
   ]
  },
  {
   "cell_type": "code",
   "execution_count": null,
   "metadata": {
    "collapsed": true
   },
   "outputs": [],
   "source": [
    "pred = pd.DataFrame(pred)"
   ]
  },
  {
   "cell_type": "code",
   "execution_count": null,
   "metadata": {
    "collapsed": true
   },
   "outputs": [],
   "source": [
    "prob = clf_RF.predict_proba(test_set)"
   ]
  },
  {
   "cell_type": "code",
   "execution_count": null,
   "metadata": {
    "collapsed": true
   },
   "outputs": [],
   "source": [
    "prob = pd.DataFrame(prob)"
   ]
  },
  {
   "cell_type": "code",
   "execution_count": null,
   "metadata": {
    "collapsed": true
   },
   "outputs": [],
   "source": [
    "submission = pd.DataFrame()\n",
    "\n",
    "submission['EventId'] = raw_test_set['EventId']\n",
    "submission['Class'] = pred.replace([0,1],['b','s'])\n",
    "submission['Prob'] = prob[0]"
   ]
  },
  {
   "cell_type": "code",
   "execution_count": null,
   "metadata": {},
   "outputs": [],
   "source": [
    "submission.head()"
   ]
  },
  {
   "cell_type": "code",
   "execution_count": null,
   "metadata": {
    "collapsed": true
   },
   "outputs": [],
   "source": [
    "submission['RankOrder'] = submission['Prob'].rank(ascending=False, method = 'first')\n",
    "submission['RankOrder'] = submission['RankOrder'].astype(np.int64)"
   ]
  },
  {
   "cell_type": "code",
   "execution_count": null,
   "metadata": {},
   "outputs": [],
   "source": [
    "submission1 = pd.DataFrame()\n",
    "submission1['EventId'] = submission['EventId']\n",
    "submission1['RankOrder'] = submission['RankOrder']\n",
    "submission1['Class'] = submission['Class']\n",
    "submission1"
   ]
  },
  {
   "cell_type": "code",
   "execution_count": null,
   "metadata": {
    "collapsed": true
   },
   "outputs": [],
   "source": [
    "submission1.to_csv('submission1.csv', index =False)"
   ]
  },
  {
   "cell_type": "code",
   "execution_count": null,
   "metadata": {
    "collapsed": true
   },
   "outputs": [],
   "source": [
    "pred2 = clf_RF_nonw.predict(test_set)\n",
    "prob2 = clf_RF_nonw.predict_proba(test_set)"
   ]
  },
  {
   "cell_type": "code",
   "execution_count": null,
   "metadata": {
    "collapsed": true
   },
   "outputs": [],
   "source": [
    "pred2 = pd.DataFrame(pred2)\n",
    "prob2 = pd.DataFrame(prob2)"
   ]
  },
  {
   "cell_type": "code",
   "execution_count": null,
   "metadata": {
    "collapsed": true
   },
   "outputs": [],
   "source": [
    "submission2 = pd.DataFrame()\n",
    "\n",
    "submission2['EventId'] = raw_test_set['EventId']\n",
    "submission2['Class'] = pd.DataFrame(pred2).replace([0,1],['b','s'])\n",
    "submission2['Prob'] = prob2[0]"
   ]
  },
  {
   "cell_type": "code",
   "execution_count": null,
   "metadata": {
    "collapsed": true
   },
   "outputs": [],
   "source": [
    "submission2['RankOrder'] = submission2['Prob'].rank(ascending=False, method = 'first')\n",
    "submission2['RankOrder'] = submission2['RankOrder'].astype(np.int64)"
   ]
  },
  {
   "cell_type": "code",
   "execution_count": null,
   "metadata": {
    "collapsed": true
   },
   "outputs": [],
   "source": [
    "submission2a = pd.DataFrame()\n",
    "submission2a['EventId'] = submission2['EventId']\n",
    "submission2a['RankOrder'] = submission2['RankOrder']\n",
    "submission2a['Class'] = submission2['Class']\n"
   ]
  },
  {
   "cell_type": "code",
   "execution_count": null,
   "metadata": {
    "collapsed": true
   },
   "outputs": [],
   "source": [
    "submission2a.to_csv('submission2.csv', index =False)"
   ]
  },
  {
   "cell_type": "code",
   "execution_count": null,
   "metadata": {
    "collapsed": true
   },
   "outputs": [],
   "source": [
    "test_set = (test_set - test_set.mean())/test_set.std()"
   ]
  },
  {
   "cell_type": "code",
   "execution_count": null,
   "metadata": {
    "collapsed": true
   },
   "outputs": [],
   "source": [
    "pred3 = clf_GB.predict(test_set)\n",
    "prob3 = clf_GB.predict_proba(test_set)\n",
    "pred3 = pd.DataFrame(pred3)\n",
    "prob3 = pd.DataFrame(prob3)"
   ]
  },
  {
   "cell_type": "code",
   "execution_count": null,
   "metadata": {
    "collapsed": true
   },
   "outputs": [],
   "source": [
    "submission3 = pd.DataFrame()\n",
    "\n",
    "submission3['EventId'] = raw_test_set['EventId']\n",
    "submission3['Class'] = pd.DataFrame(pred3).replace([0,1],['b','s'])\n",
    "submission3['Prob'] = prob3[0]\n",
    "submission3['RankOrder'] = submission3['Prob'].rank(ascending=False, method = 'first')\n",
    "submission3['RankOrder'] = submission3['RankOrder'].astype(np.int64)"
   ]
  },
  {
   "cell_type": "code",
   "execution_count": null,
   "metadata": {
    "collapsed": true
   },
   "outputs": [],
   "source": [
    "submission3a = pd.DataFrame()\n",
    "submission3a['EventId'] = submission3['EventId']\n",
    "submission3a['RankOrder'] = submission3['RankOrder']\n",
    "submission3a['Class'] = submission3['Class']"
   ]
  },
  {
   "cell_type": "code",
   "execution_count": null,
   "metadata": {
    "collapsed": true
   },
   "outputs": [],
   "source": [
    "submission3a.to_csv('submission3.csv', index =False)"
   ]
  },
  {
   "cell_type": "code",
   "execution_count": null,
   "metadata": {},
   "outputs": [],
   "source": [
    "pred4 = clf_SVM.predict(test_set)\n",
    "prob4 = clf_SVM.predict_proba(test_set)\n",
    "pred4 = pd.DataFrame(pred4)\n",
    "prob4 = pd.DataFrame(prob4)"
   ]
  },
  {
   "cell_type": "code",
   "execution_count": null,
   "metadata": {
    "collapsed": true
   },
   "outputs": [],
   "source": [
    "submission4 = pd.DataFrame()\n",
    "\n",
    "submission4['EventId'] = raw_test_set['EventId']\n",
    "submission4['Class'] = pd.DataFrame(pred4).replace([0,1],['b','s'])\n",
    "submission4['Prob'] = prob4[0]\n",
    "submission4['RankOrder'] = submission4['Prob'].rank(ascending=False, method = 'first')\n",
    "submission4['RankOrder'] = submission4['RankOrder'].astype(np.int64)"
   ]
  },
  {
   "cell_type": "code",
   "execution_count": null,
   "metadata": {},
   "outputs": [],
   "source": [
    "pred4"
   ]
  },
  {
   "cell_type": "code",
   "execution_count": null,
   "metadata": {
    "collapsed": true
   },
   "outputs": [],
   "source": [
    "submission4a = pd.DataFrame()\n",
    "submission4a['EventId'] = submission4['EventId']\n",
    "submission4a['RankOrder'] = submission4['RankOrder']\n",
    "submission4a['Class'] = submission4['Class']"
   ]
  },
  {
   "cell_type": "code",
   "execution_count": null,
   "metadata": {
    "collapsed": true
   },
   "outputs": [],
   "source": [
    "def submission_data_frame (clf, testset):\n",
    "    \"\"\"\n",
    "    Takes classifer and outputs dataframe in \n",
    "    submission form for Higgs competition\n",
    "    \"\"\"\n",
    "    \n",
    "    pred5 = clf.predict(testset)\n",
    "    prob5 = clf.predict_proba(testset)\n",
    "    pred5 = pd.DataFrame(pred5)\n",
    "    prob5 = pd.DataFrame(prob5)\n",
    "    submission5 = pd.DataFrame()\n",
    "\n",
    "    submission5['EventId'] = raw_test_set['EventId']\n",
    "    submission5['Class'] = pd.DataFrame(pred5).replace([0,1],['b','s'])\n",
    "    submission5['Prob'] = prob5[0]\n",
    "    submission5['RankOrder'] = submission5['Prob'].rank(ascending=False, method = 'first')\n",
    "    submission5['RankOrder'] = submission5['RankOrder'].astype(np.int64)\n",
    "    \n",
    "    submission5a = pd.DataFrame()\n",
    "    submission5a['EventId'] = submission5['EventId']\n",
    "    submission5a['RankOrder'] = submission5['RankOrder']\n",
    "    submission5a['Class'] = submission5['Class']\n",
    "    \n",
    "    return submission5a"
   ]
  },
  {
   "cell_type": "code",
   "execution_count": null,
   "metadata": {
    "collapsed": true
   },
   "outputs": [],
   "source": [
    "submission_NN = submission_data_frame(clf_NN, test_set)"
   ]
  },
  {
   "cell_type": "code",
   "execution_count": null,
   "metadata": {
    "collapsed": true
   },
   "outputs": [],
   "source": [
    "submission_NN.to_csv('submission_NN.csv', index=False)"
   ]
  },
  {
   "cell_type": "code",
   "execution_count": null,
   "metadata": {},
   "outputs": [],
   "source": [
    "from sklearn.ensemble import VotingClassifier\n",
    "\n",
    "eclf1 = VotingClassifier(estimators=[\n",
    "        ('rf', clf_RF_nonw),  ('gb', clf_GB), ('nn',clf_NN)\n",
    "], voting='hard')\n",
    "eclf1.fit(X_train, Y_train)"
   ]
  },
  {
   "cell_type": "code",
   "execution_count": null,
   "metadata": {
    "collapsed": true
   },
   "outputs": [],
   "source": [
    "pred4 = eclf1.predict(test_set)"
   ]
  },
  {
   "cell_type": "code",
   "execution_count": null,
   "metadata": {
    "collapsed": true
   },
   "outputs": [],
   "source": [
    "pred4 = pd.DataFrame(pred4)"
   ]
  },
  {
   "cell_type": "code",
   "execution_count": null,
   "metadata": {
    "collapsed": true
   },
   "outputs": [],
   "source": [
    "pred4 = pred4.replace([0,1],['b','s'])"
   ]
  },
  {
   "cell_type": "code",
   "execution_count": null,
   "metadata": {
    "collapsed": true
   },
   "outputs": [],
   "source": []
  },
  {
   "cell_type": "code",
   "execution_count": null,
   "metadata": {
    "collapsed": true
   },
   "outputs": [],
   "source": [
    "pred4.to_csv(\"submission_ens_voting.csv\",  index=False)"
   ]
  },
  {
   "cell_type": "markdown",
   "metadata": {},
   "source": [
    "## Stacking"
   ]
  },
  {
   "cell_type": "code",
   "execution_count": null,
   "metadata": {
    "collapsed": true
   },
   "outputs": [],
   "source": [
    "pred_mat = pd.DataFrame()\n",
    "pred_mat['RF'] = clf_RF.predict(X_train)\n",
    "pred_mat['GB'] = clf_GB.predict(X_train)\n",
    "pred_mat['NN'] = clf_NN.predict(X_train)"
   ]
  },
  {
   "cell_type": "code",
   "execution_count": null,
   "metadata": {
    "collapsed": true
   },
   "outputs": [],
   "source": [
    "clf_stack_LR = linear_model.LogisticRegression()\n",
    "clf_stack_LR.fit(pred_mat, Y_train)z"
   ]
  }
 ],
 "metadata": {
  "kernelspec": {
   "display_name": "Python 3",
   "language": "python",
   "name": "python3"
  },
  "language_info": {
   "codemirror_mode": {
    "name": "ipython",
    "version": 3
   },
   "file_extension": ".py",
   "mimetype": "text/x-python",
   "name": "python",
   "nbconvert_exporter": "python",
   "pygments_lexer": "ipython3",
   "version": "3.7.4"
  }
 },
 "nbformat": 4,
 "nbformat_minor": 2
}
